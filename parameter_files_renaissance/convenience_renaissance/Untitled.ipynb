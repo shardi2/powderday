{
 "cells": [
  {
   "cell_type": "code",
   "execution_count": 1,
   "id": "208bc0b5",
   "metadata": {},
   "outputs": [
    {
     "name": "stderr",
     "output_type": "stream",
     "text": [
      "/storage/home/hcoda1/7/shardin31/.conda/envs/Pandeia_2/lib/python3.11/site-packages/Hyperion-0.0.0-py3.11-linux-x86_64.egg/hyperion/model/analytical_yso_model.py:496: SyntaxWarning: \"is\" with a literal. Did you mean \"==\"?\n",
      "/storage/home/hcoda1/7/shardin31/.conda/envs/Pandeia_2/lib/python3.11/site-packages/Hyperion-0.0.0-py3.11-linux-x86_64.egg/hyperion/model/analytical_yso_model.py:498: SyntaxWarning: \"is\" with a literal. Did you mean \"==\"?\n",
      "/storage/home/hcoda1/7/shardin31/.conda/envs/Pandeia_2/lib/python3.11/site-packages/Hyperion-0.0.0-py3.11-linux-x86_64.egg/hyperion/model/analytical_yso_model.py:575: SyntaxWarning: \"is\" with a literal. Did you mean \"==\"?\n",
      "/storage/home/hcoda1/7/shardin31/.conda/envs/Pandeia_2/lib/python3.11/site-packages/Hyperion-0.0.0-py3.11-linux-x86_64.egg/hyperion/model/analytical_yso_model.py:581: SyntaxWarning: \"is\" with a literal. Did you mean \"==\"?\n",
      "/storage/home/hcoda1/7/shardin31/.conda/envs/Pandeia_2/lib/python3.11/site-packages/Hyperion-0.0.0-py3.11-linux-x86_64.egg/hyperion/model/analytical_yso_model.py:619: SyntaxWarning: \"is\" with a literal. Did you mean \"==\"?\n",
      "/storage/home/hcoda1/7/shardin31/.conda/envs/Pandeia_2/lib/python3.11/site-packages/Hyperion-0.0.0-py3.11-linux-x86_64.egg/hyperion/model/analytical_yso_model.py:496: SyntaxWarning: \"is\" with a literal. Did you mean \"==\"?\n",
      "/storage/home/hcoda1/7/shardin31/.conda/envs/Pandeia_2/lib/python3.11/site-packages/Hyperion-0.0.0-py3.11-linux-x86_64.egg/hyperion/model/analytical_yso_model.py:498: SyntaxWarning: \"is\" with a literal. Did you mean \"==\"?\n",
      "/storage/home/hcoda1/7/shardin31/.conda/envs/Pandeia_2/lib/python3.11/site-packages/Hyperion-0.0.0-py3.11-linux-x86_64.egg/hyperion/model/analytical_yso_model.py:575: SyntaxWarning: \"is\" with a literal. Did you mean \"==\"?\n",
      "/storage/home/hcoda1/7/shardin31/.conda/envs/Pandeia_2/lib/python3.11/site-packages/Hyperion-0.0.0-py3.11-linux-x86_64.egg/hyperion/model/analytical_yso_model.py:581: SyntaxWarning: \"is\" with a literal. Did you mean \"==\"?\n",
      "/storage/home/hcoda1/7/shardin31/.conda/envs/Pandeia_2/lib/python3.11/site-packages/Hyperion-0.0.0-py3.11-linux-x86_64.egg/hyperion/model/analytical_yso_model.py:619: SyntaxWarning: \"is\" with a literal. Did you mean \"==\"?\n"
     ]
    }
   ],
   "source": [
    "import json\n",
    "from pandeia.engine.perform_calculation import perform_calculation\n",
    "import matplotlib.pyplot as plt\n",
    "from pandeia.engine.calc_utils import build_default_calc\n",
    "from hyperion.model import ModelOutput\n",
    "import numpy as np\n",
    "from astropy.cosmology import Planck13\n",
    "from astropy import units as u\n",
    "from astropy import constants\n",
    "from astropy.modeling import models\n",
    "import petrofit as pf\n",
    "np.set_printoptions(threshold=np.inf)\n",
    "\n",
    "\n",
    "from hyperion.model import ModelOutput\n",
    "import h5py\n",
    "import sys"
   ]
  },
  {
   "cell_type": "code",
   "execution_count": 5,
   "id": "2abd5614",
   "metadata": {},
   "outputs": [
    {
     "name": "stdout",
     "output_type": "stream",
     "text": [
      "0.7434509376951656 deg\n"
     ]
    }
   ],
   "source": [
    "z = 14.999999224523\n",
    "\n",
    "m_image = ModelOutput('/storage/home/hcoda1/7/shardin31/p-jw254-0/Research/summer2023/pd_test/run_renaissance_1000000/halo_0/example.0000.rtout.image')\n",
    "\n",
    "wav_image = 0.55816454  # micron\n",
    "\n",
    "image = m_image.get_image(units='ergs/s')\n",
    "\n",
    "# Find the closest wavelength\n",
    "iwav = np.argmin(np.abs(wav_image - image.wav))\n",
    "\n",
    "image_og = image.val[0, :, :, iwav]\n",
    "\n",
    "# Calculate the image width in pc\n",
    "w_image = image.x_max * u.cm\n",
    "w_image = w_image.to(u.pc)\n",
    "\n",
    "dl_pc = Planck13.angular_diameter_distance(z)\n",
    "#dl_pc = Planck13.luminosity_distance(z)\n",
    "dl_pc = dl_pc.to(u.pc)\n",
    "\n",
    "#width in arcsec = field of view in arcsec\n",
    "w_image_deg = np.degrees(u.rad * (w_image) / dl_pc) * 3600. \n",
    "\n",
    "print(w_image_deg)"
   ]
  },
  {
   "cell_type": "code",
   "execution_count": null,
   "id": "4b4078e7",
   "metadata": {},
   "outputs": [],
   "source": []
  },
  {
   "cell_type": "code",
   "execution_count": null,
   "id": "70e8d566",
   "metadata": {},
   "outputs": [],
   "source": []
  }
 ],
 "metadata": {
  "kernelspec": {
   "display_name": "Python [conda env:.conda-Pandeia_2]",
   "language": "python",
   "name": "conda-env-.conda-Pandeia_2-py"
  },
  "language_info": {
   "codemirror_mode": {
    "name": "ipython",
    "version": 3
   },
   "file_extension": ".py",
   "mimetype": "text/x-python",
   "name": "python",
   "nbconvert_exporter": "python",
   "pygments_lexer": "ipython3",
   "version": "3.11.3"
  }
 },
 "nbformat": 4,
 "nbformat_minor": 5
}
