{
 "cells": [
  {
   "cell_type": "code",
   "execution_count": 1,
   "id": "f23d8f21",
   "metadata": {},
   "outputs": [
    {
     "name": "stderr",
     "output_type": "stream",
     "text": [
      "/storage/home/hcoda1/7/shardin31/.conda/envs/Pandeia_2/lib/python3.11/site-packages/Hyperion-0.0.0-py3.11-linux-x86_64.egg/hyperion/model/analytical_yso_model.py:496: SyntaxWarning: \"is\" with a literal. Did you mean \"==\"?\n",
      "/storage/home/hcoda1/7/shardin31/.conda/envs/Pandeia_2/lib/python3.11/site-packages/Hyperion-0.0.0-py3.11-linux-x86_64.egg/hyperion/model/analytical_yso_model.py:498: SyntaxWarning: \"is\" with a literal. Did you mean \"==\"?\n",
      "/storage/home/hcoda1/7/shardin31/.conda/envs/Pandeia_2/lib/python3.11/site-packages/Hyperion-0.0.0-py3.11-linux-x86_64.egg/hyperion/model/analytical_yso_model.py:575: SyntaxWarning: \"is\" with a literal. Did you mean \"==\"?\n",
      "/storage/home/hcoda1/7/shardin31/.conda/envs/Pandeia_2/lib/python3.11/site-packages/Hyperion-0.0.0-py3.11-linux-x86_64.egg/hyperion/model/analytical_yso_model.py:581: SyntaxWarning: \"is\" with a literal. Did you mean \"==\"?\n",
      "/storage/home/hcoda1/7/shardin31/.conda/envs/Pandeia_2/lib/python3.11/site-packages/Hyperion-0.0.0-py3.11-linux-x86_64.egg/hyperion/model/analytical_yso_model.py:619: SyntaxWarning: \"is\" with a literal. Did you mean \"==\"?\n",
      "/storage/home/hcoda1/7/shardin31/.conda/envs/Pandeia_2/lib/python3.11/site-packages/Hyperion-0.0.0-py3.11-linux-x86_64.egg/hyperion/model/analytical_yso_model.py:496: SyntaxWarning: \"is\" with a literal. Did you mean \"==\"?\n",
      "/storage/home/hcoda1/7/shardin31/.conda/envs/Pandeia_2/lib/python3.11/site-packages/Hyperion-0.0.0-py3.11-linux-x86_64.egg/hyperion/model/analytical_yso_model.py:498: SyntaxWarning: \"is\" with a literal. Did you mean \"==\"?\n",
      "/storage/home/hcoda1/7/shardin31/.conda/envs/Pandeia_2/lib/python3.11/site-packages/Hyperion-0.0.0-py3.11-linux-x86_64.egg/hyperion/model/analytical_yso_model.py:575: SyntaxWarning: \"is\" with a literal. Did you mean \"==\"?\n",
      "/storage/home/hcoda1/7/shardin31/.conda/envs/Pandeia_2/lib/python3.11/site-packages/Hyperion-0.0.0-py3.11-linux-x86_64.egg/hyperion/model/analytical_yso_model.py:581: SyntaxWarning: \"is\" with a literal. Did you mean \"==\"?\n",
      "/storage/home/hcoda1/7/shardin31/.conda/envs/Pandeia_2/lib/python3.11/site-packages/Hyperion-0.0.0-py3.11-linux-x86_64.egg/hyperion/model/analytical_yso_model.py:619: SyntaxWarning: \"is\" with a literal. Did you mean \"==\"?\n"
     ]
    }
   ],
   "source": [
    "import matplotlib\n",
    "matplotlib.use('Agg')\n",
    "\n",
    "import numpy as np\n",
    "import matplotlib.pyplot as plt\n",
    "from hyperion.model import ModelOutput\n",
    "from astropy.cosmology import Planck13\n",
    "from astropy import units as u\n",
    "from astropy import constants\n",
    "from hyperion.util.constants import pc\n",
    "import h5py\n",
    "import os\n",
    "import sys\n",
    "\n",
    "np.set_printoptions(threshold=sys.maxsize)\n"
   ]
  },
  {
   "cell_type": "code",
   "execution_count": 2,
   "id": "1ee93bcc",
   "metadata": {},
   "outputs": [],
   "source": [
    "#make image single wavelength\n",
    "def make_image_single_wavelength(wav, m):\n",
    "    # Get the image from the ModelOutput object\n",
    "    image = m.get_image(units='ergs/s')\n",
    "\n",
    "    # Open figure and create axes\n",
    "    fig = plt.figure()\n",
    "    ax = fig.add_subplot(111)\n",
    "\n",
    "    # Find the closest wavelength\n",
    "    iwav = np.argmin(np.abs(wav - image.wav))\n",
    "\n",
    "    # Calculate the image width in kpc\n",
    "    w = image.x_max * u.cm\n",
    "    w = w.to(u.kpc)\n",
    "    \n",
    "    cax = ax.imshow(np.log10(image.val[0, :, :, iwav]), cmap=plt.cm.viridis,\n",
    "                origin='lower', extent=[-w.value, w.value, -w.value, w.value])\n",
    "    \n",
    "    ax.tick_params(axis='both', which='major', labelsize=10)\n",
    "    ax.set_xlabel('x (kpc)')\n",
    "    ax.set_xlabel('y (kpc)')\n",
    "\n",
    "    plt.colorbar(cax, label='log10 Luminosity (ergs/s)')\n"
   ]
  },
  {
   "cell_type": "code",
   "execution_count": 4,
   "id": "a3779006",
   "metadata": {},
   "outputs": [
    {
     "name": "stderr",
     "output_type": "stream",
     "text": [
      "/tmp/ipykernel_691811/1967158787.py:17: RuntimeWarning: divide by zero encountered in log10\n",
      "  cax = ax.imshow(np.log10(image.val[0, :, :, iwav]), cmap=plt.cm.viridis,\n"
     ]
    },
    {
     "data": {
      "text/plain": [
       "<matplotlib.colorbar.Colorbar at 0x15550be30110>"
      ]
     },
     "execution_count": 4,
     "metadata": {},
     "output_type": "execute_result"
    }
   ],
   "source": [
    "m = ModelOutput('/storage/home/hcoda1/7/shardin31/p-jw254-0/Research/summer2023/pd_test/run_10000000/halo_1/example.0001.rtout.image')\n",
    "wav = 0.55816454\n",
    "\n",
    "image = m.get_image(units='ergs/s')\n",
    "\n",
    "# Open figure and create axes\n",
    "fig = plt.figure()\n",
    "ax = fig.add_subplot(111)\n",
    "\n",
    "# Find the closest wavelength\n",
    "iwav = np.argmin(np.abs(wav - image.wav))\n",
    "\n",
    "# Calculate the image width in kpc\n",
    "w = image.x_max * u.cm\n",
    "w = w.to(u.kpc)\n",
    "\n",
    "cax = ax.imshow(np.log10(image.val[0, :, :, iwav]), cmap=plt.cm.viridis,\n",
    "            origin='lower', extent=[-w.value, w.value, -w.value, w.value])\n",
    "\n",
    "ax.tick_params(axis='both', which='major', labelsize=10)\n",
    "ax.set_xlabel('x (kpc)')\n",
    "ax.set_xlabel('y (kpc)')\n",
    "\n",
    "plt.colorbar(cax, label='log10 Luminosity (ergs/s)')\n",
    "\n",
    "#make_image_single_wavelength(wav, m)"
   ]
  },
  {
   "cell_type": "code",
   "execution_count": 7,
   "id": "a93d9aa3",
   "metadata": {},
   "outputs": [
    {
     "name": "stderr",
     "output_type": "stream",
     "text": [
      "/tmp/ipykernel_4031032/189562089.py:38: RuntimeWarning: divide by zero encountered in log10\n",
      "  cax = ax.imshow(np.log10(image.val[0, :, :, iwav]), cmap=plt.cm.viridis,\n"
     ]
    }
   ],
   "source": [
    "import numpy as np\n",
    "import matplotlib.pyplot as plt\n",
    "from hyperion.model import ModelOutput\n",
    "import astropy.units as u\n",
    "import h5py\n",
    "import sys\n",
    "import numpy\n",
    "numpy.set_printoptions(threshold=sys.maxsize)\n",
    "\n",
    "# ------------------------\n",
    "# modifiable header\n",
    "# ------------------------\n",
    "\n",
    "m = ModelOutput('/storage/home/hcoda1/7/shardin31/p-jw254-0/Research/summer2023/pd_test/run_renaissance_1000000/halo_1/example.0001.rtout.image')\n",
    "#'/storage/home/hcoda1/7/shardin31/p-jw254-0/Research/summer2023/pd_test/run_10000/pd_image/example.0000.rtout.image')\n",
    "wav = 0.55816454  # micron\n",
    "#f = h5py.File(\"/storage/home/hcoda1/7/shardin31/p-jw254-0/Research/Powderday/powderday/parameter_files_renaissance/final_dataset_halo_catalog.hdf5\", \"a\")\n",
    "#f = h5py.File(\"final_dataset_halo_catalog.hdf5\", \"a\")\n",
    "# ------------------------\n",
    "\n",
    "# Get the image from the ModelOutput object\n",
    "image = m.get_image(units='ergs/s')\n",
    "\n",
    "# Open figure and create axes\n",
    "fig = plt.figure()\n",
    "ax = fig.add_subplot(111)\n",
    "\n",
    "# Find the closest wavelength\n",
    "iwav = np.argmin(np.abs(wav - image.wav))\n",
    "\n",
    "# Calculate the image width in kpc\n",
    "w = image.x_max * u.cm\n",
    "w = w.to(u.kpc)\n",
    "\n",
    "# plot the beast\n",
    "#cax = ax.imshow(final_image_log, cmap=plt.cm.viridis, vmin=minv, vmax=maxv,\n",
    "#                origin='lower', extent=[-w.value, w.value, -w.value, w.value])\n",
    "cax = ax.imshow(np.log10(image.val[0, :, :, iwav]), cmap=plt.cm.viridis,\n",
    "                origin='lower', extent=[-w.value/2, w.value/2, -w.value/2, w.value/2])\n",
    "#, norm=colors.LogNorm())\n",
    "\n",
    "#print(image.val[0, :, :, iwav])\n",
    "\n",
    "#print(np.log10(image.val[0, :, :, iwav]))\n",
    "\n",
    "# Finalize the plot\n",
    "ax.tick_params(axis='both', which='major', labelsize=10)\n",
    "ax.set_xlabel('x (kpc)')\n",
    "ax.set_xlabel('y (kpc)')\n",
    "ax.set_title(\"Most massive halo, no psf\")\n",
    "\n",
    "plt.colorbar(cax, label='log10 Luminosity (ergs/s)')\n",
    "\n",
    "plt.show()"
   ]
  },
  {
   "cell_type": "code",
   "execution_count": null,
   "id": "a6539f12",
   "metadata": {},
   "outputs": [],
   "source": []
  }
 ],
 "metadata": {
  "kernelspec": {
   "display_name": "Python [conda env:.conda-Pandeia_2]",
   "language": "python",
   "name": "conda-env-.conda-Pandeia_2-py"
  },
  "language_info": {
   "codemirror_mode": {
    "name": "ipython",
    "version": 3
   },
   "file_extension": ".py",
   "mimetype": "text/x-python",
   "name": "python",
   "nbconvert_exporter": "python",
   "pygments_lexer": "ipython3",
   "version": "3.11.3"
  }
 },
 "nbformat": 4,
 "nbformat_minor": 5
}
