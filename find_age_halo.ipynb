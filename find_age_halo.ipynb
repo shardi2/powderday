{
 "cells": [
  {
   "cell_type": "code",
   "execution_count": 1,
   "id": "a3923dea",
   "metadata": {},
   "outputs": [
    {
     "name": "stderr",
     "output_type": "stream",
     "text": [
      "yt : [INFO     ] 2024-04-24 00:18:18,534 Loading plugins from /storage/home/hcoda1/7/shardin31/.config/yt/my_plugins.py\n"
     ]
    }
   ],
   "source": [
    "import yt\n",
    "import ytree\n",
    "yt.enable_plugins()"
   ]
  },
  {
   "cell_type": "code",
   "execution_count": 2,
   "id": "ae381612",
   "metadata": {},
   "outputs": [
    {
     "name": "stderr",
     "output_type": "stream",
     "text": [
      "yt : [INFO     ] 2024-04-24 00:18:31,894 Parameters: current_time              = 69.75987995114\n",
      "yt : [INFO     ] 2024-04-24 00:18:31,896 Parameters: domain_dimensions         = [64 64 64]\n",
      "yt : [INFO     ] 2024-04-24 00:18:31,898 Parameters: domain_left_edge          = [0. 0. 0.]\n",
      "yt : [INFO     ] 2024-04-24 00:18:31,900 Parameters: domain_right_edge         = [1. 1. 1.]\n",
      "yt : [INFO     ] 2024-04-24 00:18:31,901 Parameters: cosmological_simulation   = 1\n",
      "yt : [INFO     ] 2024-04-24 00:18:31,903 Parameters: current_redshift          = 11.886304308182\n",
      "yt : [INFO     ] 2024-04-24 00:18:31,904 Parameters: omega_lambda              = 0.6889\n",
      "yt : [INFO     ] 2024-04-24 00:18:31,905 Parameters: omega_matter              = 0.3111\n",
      "yt : [INFO     ] 2024-04-24 00:18:31,906 Parameters: omega_radiation           = 0\n",
      "yt : [INFO     ] 2024-04-24 00:18:31,907 Parameters: hubble_constant           = 0.6766\n",
      "yt : [WARNING  ] 2024-04-24 00:18:31,911 The p2 particle filter already exists. Overriding.\n",
      "Parsing Hierarchy : 100%|██████████| 1311/1311 [00:00<00:00, 7376.15it/s]\n",
      "yt : [INFO     ] 2024-04-24 00:18:32,139 Gathering a field list (this may take a moment.)\n"
     ]
    },
    {
     "data": {
      "text/plain": [
       "[('all', 'creation_time'),\n",
       " ('all', 'dynamical_time'),\n",
       " ('all', 'metallicity_fraction'),\n",
       " ('all', 'particle_index'),\n",
       " ('all', 'particle_mass'),\n",
       " ('all', 'particle_position_x'),\n",
       " ('all', 'particle_position_y'),\n",
       " ('all', 'particle_position_z'),\n",
       " ('all', 'particle_type'),\n",
       " ('all', 'particle_velocity_x'),\n",
       " ('all', 'particle_velocity_y'),\n",
       " ('all', 'particle_velocity_z'),\n",
       " ('enzo', 'DII_Density'),\n",
       " ('enzo', 'DI_Density'),\n",
       " ('enzo', 'Dark_Matter_Density'),\n",
       " ('enzo', 'Density'),\n",
       " ('enzo', 'Electron_Density'),\n",
       " ('enzo', 'GasEnergy'),\n",
       " ('enzo', 'H2II_Density'),\n",
       " ('enzo', 'H2II_kdiss'),\n",
       " ('enzo', 'H2I_Density'),\n",
       " ('enzo', 'H2I_kdiss'),\n",
       " ('enzo', 'HDI_Density'),\n",
       " ('enzo', 'HII_Density'),\n",
       " ('enzo', 'HI_Density'),\n",
       " ('enzo', 'HI_kph'),\n",
       " ('enzo', 'HM_Density'),\n",
       " ('enzo', 'HM_kph'),\n",
       " ('enzo', 'HeIII_Density'),\n",
       " ('enzo', 'HeII_Density'),\n",
       " ('enzo', 'HeII_kph'),\n",
       " ('enzo', 'HeI_Density'),\n",
       " ('enzo', 'HeI_kph'),\n",
       " ('enzo', 'Metal_Density'),\n",
       " ('enzo', 'Particle_x-velocity'),\n",
       " ('enzo', 'Particle_y-velocity'),\n",
       " ('enzo', 'Particle_z-velocity'),\n",
       " ('enzo', 'PhotoGamma'),\n",
       " ('enzo', 'RadAccel1'),\n",
       " ('enzo', 'RadAccel2'),\n",
       " ('enzo', 'RadAccel3'),\n",
       " ('enzo', 'Ray_Segments'),\n",
       " ('enzo', 'SN_Colour'),\n",
       " ('enzo', 'Temperature'),\n",
       " ('enzo', 'TotalEnergy'),\n",
       " ('enzo', 'Velocity_Dispersion'),\n",
       " ('enzo', 'x-velocity'),\n",
       " ('enzo', 'y-velocity'),\n",
       " ('enzo', 'z-velocity'),\n",
       " ('io', 'creation_time'),\n",
       " ('io', 'dynamical_time'),\n",
       " ('io', 'metallicity_fraction'),\n",
       " ('io', 'particle_index'),\n",
       " ('io', 'particle_mass'),\n",
       " ('io', 'particle_position_x'),\n",
       " ('io', 'particle_position_y'),\n",
       " ('io', 'particle_position_z'),\n",
       " ('io', 'particle_type'),\n",
       " ('io', 'particle_velocity_x'),\n",
       " ('io', 'particle_velocity_y'),\n",
       " ('io', 'particle_velocity_z'),\n",
       " ('nbody', 'creation_time'),\n",
       " ('nbody', 'dynamical_time'),\n",
       " ('nbody', 'metallicity_fraction'),\n",
       " ('nbody', 'particle_index'),\n",
       " ('nbody', 'particle_mass'),\n",
       " ('nbody', 'particle_position_x'),\n",
       " ('nbody', 'particle_position_y'),\n",
       " ('nbody', 'particle_position_z'),\n",
       " ('nbody', 'particle_type'),\n",
       " ('nbody', 'particle_velocity_x'),\n",
       " ('nbody', 'particle_velocity_y'),\n",
       " ('nbody', 'particle_velocity_z')]"
      ]
     },
     "execution_count": 2,
     "metadata": {},
     "output_type": "execute_result"
    }
   ],
   "source": [
    "ds = yt.load('/storage/home/hcoda1/0/jw254/data/SG64-2020/DD0090/output_0090')\n",
    "\n",
    "def p2(pfilter, data):\n",
    "    return (data[('nbody', 'particle_type')] == 7)\n",
    "yt.add_particle_filter(function=p2, name='p2', requires=['particle_mass', 'particle_type'])\n",
    "\n",
    "ds.add_particle_filter(\"p2\")\n",
    "ds.field_list"
   ]
  },
  {
   "cell_type": "code",
   "execution_count": 3,
   "id": "b7088709",
   "metadata": {},
   "outputs": [
    {
     "data": {
      "text/plain": [
       "['scale_factor',\n",
       " 'uid',\n",
       " 'desc_scale',\n",
       " 'desc_uid',\n",
       " 'num_prog',\n",
       " 'pid',\n",
       " 'upid',\n",
       " 'desc_pid',\n",
       " 'phantom',\n",
       " 'sam_Mvir',\n",
       " 'mass',\n",
       " 'virial_radius',\n",
       " 'scale_radius',\n",
       " 'velocity_dispersion',\n",
       " 'mmp?',\n",
       " 'scale_of_last_MM',\n",
       " 'vmax',\n",
       " 'position_x',\n",
       " 'position_y',\n",
       " 'position_z',\n",
       " 'velocity_x',\n",
       " 'velocity_y',\n",
       " 'velocity_z',\n",
       " 'angular_momentum_x',\n",
       " 'angular_momentum_y',\n",
       " 'angular_momentum_z',\n",
       " 'spin_parameter',\n",
       " 'Breadth_first_ID',\n",
       " 'Depth_first_ID',\n",
       " 'Tree_root_ID',\n",
       " 'halo_id',\n",
       " 'Snap_idx',\n",
       " 'Next_coprogenitor_depthfirst_ID',\n",
       " 'Last_progenitor_depthfirst_ID',\n",
       " 'Last_mainleaf_depthfirst_ID',\n",
       " 'Tidal_Force',\n",
       " 'Tidal_ID',\n",
       " 'Rs_Klypin',\n",
       " 'Mvir_all',\n",
       " 'M200b',\n",
       " 'M200c',\n",
       " 'M500c',\n",
       " 'M2500c',\n",
       " 'Xoff',\n",
       " 'Voff',\n",
       " 'Spin_Bullock',\n",
       " 'b_to_a',\n",
       " 'c_to_a',\n",
       " 'A[x]',\n",
       " 'A[y]',\n",
       " 'A[z]',\n",
       " 'b_to_a(500c)',\n",
       " 'c_to_a(500c)',\n",
       " 'A[x](500c)',\n",
       " 'A[y](500c)',\n",
       " 'A[z](500c)',\n",
       " 'T_|U|',\n",
       " 'M_pe_Behroozi',\n",
       " 'M_pe_Diemer',\n",
       " 'Type',\n",
       " 'SM',\n",
       " 'Gas',\n",
       " 'BH_Mass',\n",
       " 'stellar_mass']"
      ]
     },
     "execution_count": 3,
     "metadata": {},
     "output_type": "execute_result"
    }
   ],
   "source": [
    "a = ytree.load('/storage/home/hcoda1/7/shardin31/p-jw254-0/Research/Powderday/powderday/arbor/arbor.h5')\n",
    "a.field_list"
   ]
  },
  {
   "cell_type": "code",
   "execution_count": 7,
   "id": "e834e6b4",
   "metadata": {},
   "outputs": [
    {
     "name": "stdout",
     "output_type": "stream",
     "text": [
      "0.23466334 kpc\n",
      "3.0239432 kpc\n"
     ]
    }
   ],
   "source": [
    "radius = ds.quan(a[32]['prog', 'virial_radius'][34], 'kpccm')\n",
    "radius = radius.to('kpc')\n",
    "#print(radius.to('kpc'))\n",
    "print(radius)\n",
    "print(a[32]['prog', 'virial_radius'][34])"
   ]
  },
  {
   "cell_type": "code",
   "execution_count": 8,
   "id": "ac1628f0",
   "metadata": {},
   "outputs": [
    {
     "name": "stdout",
     "output_type": "stream",
     "text": [
      "[0.52386934 0.51235586 0.5181939 ] unitary\n"
     ]
    }
   ],
   "source": [
    "center = a[32]['prog', 'position'][34]\n",
    "print(center)"
   ]
  },
  {
   "cell_type": "code",
   "execution_count": 9,
   "id": "607710eb",
   "metadata": {},
   "outputs": [],
   "source": [
    "ad = ds.sphere(center, radius)"
   ]
  },
  {
   "cell_type": "code",
   "execution_count": 10,
   "id": "46aa8e0e",
   "metadata": {},
   "outputs": [
    {
     "name": "stdout",
     "output_type": "stream",
     "text": [
      "[1.45407025e+08] yr\n",
      "[0.00023616] Zsun\n"
     ]
    }
   ],
   "source": [
    "print(ad[\"p2\", \"age\"])\n",
    "print(ad[\"p2\", \"metallicity_fraction\"].to('Zsun'))"
   ]
  },
  {
   "cell_type": "code",
   "execution_count": 11,
   "id": "5124a28b",
   "metadata": {},
   "outputs": [
    {
     "name": "stdout",
     "output_type": "stream",
     "text": [
      "12.920485 kpccm\n"
     ]
    }
   ],
   "source": [
    "radius = ds.quan(a[0]['prog', 'virial_radius'][34], 'kpccm')\n",
    "print(radius)"
   ]
  },
  {
   "cell_type": "code",
   "execution_count": 12,
   "id": "4342c6dd",
   "metadata": {},
   "outputs": [
    {
     "name": "stdout",
     "output_type": "stream",
     "text": [
      "[0.4959503  0.51251847 0.4874224 ] unitary\n"
     ]
    }
   ],
   "source": [
    "center = a[0]['prog', 'position'][34]\n",
    "print(center)"
   ]
  },
  {
   "cell_type": "code",
   "execution_count": 13,
   "id": "3493ad25",
   "metadata": {},
   "outputs": [],
   "source": [
    "ad = ds.sphere(center, radius)"
   ]
  },
  {
   "cell_type": "code",
   "execution_count": 14,
   "id": "bb39fada",
   "metadata": {},
   "outputs": [
    {
     "data": {
      "text/plain": [
       "unyt_array([6.63718526e+07, 2.44404062e+06, 1.80359349e+08,\n",
       "            1.53432848e+07, 1.46530347e+07, 1.41451934e+07,\n",
       "            1.29355165e+07, 1.22787784e+07, 1.06866221e+07,\n",
       "            9.66863307e+06, 7.07978457e+06], 'yr')"
      ]
     },
     "execution_count": 14,
     "metadata": {},
     "output_type": "execute_result"
    }
   ],
   "source": [
    "ad[\"p2\", \"age\"]"
   ]
  },
  {
   "cell_type": "code",
   "execution_count": null,
   "id": "d6687aff",
   "metadata": {},
   "outputs": [],
   "source": []
  },
  {
   "cell_type": "code",
   "execution_count": null,
   "id": "86ad7a72",
   "metadata": {},
   "outputs": [],
   "source": []
  },
  {
   "cell_type": "code",
   "execution_count": null,
   "id": "4bff4a5e",
   "metadata": {},
   "outputs": [],
   "source": []
  },
  {
   "cell_type": "code",
   "execution_count": null,
   "id": "acd10057",
   "metadata": {},
   "outputs": [],
   "source": []
  }
 ],
 "metadata": {
  "kernelspec": {
   "display_name": "pd_kernel",
   "language": "python",
   "name": "pd_kernel"
  },
  "language_info": {
   "codemirror_mode": {
    "name": "ipython",
    "version": 3
   },
   "file_extension": ".py",
   "mimetype": "text/x-python",
   "name": "python",
   "nbconvert_exporter": "python",
   "pygments_lexer": "ipython3",
   "version": "3.8.11"
  }
 },
 "nbformat": 4,
 "nbformat_minor": 5
}
