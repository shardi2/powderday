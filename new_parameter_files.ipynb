{
 "cells": [
  {
   "cell_type": "code",
   "execution_count": 2,
   "id": "662a43b6",
   "metadata": {},
   "outputs": [
    {
     "data": {
      "text/plain": [
       "['scale_factor',\n",
       " 'uid',\n",
       " 'desc_scale',\n",
       " 'desc_uid',\n",
       " 'num_prog',\n",
       " 'pid',\n",
       " 'upid',\n",
       " 'desc_pid',\n",
       " 'phantom',\n",
       " 'sam_Mvir',\n",
       " 'mass',\n",
       " 'virial_radius',\n",
       " 'scale_radius',\n",
       " 'velocity_dispersion',\n",
       " 'mmp?',\n",
       " 'scale_of_last_MM',\n",
       " 'vmax',\n",
       " 'position_x',\n",
       " 'position_y',\n",
       " 'position_z',\n",
       " 'velocity_x',\n",
       " 'velocity_y',\n",
       " 'velocity_z',\n",
       " 'angular_momentum_x',\n",
       " 'angular_momentum_y',\n",
       " 'angular_momentum_z',\n",
       " 'spin_parameter',\n",
       " 'Breadth_first_ID',\n",
       " 'Depth_first_ID',\n",
       " 'Tree_root_ID',\n",
       " 'halo_id',\n",
       " 'Snap_idx',\n",
       " 'Next_coprogenitor_depthfirst_ID',\n",
       " 'Last_progenitor_depthfirst_ID',\n",
       " 'Last_mainleaf_depthfirst_ID',\n",
       " 'Tidal_Force',\n",
       " 'Tidal_ID',\n",
       " 'Rs_Klypin',\n",
       " 'Mvir_all',\n",
       " 'M200b',\n",
       " 'M200c',\n",
       " 'M500c',\n",
       " 'M2500c',\n",
       " 'Xoff',\n",
       " 'Voff',\n",
       " 'Spin_Bullock',\n",
       " 'b_to_a',\n",
       " 'c_to_a',\n",
       " 'A[x]',\n",
       " 'A[y]',\n",
       " 'A[z]',\n",
       " 'b_to_a(500c)',\n",
       " 'c_to_a(500c)',\n",
       " 'A[x](500c)',\n",
       " 'A[y](500c)',\n",
       " 'A[z](500c)',\n",
       " 'T_|U|',\n",
       " 'M_pe_Behroozi',\n",
       " 'M_pe_Diemer',\n",
       " 'Type',\n",
       " 'SM',\n",
       " 'Gas',\n",
       " 'BH_Mass',\n",
       " 'total_stellar_angular_momentum',\n",
       " 'stellar_mass',\n",
       " 'gas_mass',\n",
       " 'total_pop3_mass',\n",
       " 'total_cold_gas_mass',\n",
       " 'total_HI_mass',\n",
       " 'total_HII_mass',\n",
       " 'stellar_mass_10Myr',\n",
       " 'stellar_mass_100Myr']"
      ]
     },
     "execution_count": 2,
     "metadata": {},
     "output_type": "execute_result"
    }
   ],
   "source": [
    "import ytree\n",
    "import yt\n",
    "a = ytree.load('/storage/home/hcoda1/7/shardin31/p-jw254-0/Research/Powderday/powderday/arbor/arbor.h5')\n",
    "a.field_list"
   ]
  },
  {
   "cell_type": "code",
   "execution_count": 2,
   "id": "8333fbd4",
   "metadata": {},
   "outputs": [],
   "source": [
    "#DD0125"
   ]
  },
  {
   "cell_type": "code",
   "execution_count": 10,
   "id": "29f816e2",
   "metadata": {},
   "outputs": [],
   "source": [
    "x = 0\n",
    "particle_num = 10000000\n",
    "for i in range(0, a.size, 1):\n",
    "    if a['stellar_mass'][i] != 0:\n",
    "        with open('parameters_model.py', 'r') as ogmodel, open('/storage/home/hcoda1/7/shardin31/p-jw254-0/Research/Powderday/powderday/parameters_model_'+str(x)+'_'+str(particle_num)+'.py', 'w') as newmodel:\n",
    "            for line in ogmodel:\n",
    "                if str(line) == \"PD_output_dir = '/storage/home/hcoda1/7/shardin31/p-jw254-0/Research/summer2023/pd_test/'\\n\":\n",
    "                    newmodel.write(\"PD_output_dir = '/storage/home/hcoda1/7/shardin31/p-jw254-0/Research/summer2023/pd_test/run_\"+str(particle_num)+\"/halo_\"+str(i)+\"'\\n\")\n",
    "                elif str(line) == 'x_cent = 0\\n':\n",
    "                    newmodel.write('x_cent = float(a[\"position\"]['+str(i)+'][0])\\n')\n",
    "                elif str(line) == 'y_cent = 0\\n':\n",
    "                    newmodel.write('y_cent = float(a[\"position\"]['+str(i)+'][1])\\n')  \n",
    "                elif str(line) == 'z_cent = 0\\n':\n",
    "                    newmodel.write('z_cent = float(a[\"position\"]['+str(i)+'][2])\\n')\n",
    "                elif str(line) == 'output_num = 125\\n':\n",
    "                    newmodel.write('output_num = '+str(i)+'\\n')\n",
    "                else:\n",
    "                    newmodel.write(line)\n",
    "            x += 1"
   ]
  },
  {
   "cell_type": "code",
   "execution_count": 11,
   "id": "077906d2",
   "metadata": {},
   "outputs": [],
   "source": [
    "y = 0\n",
    "for i in range(0, a.size, 1):\n",
    "    if a['stellar_mass'][i] != 0:\n",
    "        with open('parameters_master.py', 'r') as ogmaster, open('/storage/home/hcoda1/7/shardin31/p-jw254-0/Research/Powderday/powderday/parameters_master_'+str(y)+'_'+str(particle_num)+'.py', 'w') as newmaster:\n",
    "            for line in ogmaster:\n",
    "                if str(line) == 'zoom_box_len = 50\\n':\n",
    "                    newmaster.write('zoom_box_len = float(a[\"virial_radius\"]['+str(i)+'].to(\"kpc\")*a[\"scale\"]['+str(i)+'])')\n",
    "                elif str(line) == 'n_processes = 8 # number of pool processes to run for stellar SED generation\\n':\n",
    "                    newmaster.write('n_processes = 8 # number of pool processes to run for stellar SED generation\\n')\n",
    "                elif str(line) == 'n_MPI_processes = 16\\n':\n",
    "                    newmaster.write('n_MPI_processes = 24\\n')\n",
    "                elif str(line) == 'n_photons_initial = 10000\\n':\n",
    "                    newmaster.write('n_photons_initial = '+str(particle_num)+'\\n')\n",
    "                elif str(line) == 'n_photons_imaging = 10000\\n':\n",
    "                    newmaster.write('n_photons_imaging = '+str(particle_num)+'\\n')\n",
    "                elif str(line) == 'n_photons_raytracing_sources = 10000\\n':\n",
    "                    newmaster.write('n_photons_raytracing_sources = '+str(particle_num)+'\\n')\n",
    "                elif str(line) == 'n_photons_raytracing_dust = 10000\\n':\n",
    "                    newmaster.write('n_photons_raytracing_dust = '+str(particle_num)+'\\n')\n",
    "                elif str(line) == 'n_photons_DIG = 10000\\n':\n",
    "                    newmaster.write('n_photons_DIG = '+str(particle_num)+'\\n')\n",
    "                else:\n",
    "                    newmaster.write(line)\n",
    "        y += 1"
   ]
  },
  {
   "cell_type": "code",
   "execution_count": null,
   "id": "6a9176f1",
   "metadata": {},
   "outputs": [],
   "source": [
    "for my_node in a[y]['tree']:\n",
    "    print(my_node[\"stellar_mass\"].size)"
   ]
  },
  {
   "cell_type": "code",
   "execution_count": null,
   "id": "878d2589",
   "metadata": {},
   "outputs": [],
   "source": [
    "print(a[0]['stellar_mass'])"
   ]
  },
  {
   "cell_type": "code",
   "execution_count": null,
   "id": "4100effb",
   "metadata": {},
   "outputs": [],
   "source": [
    "for y in range(0, 203, 1):\n",
    "    if a[y]['tree', 'stellar_mass'].size > 50:\n",
    "        print(a[y]['tree', 'stellar_mass'][50])"
   ]
  },
  {
   "cell_type": "code",
   "execution_count": null,
   "id": "902f07ce",
   "metadata": {},
   "outputs": [],
   "source": [
    "#DD0090"
   ]
  },
  {
   "cell_type": "code",
   "execution_count": null,
   "id": "96341e6b",
   "metadata": {
    "scrolled": false
   },
   "outputs": [],
   "source": [
    "x = 0\n",
    "particle_num = 10000\n",
    "for i in range(0, 203, 1):\n",
    "    if a[i]['prog', 'stellar_mass'].size > 35 and a[i]['prog', 'stellar_mass'][34] != 0:\n",
    "        print(a[i]['prog', 'stellar_mass'][34])\n",
    "        with open('parameters_model.py', 'r') as ogmodel, open('/storage/home/hcoda1/7/shardin31/p-jw254-0/Research/Powderday/powderday/parameters_model_'+str(x)+'_'+str(particle_num)+'_old.py', 'w') as newmodel:\n",
    "            print(i)\n",
    "            for line in ogmodel:\n",
    "                if str(line) == \"snapshot_num = 125\\n\":\n",
    "                    newmodel.write(\"snapshot_num = 90\\n\")\n",
    "                elif str(line) == \"hydro_dir = '/storage/home/hcoda1/0/jw254/data/SG64-2020/DD0125/'\\n\":\n",
    "                    newmodel.write(\"hydro_dir = '/storage/home/hcoda1/0/jw254/data/SG64-2020/DD0090/'\\n\")\n",
    "                elif str(line) == \"PD_output_dir = '/storage/home/hcoda1/7/shardin31/p-jw254-0/Research/summer2023/pd_test/'\\n\":\n",
    "                    newmodel.write(\"PD_output_dir = '/storage/home/hcoda1/7/shardin31/p-jw254-0/Research/summer2023/pd_test/run_\"+str(particle_num)+\"_old'\\n\")\n",
    "                elif str(line) == 'x_cent = 0\\n':\n",
    "                    newmodel.write('x_cent = float(a['+str(i)+'][\"prog\", \"position\"][34][0])\\n')\n",
    "                elif str(line) == 'y_cent = 0\\n':\n",
    "                    newmodel.write('y_cent = float(a['+str(i)+'][\"prog\", \"position\"][34][1])\\n')\n",
    "                elif str(line) == 'z_cent = 0\\n':\n",
    "                    newmodel.write('z_cent = float(a['+str(i)+'][\"prog\", \"position\"][34][2])\\n')\n",
    "                elif str(line) == 'output_num = 125\\n':\n",
    "                    newmodel.write('output_num = '+str(i)+'\\n')\n",
    "                else:\n",
    "                    newmodel.write(line)\n",
    "            x += 1"
   ]
  },
  {
   "cell_type": "code",
   "execution_count": null,
   "id": "705c041c",
   "metadata": {},
   "outputs": [],
   "source": [
    "y = 0\n",
    "for i in range(0, a.size, 1):\n",
    "    if a[i]['prog', 'stellar_mass'].size > 35 and a[i]['prog', 'stellar_mass'][34] != 0:\n",
    "        with open('parameters_master.py', 'r') as ogmaster, open('/storage/home/hcoda1/7/shardin31/p-jw254-0/Research/Powderday/powderday/parameters_master_'+str(y)+'_'+str(particle_num)+'_old.py', 'w') as newmaster:\n",
    "            for line in ogmaster:\n",
    "                if str(line) == 'zoom_box_len = 50\\n':\n",
    "                    newmaster.write('zoom_box_len = float(a['+str(i)+'][\"prog\", \"virial_radius\"][34].to(\"kpc\")*a['+str(i)+'][\"prog\", \"scale\"][34])\\n')\n",
    "                elif str(line) == 'n_photons_initial = 10000\\n':\n",
    "                    newmaster.write('n_photons_initial = '+str(particle_num)+'\\n')\n",
    "                elif str(line) == 'n_photons_imaging = 10000\\n':\n",
    "                    newmaster.write('n_photons_imaging = '+str(particle_num)+'\\n')\n",
    "                elif str(line) == 'n_photons_raytracing_sources = 10000\\n':\n",
    "                    newmaster.write('n_photons_raytracing_sources = '+str(particle_num)+'\\n')\n",
    "                elif str(line) == 'n_photons_raytracing_dust = 10000\\n':\n",
    "                    newmaster.write('n_photons_raytracing_dust = '+str(particle_num)+'\\n')\n",
    "                elif str(line) == 'n_photons_DIG = 10000\\n':\n",
    "                    newmaster.write('n_photons_DIG = '+str(particle_num)+'\\n')\n",
    "                else:\n",
    "                    newmaster.write(line)\n",
    "        y += 1"
   ]
  },
  {
   "cell_type": "code",
   "execution_count": null,
   "id": "dc02891a",
   "metadata": {},
   "outputs": [],
   "source": [
    "a[32]['prog', 'stellar_mass'][34]"
   ]
  },
  {
   "cell_type": "code",
   "execution_count": null,
   "id": "3ae73b8a",
   "metadata": {},
   "outputs": [],
   "source": [
    "a[3]['stellar_mass']"
   ]
  },
  {
   "cell_type": "code",
   "execution_count": null,
   "id": "3036f49a",
   "metadata": {},
   "outputs": [],
   "source": [
    "#absolute magnitude "
   ]
  },
  {
   "cell_type": "code",
   "execution_count": null,
   "id": "493c875e",
   "metadata": {},
   "outputs": [],
   "source": [
    "import unyt as u\n",
    "import numpy as np\n",
    "from yt.utilities import cosmology as co"
   ]
  },
  {
   "cell_type": "code",
   "execution_count": null,
   "id": "4609b280",
   "metadata": {},
   "outputs": [],
   "source": [
    "flux = 43127564.75760771 * u.mJy\n",
    "zeropoint = 3.63078e6 * u.mJy\n",
    "mag_apparent = -2.5 * np.log10(flux / zeropoint)\n",
    "print(mag_apparent)"
   ]
  },
  {
   "cell_type": "code",
   "execution_count": null,
   "id": "92a23932",
   "metadata": {},
   "outputs": [],
   "source": [
    "c = co.Cosmology()\n",
    "dL = c.luminosity_distance(0, 10)\n",
    "print(dL.to('Gpc'))\n",
    "mag_absolute = mag_apparent - 5*np.log10(dL / (10*u.pc))\n",
    "print(mag_absolute)"
   ]
  },
  {
   "cell_type": "code",
   "execution_count": null,
   "id": "baa08e6b",
   "metadata": {},
   "outputs": [],
   "source": [
    "(1.93720531e-05) * 10**(-29)"
   ]
  },
  {
   "cell_type": "code",
   "execution_count": 3,
   "id": "9d74956c",
   "metadata": {},
   "outputs": [],
   "source": [
    "#DD0125, virial radius 20%"
   ]
  },
  {
   "cell_type": "code",
   "execution_count": 12,
   "id": "39fb9161",
   "metadata": {},
   "outputs": [],
   "source": [
    "x = 0\n",
    "particle_num = 10000\n",
    "for i in range(0, a.size, 1):\n",
    "    if a['stellar_mass'][i] != 0:\n",
    "        with open('parameters_model.py', 'r') as ogmodel, open('/storage/home/hcoda1/7/shardin31/p-jw254-0/Research/Powderday/powderday/parameters_model_'+str(x)+'_'+str(particle_num)+'_20.py', 'w') as newmodel:\n",
    "            for line in ogmodel:\n",
    "                if str(line) == \"PD_output_dir = '/storage/home/hcoda1/7/shardin31/p-jw254-0/Research/summer2023/pd_test/'\\n\":\n",
    "                    newmodel.write(\"PD_output_dir = '/storage/home/hcoda1/7/shardin31/p-jw254-0/Research/summer2023/pd_test/run_\"+str(particle_num)+\"_20/halo_\"+str(i)+\"'\\n\")\n",
    "                elif str(line) == 'x_cent = 0\\n':\n",
    "                    newmodel.write('x_cent = float(a[\"position\"]['+str(i)+'][0])\\n')\n",
    "                elif str(line) == 'y_cent = 0\\n':\n",
    "                    newmodel.write('y_cent = float(a[\"position\"]['+str(i)+'][1])\\n')  \n",
    "                elif str(line) == 'z_cent = 0\\n':\n",
    "                    newmodel.write('z_cent = float(a[\"position\"]['+str(i)+'][2])\\n')\n",
    "                elif str(line) == 'output_num = 125\\n':\n",
    "                    newmodel.write('output_num = '+str(i)+'\\n')\n",
    "                else:\n",
    "                    newmodel.write(line)\n",
    "            x += 1"
   ]
  },
  {
   "cell_type": "code",
   "execution_count": 13,
   "id": "5766be25",
   "metadata": {},
   "outputs": [],
   "source": [
    "y = 0\n",
    "for i in range(0, a.size, 1):\n",
    "    if a['stellar_mass'][i] != 0:\n",
    "        with open('parameters_master.py', 'r') as ogmaster, open('/storage/home/hcoda1/7/shardin31/p-jw254-0/Research/Powderday/powderday/parameters_master_'+str(y)+'_'+str(particle_num)+'_20.py', 'w') as newmaster:\n",
    "            for line in ogmaster:\n",
    "                if str(line) == 'zoom_box_len = 50\\n':\n",
    "                    newmaster.write('zoom_box_len = float(a[\"virial_radius\"]['+str(i)+'].to(\"kpc\")*a[\"scale\"]['+str(i)+']*(0.20))')\n",
    "                elif str(line) == 'n_MPI_processes = 16\\n':\n",
    "                    newmaster.write('n_MPI_processes = 24\\n')\n",
    "                elif str(line) == 'n_photons_initial = 10000\\n':\n",
    "                    newmaster.write('n_photons_initial = '+str(particle_num)+'\\n')\n",
    "                elif str(line) == 'n_photons_imaging = 10000\\n':\n",
    "                    newmaster.write('n_photons_imaging = '+str(particle_num)+'\\n')\n",
    "                elif str(line) == 'n_photons_raytracing_sources = 10000\\n':\n",
    "                    newmaster.write('n_photons_raytracing_sources = '+str(particle_num)+'\\n')\n",
    "                elif str(line) == 'n_photons_raytracing_dust = 10000\\n':\n",
    "                    newmaster.write('n_photons_raytracing_dust = '+str(particle_num)+'\\n')\n",
    "                elif str(line) == 'n_photons_DIG = 10000\\n':\n",
    "                    newmaster.write('n_photons_DIG = '+str(particle_num)+'\\n')\n",
    "                else:\n",
    "                    newmaster.write(line)\n",
    "        y += 1"
   ]
  },
  {
   "cell_type": "code",
   "execution_count": 1,
   "id": "77f22b60",
   "metadata": {},
   "outputs": [],
   "source": [
    "#DD00125 with 1 angle for 10 million photons"
   ]
  },
  {
   "cell_type": "code",
   "execution_count": 8,
   "id": "fa665b81",
   "metadata": {},
   "outputs": [],
   "source": [
    "x = 0\n",
    "particle_num = 10000000\n",
    "for i in range(0, a.size, 1):\n",
    "    if a['stellar_mass'][i] != 0:\n",
    "        with open('parameters_model.py', 'r') as ogmodel, open('/storage/home/hcoda1/7/shardin31/p-jw254-0/Research/Powderday/powderday/parameter_files_1angle/parameters_model_'+str(x)+'_'+str(particle_num)+'_1angle.py', 'w') as newmodel:\n",
    "            for line in ogmodel:\n",
    "                if str(line) == \"PD_output_dir = '/storage/home/hcoda1/7/shardin31/p-jw254-0/Research/summer2023/pd_test/'\\n\":\n",
    "                    newmodel.write(\"PD_output_dir = '/storage/home/hcoda1/7/shardin31/p-jw254-0/Research/summer2023/pd_test/run_\"+str(particle_num)+\"_1angle/halo_\"+str(i)+\"'\\n\")\n",
    "                elif str(line) == 'x_cent = 0\\n':\n",
    "                    newmodel.write('x_cent = float(a[\"position\"]['+str(i)+'][0])\\n')\n",
    "                elif str(line) == 'y_cent = 0\\n':\n",
    "                    newmodel.write('y_cent = float(a[\"position\"]['+str(i)+'][1])\\n')  \n",
    "                elif str(line) == 'z_cent = 0\\n':\n",
    "                    newmodel.write('z_cent = float(a[\"position\"]['+str(i)+'][2])\\n')\n",
    "                elif str(line) == 'output_num = 125\\n':\n",
    "                    newmodel.write('output_num = '+str(i)+'\\n')\n",
    "                else:\n",
    "                    newmodel.write(line)\n",
    "            x += 1"
   ]
  },
  {
   "cell_type": "code",
   "execution_count": 9,
   "id": "203267a1",
   "metadata": {},
   "outputs": [],
   "source": [
    "y = 0\n",
    "for i in range(0, a.size, 1):\n",
    "    if a['stellar_mass'][i] != 0:\n",
    "        with open('parameters_master.py', 'r') as ogmaster, open('/storage/home/hcoda1/7/shardin31/p-jw254-0/Research/Powderday/powderday/parameter_files_1angle/parameters_master_'+str(y)+'_'+str(particle_num)+'_1angle.py', 'w') as newmaster:\n",
    "            for line in ogmaster:\n",
    "                if str(line) == 'zoom_box_len = 50\\n':\n",
    "                    newmaster.write('zoom_box_len = float(a[\"virial_radius\"]['+str(i)+'].to(\"kpc\")*a[\"scale\"]['+str(i)+'])')\n",
    "                elif str(line) == 'n_processes = 8 # number of pool processes to run for stellar SED generation\\n':\n",
    "                    newmaster.write('n_processes = 8 # number of pool processes to run for stellar SED generation\\n')\n",
    "                elif str(line) == 'n_MPI_processes = 16\\n':\n",
    "                    newmaster.write('n_MPI_processes = 24\\n')\n",
    "                elif str(line) == 'n_photons_initial = 10000\\n':\n",
    "                    newmaster.write('n_photons_initial = '+str(particle_num)+'\\n')\n",
    "                elif str(line) == 'n_photons_imaging = 10000\\n':\n",
    "                    newmaster.write('n_photons_imaging = '+str(particle_num)+'\\n')\n",
    "                elif str(line) == 'n_photons_raytracing_sources = 10000\\n':\n",
    "                    newmaster.write('n_photons_raytracing_sources = '+str(particle_num)+'\\n')\n",
    "                elif str(line) == 'n_photons_raytracing_dust = 10000\\n':\n",
    "                    newmaster.write('n_photons_raytracing_dust = '+str(particle_num)+'\\n')\n",
    "                elif str(line) == 'n_photons_DIG = 10000\\n':\n",
    "                    newmaster.write('n_photons_DIG = '+str(particle_num)+'\\n')\n",
    "                elif str(line) == 'NTHETA = 10\\n':\n",
    "                    newmaster.write('NTHETA = 1\\n')\n",
    "                elif str(line) == 'NPHI = 10\\n':\n",
    "                    newmaster.write('NPHI = 1\\n')\n",
    "                else:\n",
    "                    newmaster.write(line)\n",
    "        y += 1"
   ]
  },
  {
   "cell_type": "code",
   "execution_count": 10,
   "id": "7fdc7eaf",
   "metadata": {},
   "outputs": [],
   "source": [
    "#DD00125 with 1 angle for 3 million photons"
   ]
  },
  {
   "cell_type": "code",
   "execution_count": 24,
   "id": "f242af94",
   "metadata": {},
   "outputs": [],
   "source": [
    "x = 0\n",
    "particle_num = 3000000\n",
    "for i in range(0, a.size, 1):\n",
    "    if a['stellar_mass'][i] != 0:\n",
    "        with open('parameters_model.py', 'r') as ogmodel, open('/storage/home/hcoda1/7/shardin31/p-jw254-0/Research/Powderday/powderday/parameter_files_3000000/parameters_model_'+str(x)+'_'+str(particle_num)+'.py', 'w') as newmodel:\n",
    "            for line in ogmodel:\n",
    "                if str(line) == \"PD_output_dir = '/storage/home/hcoda1/7/shardin31/p-jw254-0/Research/summer2023/pd_test/'\\n\":\n",
    "                    newmodel.write(\"PD_output_dir = '/storage/home/hcoda1/7/shardin31/p-jw254-0/Research/summer2023/pd_test/run_\"+str(particle_num)+\"/halo_\"+str(i)+\"'\\n\")\n",
    "                elif str(line) == 'x_cent = 0\\n':\n",
    "                    newmodel.write('x_cent = float(a[\"position\"]['+str(i)+'][0])\\n')\n",
    "                elif str(line) == 'y_cent = 0\\n':\n",
    "                    newmodel.write('y_cent = float(a[\"position\"]['+str(i)+'][1])\\n')  \n",
    "                elif str(line) == 'z_cent = 0\\n':\n",
    "                    newmodel.write('z_cent = float(a[\"position\"]['+str(i)+'][2])\\n')\n",
    "                elif str(line) == 'output_num = 125\\n':\n",
    "                    newmodel.write('output_num = '+str(i)+'\\n')\n",
    "                else:\n",
    "                    newmodel.write(line)\n",
    "            x += 1"
   ]
  },
  {
   "cell_type": "code",
   "execution_count": 25,
   "id": "5d8869f8",
   "metadata": {},
   "outputs": [],
   "source": [
    "y = 0\n",
    "for i in range(0, a.size, 1):\n",
    "    if a['stellar_mass'][i] != 0:\n",
    "        with open('parameters_master.py', 'r') as ogmaster, open('/storage/home/hcoda1/7/shardin31/p-jw254-0/Research/Powderday/powderday/parameter_files_3000000/parameters_master_'+str(y)+'_'+str(particle_num)+'.py', 'w') as newmaster:\n",
    "            for line in ogmaster:\n",
    "                if str(line) == 'zoom_box_len = 50\\n':\n",
    "                    newmaster.write('zoom_box_len = float(a[\"virial_radius\"]['+str(i)+'].to(\"kpc\")*a[\"scale\"]['+str(i)+'])')\n",
    "                elif str(line) == 'n_processes = 8 # number of pool processes to run for stellar SED generation\\n':\n",
    "                    newmaster.write('n_processes = 8 # number of pool processes to run for stellar SED generation\\n')\n",
    "                elif str(line) == 'n_MPI_processes = 16\\n':\n",
    "                    newmaster.write('n_MPI_processes = 24\\n')\n",
    "                elif str(line) == 'n_photons_initial = 10000\\n':\n",
    "                    newmaster.write('n_photons_initial = '+str(particle_num)+'\\n')\n",
    "                elif str(line) == 'n_photons_imaging = 10000\\n':\n",
    "                    newmaster.write('n_photons_imaging = '+str(particle_num)+'\\n')\n",
    "                elif str(line) == 'n_photons_raytracing_sources = 10000\\n':\n",
    "                    newmaster.write('n_photons_raytracing_sources = '+str(particle_num)+'\\n')\n",
    "                elif str(line) == 'n_photons_raytracing_dust = 10000\\n':\n",
    "                    newmaster.write('n_photons_raytracing_dust = '+str(particle_num)+'\\n')\n",
    "                elif str(line) == 'n_photons_DIG = 10000\\n':\n",
    "                    newmaster.write('n_photons_DIG = '+str(particle_num)+'\\n')\n",
    "                elif str(line) == 'NTHETA = 10\\n':\n",
    "                    newmaster.write('NTHETA = 1\\n')\n",
    "                elif str(line) == 'NPHI = 10\\n':\n",
    "                    newmaster.write('NPHI = 1\\n')\n",
    "                else:\n",
    "                    newmaster.write(line)\n",
    "        y += 1"
   ]
  },
  {
   "cell_type": "code",
   "execution_count": 26,
   "id": "0e4a2124",
   "metadata": {},
   "outputs": [],
   "source": [
    "#DD00125 with 1 angle for 300,000 photons"
   ]
  },
  {
   "cell_type": "code",
   "execution_count": 27,
   "id": "67639737",
   "metadata": {},
   "outputs": [],
   "source": [
    "x = 0\n",
    "particle_num = 300000\n",
    "for i in range(0, a.size, 1):\n",
    "    if a['stellar_mass'][i] != 0:\n",
    "        with open('parameters_model.py', 'r') as ogmodel, open('/storage/home/hcoda1/7/shardin31/p-jw254-0/Research/Powderday/powderday/parameter_files_300000/parameters_model_'+str(x)+'_'+str(particle_num)+'.py', 'w') as newmodel:\n",
    "            for line in ogmodel:\n",
    "                if str(line) == \"PD_output_dir = '/storage/home/hcoda1/7/shardin31/p-jw254-0/Research/summer2023/pd_test/'\\n\":\n",
    "                    newmodel.write(\"PD_output_dir = '/storage/home/hcoda1/7/shardin31/p-jw254-0/Research/summer2023/pd_test/run_\"+str(particle_num)+\"/halo_\"+str(i)+\"'\\n\")\n",
    "                elif str(line) == 'x_cent = 0\\n':\n",
    "                    newmodel.write('x_cent = float(a[\"position\"]['+str(i)+'][0])\\n')\n",
    "                elif str(line) == 'y_cent = 0\\n':\n",
    "                    newmodel.write('y_cent = float(a[\"position\"]['+str(i)+'][1])\\n')  \n",
    "                elif str(line) == 'z_cent = 0\\n':\n",
    "                    newmodel.write('z_cent = float(a[\"position\"]['+str(i)+'][2])\\n')\n",
    "                elif str(line) == 'output_num = 125\\n':\n",
    "                    newmodel.write('output_num = '+str(i)+'\\n')\n",
    "                else:\n",
    "                    newmodel.write(line)\n",
    "            x += 1"
   ]
  },
  {
   "cell_type": "code",
   "execution_count": 28,
   "id": "5a01f46c",
   "metadata": {},
   "outputs": [],
   "source": [
    "y = 0\n",
    "for i in range(0, a.size, 1):\n",
    "    if a['stellar_mass'][i] != 0:\n",
    "        with open('parameters_master.py', 'r') as ogmaster, open('/storage/home/hcoda1/7/shardin31/p-jw254-0/Research/Powderday/powderday/parameter_files_300000/parameters_master_'+str(y)+'_'+str(particle_num)+'.py', 'w') as newmaster:\n",
    "            for line in ogmaster:\n",
    "                if str(line) == 'zoom_box_len = 50\\n':\n",
    "                    newmaster.write('zoom_box_len = float(a[\"virial_radius\"]['+str(i)+'].to(\"kpc\")*a[\"scale\"]['+str(i)+'])')\n",
    "                elif str(line) == 'n_processes = 8 # number of pool processes to run for stellar SED generation\\n':\n",
    "                    newmaster.write('n_processes = 8 # number of pool processes to run for stellar SED generation\\n')\n",
    "                elif str(line) == 'n_MPI_processes = 16\\n':\n",
    "                    newmaster.write('n_MPI_processes = 24\\n')\n",
    "                elif str(line) == 'n_photons_initial = 10000\\n':\n",
    "                    newmaster.write('n_photons_initial = '+str(particle_num)+'\\n')\n",
    "                elif str(line) == 'n_photons_imaging = 10000\\n':\n",
    "                    newmaster.write('n_photons_imaging = '+str(particle_num)+'\\n')\n",
    "                elif str(line) == 'n_photons_raytracing_sources = 10000\\n':\n",
    "                    newmaster.write('n_photons_raytracing_sources = '+str(particle_num)+'\\n')\n",
    "                elif str(line) == 'n_photons_raytracing_dust = 10000\\n':\n",
    "                    newmaster.write('n_photons_raytracing_dust = '+str(particle_num)+'\\n')\n",
    "                elif str(line) == 'n_photons_DIG = 10000\\n':\n",
    "                    newmaster.write('n_photons_DIG = '+str(particle_num)+'\\n')\n",
    "                elif str(line) == 'NTHETA = 10\\n':\n",
    "                    newmaster.write('NTHETA = 1\\n')\n",
    "                elif str(line) == 'NPHI = 10\\n':\n",
    "                    newmaster.write('NPHI = 1\\n')\n",
    "                else:\n",
    "                    newmaster.write(line)\n",
    "        y += 1"
   ]
  },
  {
   "cell_type": "code",
   "execution_count": 2,
   "id": "5120419c",
   "metadata": {},
   "outputs": [],
   "source": [
    "#Renaissancee simulation largest halo in most recent output"
   ]
  },
  {
   "cell_type": "code",
   "execution_count": 11,
   "id": "b665e813",
   "metadata": {},
   "outputs": [],
   "source": [
    "x = 0\n",
    "particle_num = 1000000\n",
    "\n",
    "with open('parameters_model.py', 'r') as ogmodel, open('/storage/home/hcoda1/7/shardin31/p-jw254-0/Research/Powderday/powderday/parameter_files_renaissance/parameters_model_'+str(x)+'_'+str(particle_num)+'.py', 'w') as newmodel:\n",
    "    for line in ogmodel:\n",
    "        if str(line) == \"snapshot_num = 125\\n\":\n",
    "            newmodel.write(\"snapshot_num = 41\\n\")\n",
    "        elif str(line) == \"hydro_dir = '/storage/home/hcoda1/0/jw254/data/SG64-2020/DD0125/'\\n\":\n",
    "            newmodel.write(\"hydro_dir = '/storage/home/hcoda1/0/jw254/data/RS-RP/RD0041/'\\n\")\n",
    "        elif str(line) == \"PD_output_dir = '/storage/home/hcoda1/7/shardin31/p-jw254-0/Research/summer2023/pd_test/'\\n\":\n",
    "            newmodel.write(\"PD_output_dir = '/storage/home/hcoda1/7/shardin31/p-jw254-0/Research/summer2023/pd_test/run_renaissance_\"+str(particle_num)+\"/halo_0'\\n\")\n",
    "        elif str(line) == 'x_cent = 0\\n':\n",
    "            newmodel.write('x_cent = float(a[\"position\"][0][0])\\n')\n",
    "        elif str(line) == 'y_cent = 0\\n':\n",
    "            newmodel.write('y_cent = float(a[\"position\"][0][1])\\n')  \n",
    "        elif str(line) == 'z_cent = 0\\n':\n",
    "            newmodel.write('z_cent = float(a[\"position\"][0][2])\\n')\n",
    "        elif str(line) == 'output_num = 125\\n':\n",
    "            newmodel.write('output_num = 0\\n')\n",
    "        elif str(line) == \"snapshot_name = 'output_'+snapnum_str\\n\":\n",
    "            newmodel.write(\"snapshot_name = 'RedshiftOutput'+snapnum_str\\n\")\n",
    "        elif str(line) == 'a = ytree.load(\"/storage/home/hcoda1/0/jw254/data/SG64-2020/rockstar_halos-jhw/trees/tree_0_0_0.dat\")\\n':\n",
    "            newmodel.write('a = ytree.load(\"/storage/home/hcoda1/0/jw254/data/RS-RP/rockstar_halos/trees/tree_0_0_0.dat\")\\n')\n",
    "        else:\n",
    "            newmodel.write(line)\n",
    "x += 1"
   ]
  },
  {
   "cell_type": "code",
   "execution_count": 21,
   "id": "46484d8f",
   "metadata": {},
   "outputs": [],
   "source": [
    "y = 0\n",
    "with open('parameters_master.py', 'r') as ogmaster, open('/storage/home/hcoda1/7/shardin31/p-jw254-0/Research/Powderday/powderday/parameter_files_renaissance/parameters_master_'+str(y)+'_'+str(particle_num)+'.py', 'w') as newmaster:\n",
    "    for line in ogmaster:\n",
    "        if str(line) == 'zoom_box_len = 50\\n':\n",
    "            newmaster.write('zoom_box_len = float(a[\"virial_radius\"][0].to(\"kpc\")*a[\"scale\"][0])')\n",
    "        elif str(line) == 'n_processes = 8 # number of pool processes to run for stellar SED generation\\n':\n",
    "            newmaster.write('n_processes = 8 # number of pool processes to run for stellar SED generation\\n')\n",
    "        elif str(line) == 'n_MPI_processes = 16\\n':\n",
    "            newmaster.write('n_MPI_processes = 24\\n')\n",
    "        elif str(line) == 'n_photons_initial = 10000\\n':\n",
    "            newmaster.write('n_photons_initial = '+str(particle_num)+'\\n')\n",
    "        elif str(line) == 'n_photons_imaging = 10000\\n':\n",
    "            newmaster.write('n_photons_imaging = '+str(particle_num)+'\\n')\n",
    "        elif str(line) == 'n_photons_raytracing_sources = 10000\\n':\n",
    "            newmaster.write('n_photons_raytracing_sources = '+str(particle_num)+'\\n')\n",
    "        elif str(line) == 'n_photons_raytracing_dust = 10000\\n':\n",
    "            newmaster.write('n_photons_raytracing_dust = '+str(particle_num)+'\\n')\n",
    "        elif str(line) == 'n_photons_DIG = 10000\\n':\n",
    "            newmaster.write('n_photons_DIG = '+str(particle_num)+'\\n')\n",
    "        elif str(line) == 'NTHETA = 10\\n':\n",
    "            newmaster.write('NTHETA = 10\\n')\n",
    "        elif str(line) == 'NPHI = 10\\n':\n",
    "            newmaster.write('NPHI = 10\\n')\n",
    "        elif str(line) == 'a = ytree.load(\"/storage/home/hcoda1/0/jw254/data/SG64-2020/rockstar_halos-jhw/trees/tree_0_0_0.dat\")\\n':\n",
    "            newmaster.write('a = ytree.load(\"/storage/home/hcoda1/0/jw254/data/RS-RP/rockstar_halos/trees/tree_0_0_0.dat\")\\n')\n",
    "        else:\n",
    "            newmaster.write(line)\n",
    "y += 1"
   ]
  },
  {
   "cell_type": "code",
   "execution_count": 11,
   "id": "4ac4b5e0",
   "metadata": {},
   "outputs": [
    {
     "data": {
      "text/plain": [
       "<generator object TreeNode._forest_nodes at 0x2aaae27b1d60>"
      ]
     },
     "execution_count": 11,
     "metadata": {},
     "output_type": "execute_result"
    }
   ],
   "source": [
    "trees = a[0]\n",
    "\n",
    "trees[\"forest\"]"
   ]
  },
  {
   "cell_type": "code",
   "execution_count": null,
   "id": "2e0dcc4c",
   "metadata": {},
   "outputs": [],
   "source": []
  }
 ],
 "metadata": {
  "kernelspec": {
   "display_name": "pd_kernel",
   "language": "python",
   "name": "pd_kernel"
  },
  "language_info": {
   "codemirror_mode": {
    "name": "ipython",
    "version": 3
   },
   "file_extension": ".py",
   "mimetype": "text/x-python",
   "name": "python",
   "nbconvert_exporter": "python",
   "pygments_lexer": "ipython3",
   "version": "3.8.11"
  }
 },
 "nbformat": 4,
 "nbformat_minor": 5
}
