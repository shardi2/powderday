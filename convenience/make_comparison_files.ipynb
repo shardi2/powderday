{
 "cells": [
  {
   "cell_type": "code",
   "execution_count": 1,
   "id": "1d56c85e",
   "metadata": {},
   "outputs": [
    {
     "data": {
      "text/plain": [
       "['scale_factor',\n",
       " 'uid',\n",
       " 'desc_scale',\n",
       " 'desc_uid',\n",
       " 'num_prog',\n",
       " 'pid',\n",
       " 'upid',\n",
       " 'desc_pid',\n",
       " 'phantom',\n",
       " 'sam_Mvir',\n",
       " 'mass',\n",
       " 'virial_radius',\n",
       " 'scale_radius',\n",
       " 'velocity_dispersion',\n",
       " 'mmp?',\n",
       " 'scale_of_last_MM',\n",
       " 'vmax',\n",
       " 'position_x',\n",
       " 'position_y',\n",
       " 'position_z',\n",
       " 'velocity_x',\n",
       " 'velocity_y',\n",
       " 'velocity_z',\n",
       " 'angular_momentum_x',\n",
       " 'angular_momentum_y',\n",
       " 'angular_momentum_z',\n",
       " 'spin_parameter',\n",
       " 'Breadth_first_ID',\n",
       " 'Depth_first_ID',\n",
       " 'Tree_root_ID',\n",
       " 'halo_id',\n",
       " 'Snap_idx',\n",
       " 'Next_coprogenitor_depthfirst_ID',\n",
       " 'Last_progenitor_depthfirst_ID',\n",
       " 'Last_mainleaf_depthfirst_ID',\n",
       " 'Tidal_Force',\n",
       " 'Tidal_ID',\n",
       " 'Rs_Klypin',\n",
       " 'Mvir_all',\n",
       " 'M200b',\n",
       " 'M200c',\n",
       " 'M500c',\n",
       " 'M2500c',\n",
       " 'Xoff',\n",
       " 'Voff',\n",
       " 'Spin_Bullock',\n",
       " 'b_to_a',\n",
       " 'c_to_a',\n",
       " 'A[x]',\n",
       " 'A[y]',\n",
       " 'A[z]',\n",
       " 'b_to_a(500c)',\n",
       " 'c_to_a(500c)',\n",
       " 'A[x](500c)',\n",
       " 'A[y](500c)',\n",
       " 'A[z](500c)',\n",
       " 'T_|U|',\n",
       " 'M_pe_Behroozi',\n",
       " 'M_pe_Diemer',\n",
       " 'Type',\n",
       " 'SM',\n",
       " 'Gas',\n",
       " 'BH_Mass',\n",
       " 'total_stellar_angular_momentum',\n",
       " 'stellar_mass',\n",
       " 'gas_mass',\n",
       " 'total_pop3_mass',\n",
       " 'total_cold_gas_mass',\n",
       " 'total_HI_mass',\n",
       " 'total_HII_mass',\n",
       " 'stellar_mass_10Myr',\n",
       " 'stellar_mass_100Myr']"
      ]
     },
     "execution_count": 1,
     "metadata": {},
     "output_type": "execute_result"
    }
   ],
   "source": [
    "import ytree\n",
    "import yt\n",
    "a = ytree.load('/storage/home/hcoda1/7/shardin31/p-jw254-0/Research/Powderday/powderday/arbor/arbor.h5')\n",
    "a.field_list"
   ]
  },
  {
   "cell_type": "code",
   "execution_count": 4,
   "id": "c94db344",
   "metadata": {},
   "outputs": [],
   "source": [
    "#automate for 10 mil vs. 1 mil photon runs for each halo"
   ]
  },
  {
   "cell_type": "code",
   "execution_count": 6,
   "id": "a8eb4353",
   "metadata": {},
   "outputs": [
    {
     "ename": "FileNotFoundError",
     "evalue": "[Errno 2] No such file or directory: 'sed_compare_photons_10mil.py'",
     "output_type": "error",
     "traceback": [
      "\u001b[0;31m---------------------------------------------------------------------------\u001b[0m",
      "\u001b[0;31mFileNotFoundError\u001b[0m                         Traceback (most recent call last)",
      "Cell \u001b[0;32mIn[6], line 4\u001b[0m\n\u001b[1;32m      2\u001b[0m \u001b[38;5;28;01mfor\u001b[39;00m i \u001b[38;5;129;01min\u001b[39;00m \u001b[38;5;28mrange\u001b[39m(\u001b[38;5;241m0\u001b[39m, a\u001b[38;5;241m.\u001b[39msize, \u001b[38;5;241m1\u001b[39m):\n\u001b[1;32m      3\u001b[0m     \u001b[38;5;28;01mif\u001b[39;00m a[\u001b[38;5;124m'\u001b[39m\u001b[38;5;124mstellar_mass\u001b[39m\u001b[38;5;124m'\u001b[39m][i] \u001b[38;5;241m!=\u001b[39m \u001b[38;5;241m0\u001b[39m:\n\u001b[0;32m----> 4\u001b[0m         \u001b[38;5;28;01mwith\u001b[39;00m \u001b[38;5;28;43mopen\u001b[39;49m\u001b[43m(\u001b[49m\u001b[38;5;124;43m'\u001b[39;49m\u001b[38;5;124;43msed_compare_photons_10mil.py\u001b[39;49m\u001b[38;5;124;43m'\u001b[39;49m\u001b[43m,\u001b[49m\u001b[43m \u001b[49m\u001b[38;5;124;43m'\u001b[39;49m\u001b[38;5;124;43mr\u001b[39;49m\u001b[38;5;124;43m'\u001b[39;49m\u001b[43m)\u001b[49m \u001b[38;5;28;01mas\u001b[39;00m ogmaster, \u001b[38;5;28mopen\u001b[39m(\u001b[38;5;124m'\u001b[39m\u001b[38;5;124m/storage/home/hcoda1/7/shardin31/p-jw254-0/Research/Powderday/powderday/convenience/sed_comparisons/sed_compare_photons_10mil_halo_\u001b[39m\u001b[38;5;124m'\u001b[39m\u001b[38;5;241m+\u001b[39m\u001b[38;5;28mstr\u001b[39m(i)\u001b[38;5;241m+\u001b[39m\u001b[38;5;124m'\u001b[39m\u001b[38;5;124m.py\u001b[39m\u001b[38;5;124m'\u001b[39m, \u001b[38;5;124m'\u001b[39m\u001b[38;5;124mw\u001b[39m\u001b[38;5;124m'\u001b[39m) \u001b[38;5;28;01mas\u001b[39;00m newmaster:\n\u001b[1;32m      5\u001b[0m             \u001b[38;5;28;01mfor\u001b[39;00m line \u001b[38;5;129;01min\u001b[39;00m ogmaster:\n\u001b[1;32m      6\u001b[0m                 output_num \u001b[38;5;241m=\u001b[39m i\n",
      "File \u001b[0;32m~/.conda/envs/pd_environment_3/lib/python3.8/site-packages/IPython/core/interactiveshell.py:284\u001b[0m, in \u001b[0;36m_modified_open\u001b[0;34m(file, *args, **kwargs)\u001b[0m\n\u001b[1;32m    277\u001b[0m \u001b[38;5;28;01mif\u001b[39;00m file \u001b[38;5;129;01min\u001b[39;00m {\u001b[38;5;241m0\u001b[39m, \u001b[38;5;241m1\u001b[39m, \u001b[38;5;241m2\u001b[39m}:\n\u001b[1;32m    278\u001b[0m     \u001b[38;5;28;01mraise\u001b[39;00m \u001b[38;5;167;01mValueError\u001b[39;00m(\n\u001b[1;32m    279\u001b[0m         \u001b[38;5;124mf\u001b[39m\u001b[38;5;124m\"\u001b[39m\u001b[38;5;124mIPython won\u001b[39m\u001b[38;5;124m'\u001b[39m\u001b[38;5;124mt let you open fd=\u001b[39m\u001b[38;5;132;01m{\u001b[39;00mfile\u001b[38;5;132;01m}\u001b[39;00m\u001b[38;5;124m by default \u001b[39m\u001b[38;5;124m\"\u001b[39m\n\u001b[1;32m    280\u001b[0m         \u001b[38;5;124m\"\u001b[39m\u001b[38;5;124mas it is likely to crash IPython. If you know what you are doing, \u001b[39m\u001b[38;5;124m\"\u001b[39m\n\u001b[1;32m    281\u001b[0m         \u001b[38;5;124m\"\u001b[39m\u001b[38;5;124myou can use builtins\u001b[39m\u001b[38;5;124m'\u001b[39m\u001b[38;5;124m open.\u001b[39m\u001b[38;5;124m\"\u001b[39m\n\u001b[1;32m    282\u001b[0m     )\n\u001b[0;32m--> 284\u001b[0m \u001b[38;5;28;01mreturn\u001b[39;00m \u001b[43mio_open\u001b[49m\u001b[43m(\u001b[49m\u001b[43mfile\u001b[49m\u001b[43m,\u001b[49m\u001b[43m \u001b[49m\u001b[38;5;241;43m*\u001b[39;49m\u001b[43margs\u001b[49m\u001b[43m,\u001b[49m\u001b[43m \u001b[49m\u001b[38;5;241;43m*\u001b[39;49m\u001b[38;5;241;43m*\u001b[39;49m\u001b[43mkwargs\u001b[49m\u001b[43m)\u001b[49m\n",
      "\u001b[0;31mFileNotFoundError\u001b[0m: [Errno 2] No such file or directory: 'sed_compare_photons_10mil.py'"
     ]
    }
   ],
   "source": [
    "y = 0\n",
    "for i in range(0, a.size, 1):\n",
    "    if a['stellar_mass'][i] != 0:\n",
    "        with open('sed_compare_photons_10mil.py', 'r') as ogmaster, open('/storage/home/hcoda1/7/shardin31/p-jw254-0/Research/Powderday/powderday/convenience/sed_comparisons/sed_compare_photons_10mil_halo_'+str(i)+'.py', 'w') as newmaster:\n",
    "            for line in ogmaster:\n",
    "                output_num = i\n",
    "                output_num = '{:02d}'.format(output_num)\n",
    "                if str(line) == \"run_1mil = '/storage/home/hcoda1/7/shardin31/p-jw254-0/Research/summer2023/pd_test/run_1000000/halo_0/example.0000.rtout.sed'\\n\":\n",
    "                    newmaster.write(\"run_1mil = '/storage/home/hcoda1/7/shardin31/p-jw254-0/Research/summer2023/pd_test/run_1000000/halo_\"+str(i)+\"/example.00\"+str(output_num)+\".rtout.sed'\\n\")\n",
    "                elif str(line) == \"run_10mil = '/storage/home/hcoda1/7/shardin31/p-jw254-0/Research/summer2023/pd_test/run_10000000_1angle/halo_0/example.0000.rtout.sed'\\n\":\n",
    "                    newmaster.write(\"run_10mil = '/storage/home/hcoda1/7/shardin31/p-jw254-0/Research/summer2023/pd_test/run_10000000_1angle/halo_\"+str(i)+\"/example.00\"+str(output_num)+\".rtout.sed'\\n\")\n",
    "                elif str(line) == \"fig.savefig('/storage/home/hcoda1/7/shardin31/p-jw254-0/Research/summer2023/pd_test/run_10000000_1angle/pd_sed/sed_compare_frac_diff_part2.png')\\n\":\n",
    "                    newmaster.write(\"fig.savefig('/storage/home/hcoda1/7/shardin31/p-jw254-0/Research/summer2023/pd_test/run_10000000_1angle/pd_sed/sed_compare_frac_diff_halo_\"+str(i)+\".png')\\n\")\n",
    "                else:\n",
    "                    newmaster.write(line)\n",
    "        y += 1"
   ]
  },
  {
   "cell_type": "code",
   "execution_count": 2,
   "id": "a760eb1d",
   "metadata": {},
   "outputs": [],
   "source": [
    "#automate for 1 mil vs. 100,000 photon runs for each halo"
   ]
  },
  {
   "cell_type": "code",
   "execution_count": null,
   "id": "9119788f",
   "metadata": {},
   "outputs": [],
   "source": [
    "y = 0\n",
    "for i in range(0, a.size, 1):\n",
    "    if a['stellar_mass'][i] != 0:\n",
    "        with open('sed_compare_photons_1mil.py', 'r') as ogmaster, open('/storage/home/hcoda1/7/shardin31/p-jw254-0/Research/Powderday/powderday/convenience/sed_comparisons/sed_compare_photons_1mil_halo_'+str(i)+'.py', 'w') as newmaster:\n",
    "            for line in ogmaster:\n",
    "                output_num = i\n",
    "                output_num = '{:02d}'.format(output_num)\n",
    "                if str(line) == \"run_1mil = '/storage/home/hcoda1/7/shardin31/p-jw254-0/Research/summer2023/pd_test/run_1000000/halo_0/example.0000.rtout.sed'\\n\":\n",
    "                    newmaster.write(\"run_1mil = '/storage/home/hcoda1/7/shardin31/p-jw254-0/Research/summer2023/pd_test/run_1000000/halo_\"+str(i)+\"/example.00\"+str(output_num)+\".rtout.sed'\\n\")\n",
    "                elif str(line) == \"run_100 = '/storage/home/hcoda1/7/shardin31/p-jw254-0/Research/summer2023/pd_test/run_100000/halo_0/example.0000.rtout.sed'\\n\":\n",
    "                    newmaster.write(\"run_100 = '/storage/home/hcoda1/7/shardin31/p-jw254-0/Research/summer2023/pd_test/run_100000/halo_\"+str(i)+\"/example.00\"+str(output_num)+\".rtout.sed'\\n\")\n",
    "                elif str(line) == \"fig.savefig('/storage/home/hcoda1/7/shardin31/p-jw254-0/Research/summer2023/pd_test/run_1000000/pd_sed/sed_compare_frac_diff.png')\\n\":\n",
    "                    newmaster.write(\"fig.savefig('/storage/home/hcoda1/7/shardin31/p-jw254-0/Research/summer2023/pd_test/run_1000000/pd_sed/sed_compare_frac_diff_halo_\"+str(i)+\".png')\\n\")\n",
    "                else:\n",
    "                    newmaster.write(line)\n",
    "        y += 1"
   ]
  }
 ],
 "metadata": {
  "kernelspec": {
   "display_name": "pd_kernel",
   "language": "python",
   "name": "pd_kernel"
  },
  "language_info": {
   "codemirror_mode": {
    "name": "ipython",
    "version": 3
   },
   "file_extension": ".py",
   "mimetype": "text/x-python",
   "name": "python",
   "nbconvert_exporter": "python",
   "pygments_lexer": "ipython3",
   "version": "3.8.11"
  }
 },
 "nbformat": 4,
 "nbformat_minor": 5
}
