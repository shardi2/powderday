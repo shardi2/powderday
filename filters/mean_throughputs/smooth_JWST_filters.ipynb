{
 "cells": [
  {
   "cell_type": "code",
   "execution_count": 1,
   "id": "0c22579c",
   "metadata": {},
   "outputs": [],
   "source": [
    "import numpy as np\n",
    "import scipy.ndimage\n",
    "import math\n",
    "import yt\n",
    "from astropy.io import fits\n",
    "import sys\n",
    "np.set_printoptions(threshold=sys.maxsize)"
   ]
  },
  {
   "cell_type": "code",
   "execution_count": 2,
   "id": "f9c7a07f",
   "metadata": {},
   "outputs": [
    {
     "name": "stderr",
     "output_type": "stream",
     "text": [
      "yt : [INFO     ] 2025-03-10 23:33:40,982 Parameters: current_time              = 12.75658720606\n",
      "yt : [INFO     ] 2025-03-10 23:33:40,983 Parameters: domain_dimensions         = [512 512 512]\n",
      "yt : [INFO     ] 2025-03-10 23:33:40,986 Parameters: domain_left_edge          = [0. 0. 0.]\n",
      "yt : [INFO     ] 2025-03-10 23:33:40,987 Parameters: domain_right_edge         = [1. 1. 1.]\n",
      "yt : [INFO     ] 2025-03-10 23:33:40,988 Parameters: cosmological_simulation   = 1\n",
      "yt : [INFO     ] 2025-03-10 23:33:40,989 Parameters: current_redshift          = 14.999999224523\n",
      "yt : [INFO     ] 2025-03-10 23:33:40,989 Parameters: omega_lambda              = 0.734\n",
      "yt : [INFO     ] 2025-03-10 23:33:40,990 Parameters: omega_matter              = 0.266\n",
      "yt : [INFO     ] 2025-03-10 23:33:40,990 Parameters: omega_radiation           = 0.0\n",
      "yt : [INFO     ] 2025-03-10 23:33:40,990 Parameters: hubble_constant           = 0.71\n"
     ]
    }
   ],
   "source": [
    "filename = '/storage/home/hcoda1/0/jw254/data/RS-RP/RD0041/RedshiftOutput0041'\n",
    "ds = yt.load(filename)\n",
    "r = ds.current_redshift\n",
    "filter_r = (1 + r)"
   ]
  },
  {
   "cell_type": "code",
   "execution_count": 8,
   "id": "57d1a720",
   "metadata": {},
   "outputs": [
    {
     "name": "stdout",
     "output_type": "stream",
     "text": [
      "[[5.55640396e-01 2.50020940e-09]\n",
      " [5.79153930e-01 1.99063866e-04]\n",
      " [6.10150024e-01 6.90261064e-02]\n",
      " [6.41150024e-01 1.75361324e-01]\n",
      " [6.72150024e-01 2.08671880e-01]\n",
      " [7.03150024e-01 2.34518687e-01]\n",
      " [7.34150024e-01 2.63808035e-01]\n",
      " [7.65150024e-01 2.69085887e-01]\n",
      " [7.96150024e-01 2.61989901e-02]\n",
      " [8.27104037e-01 1.48260202e-05]]\n",
      "[[3.47275265e-02 2.50020940e-09]\n",
      " [3.61971224e-02 1.99063866e-04]\n",
      " [3.81343784e-02 6.90261064e-02]\n",
      " [4.00718785e-02 1.75361324e-01]\n",
      " [4.20093786e-02 2.08671880e-01]\n",
      " [4.39468787e-02 2.34518687e-01]\n",
      " [4.58843787e-02 2.63808035e-01]\n",
      " [4.78218788e-02 2.69085887e-01]\n",
      " [4.97593789e-02 2.61989901e-02]\n",
      " [5.16940048e-02 1.48260202e-05]]\n"
     ]
    }
   ],
   "source": [
    "F070W = []\n",
    "\n",
    "with open('/storage/home/hcoda1/7/shardin31/p-jw254-0/Research/Powderday/powderday/filters/mean_throughputs/F070W_mean_system_throughput.txt', 'r') as f:\n",
    "    F070W = [[float(x) for x in line.split()] for line in f]\n",
    "    \n",
    "F070W_nparray = np.asarray(F070W)\n",
    "\n",
    "#print(F070W_nparray)\n",
    "\n",
    "i = len(F070W_nparray)\n",
    "\n",
    "F070W_smoothedarray = scipy.ndimage.gaussian_filter(F070W_nparray, sigma = (10, 0))\n",
    "    \n",
    "N = len(F070W_smoothedarray)/10\n",
    "\n",
    "F070W_downsizedarray = F070W_smoothedarray[::math.ceil(N)]\n",
    "\n",
    "print(F070W_downsizedarray)\n",
    "    \n",
    "F070W_downsizedarray[:,0] = F070W_downsizedarray[:,0]/filter_r\n",
    "\n",
    "print(F070W_downsizedarray)\n",
    "\n",
    "with open('/storage/home/hcoda1/7/shardin31/p-jw254-0/Research/Powderday/powderday/filters/mean_throughputs_downsized/F070W_downsized.txt', 'w') as f:\n",
    "    f.write('\\n'.join('\\t'.join('%0.8f' %x for x in y) for y in F070W_downsizedarray))"
   ]
  },
  {
   "cell_type": "code",
   "execution_count": 23,
   "id": "5ac7e19e",
   "metadata": {},
   "outputs": [
    {
     "ename": "NameError",
     "evalue": "name 'sp' is not defined",
     "output_type": "error",
     "traceback": [
      "\u001b[0;31m---------------------------------------------------------------------------\u001b[0m",
      "\u001b[0;31mNameError\u001b[0m                                 Traceback (most recent call last)",
      "Cell \u001b[0;32mIn[23], line 5\u001b[0m\n\u001b[1;32m      1\u001b[0m F070W_nparray \u001b[38;5;241m=\u001b[39m np\u001b[38;5;241m.\u001b[39masarray(F070W)\n\u001b[1;32m      3\u001b[0m \u001b[38;5;66;03m#sigma = np.full((len(F070W_nparray), len(F070W_nparray[0])), 1e4/10)\u001b[39;00m\n\u001b[0;32m----> 5\u001b[0m F070W_smoothedarray \u001b[38;5;241m=\u001b[39m \u001b[43msp\u001b[49m\u001b[38;5;241m.\u001b[39mndimage\u001b[38;5;241m.\u001b[39mgaussian_filter(F070W_nparray, \u001b[38;5;241m1e4\u001b[39m\u001b[38;5;241m/\u001b[39m\u001b[38;5;241m10\u001b[39m)\n\u001b[1;32m      6\u001b[0m \u001b[38;5;66;03m#F070W_averagearray1 = np.convolve(F070W_nparray[:, 0], 1e4//10, mode='same')\u001b[39;00m\n\u001b[1;32m      7\u001b[0m \u001b[38;5;66;03m#F070W_averagearray = pylops.Smoothing2D(F070W_nparray, [1e4/10, 1e4/10], dtype=\"float64\")\u001b[39;00m\n\u001b[1;32m      8\u001b[0m \u001b[38;5;66;03m#F070W_averagearray = sp.signal.convolve2d(F070W_nparray, sigma, mode='full')\u001b[39;00m\n\u001b[1;32m     10\u001b[0m F070W_downsizedarray \u001b[38;5;241m=\u001b[39m sp\u001b[38;5;241m.\u001b[39mndimage\u001b[38;5;241m.\u001b[39mzoom(F070W_smoothedarray, (\u001b[38;5;241m0.05\u001b[39m, \u001b[38;5;241m1\u001b[39m), order\u001b[38;5;241m=\u001b[39m\u001b[38;5;241m1\u001b[39m)\n",
      "\u001b[0;31mNameError\u001b[0m: name 'sp' is not defined"
     ]
    }
   ],
   "source": [
    "F070W_nparray = np.asarray(F070W)\n",
    "\n",
    "#sigma = np.full((len(F070W_nparray), len(F070W_nparray[0])), 1e4/10)\n",
    "\n",
    "F070W_smoothedarray = sp.ndimage.gaussian_filter(F070W_nparray, 1e4/10)\n",
    "#F070W_averagearray1 = np.convolve(F070W_nparray[:, 0], 1e4//10, mode='same')\n",
    "#F070W_averagearray = pylops.Smoothing2D(F070W_nparray, [1e4/10, 1e4/10], dtype=\"float64\")\n",
    "#F070W_averagearray = sp.signal.convolve2d(F070W_nparray, sigma, mode='full')\n",
    "\n",
    "F070W_downsizedarray = sp.ndimage.zoom(F070W_smoothedarray, (0.05, 1), order=1)\n",
    "\n",
    "# avg = F070W_smoothedarray.reshape()\n",
    "# print(avg)\n",
    "\n",
    "#F070W_downsizedarray_str = np.array2string(F070W_downsizedarray)\n",
    "\n",
    "#b = '\\n'.join('\\t'.join('%f' %x for x in y) for y in F070W_downsizedarray)\n",
    "#print(F070W_smoothedarray)\n",
    "#print(F070W_downsizedarray)\n",
    "\n"
   ]
  },
  {
   "cell_type": "code",
   "execution_count": 24,
   "id": "4d11dafc",
   "metadata": {},
   "outputs": [
    {
     "ename": "FileNotFoundError",
     "evalue": "[Errno 2] No such file or directory: '/Users/samanthahardin/Research/Powderday/powderday/filters/mean_throughputs_downsized/F070W_output.txt'",
     "output_type": "error",
     "traceback": [
      "\u001b[0;31m---------------------------------------------------------------------------\u001b[0m",
      "\u001b[0;31mFileNotFoundError\u001b[0m                         Traceback (most recent call last)",
      "Cell \u001b[0;32mIn[24], line 1\u001b[0m\n\u001b[0;32m----> 1\u001b[0m \u001b[38;5;28;01mwith\u001b[39;00m \u001b[38;5;28;43mopen\u001b[39;49m\u001b[43m(\u001b[49m\u001b[38;5;124;43m'\u001b[39;49m\u001b[38;5;124;43m/Users/samanthahardin/Research/Powderday/powderday/filters/mean_throughputs_downsized/F070W_output.txt\u001b[39;49m\u001b[38;5;124;43m'\u001b[39;49m\u001b[43m,\u001b[49m\u001b[43m \u001b[49m\u001b[38;5;124;43m'\u001b[39;49m\u001b[38;5;124;43mw\u001b[39;49m\u001b[38;5;124;43m'\u001b[39;49m\u001b[43m)\u001b[49m \u001b[38;5;28;01mas\u001b[39;00m f:\n\u001b[1;32m      2\u001b[0m     f\u001b[38;5;241m.\u001b[39mwrite(\u001b[38;5;124m'\u001b[39m\u001b[38;5;130;01m\\n\u001b[39;00m\u001b[38;5;124m'\u001b[39m\u001b[38;5;241m.\u001b[39mjoin(\u001b[38;5;124m'\u001b[39m\u001b[38;5;130;01m\\t\u001b[39;00m\u001b[38;5;124m'\u001b[39m\u001b[38;5;241m.\u001b[39mjoin(\u001b[38;5;124m'\u001b[39m\u001b[38;5;132;01m%0.8f\u001b[39;00m\u001b[38;5;124m'\u001b[39m \u001b[38;5;241m%\u001b[39mx \u001b[38;5;28;01mfor\u001b[39;00m x \u001b[38;5;129;01min\u001b[39;00m y) \u001b[38;5;28;01mfor\u001b[39;00m y \u001b[38;5;129;01min\u001b[39;00m F070W_downsizedarray))\n",
      "File \u001b[0;32m~/.conda/envs/pd_environment_3/lib/python3.8/site-packages/IPython/core/interactiveshell.py:284\u001b[0m, in \u001b[0;36m_modified_open\u001b[0;34m(file, *args, **kwargs)\u001b[0m\n\u001b[1;32m    277\u001b[0m \u001b[38;5;28;01mif\u001b[39;00m file \u001b[38;5;129;01min\u001b[39;00m {\u001b[38;5;241m0\u001b[39m, \u001b[38;5;241m1\u001b[39m, \u001b[38;5;241m2\u001b[39m}:\n\u001b[1;32m    278\u001b[0m     \u001b[38;5;28;01mraise\u001b[39;00m \u001b[38;5;167;01mValueError\u001b[39;00m(\n\u001b[1;32m    279\u001b[0m         \u001b[38;5;124mf\u001b[39m\u001b[38;5;124m\"\u001b[39m\u001b[38;5;124mIPython won\u001b[39m\u001b[38;5;124m'\u001b[39m\u001b[38;5;124mt let you open fd=\u001b[39m\u001b[38;5;132;01m{\u001b[39;00mfile\u001b[38;5;132;01m}\u001b[39;00m\u001b[38;5;124m by default \u001b[39m\u001b[38;5;124m\"\u001b[39m\n\u001b[1;32m    280\u001b[0m         \u001b[38;5;124m\"\u001b[39m\u001b[38;5;124mas it is likely to crash IPython. If you know what you are doing, \u001b[39m\u001b[38;5;124m\"\u001b[39m\n\u001b[1;32m    281\u001b[0m         \u001b[38;5;124m\"\u001b[39m\u001b[38;5;124myou can use builtins\u001b[39m\u001b[38;5;124m'\u001b[39m\u001b[38;5;124m open.\u001b[39m\u001b[38;5;124m\"\u001b[39m\n\u001b[1;32m    282\u001b[0m     )\n\u001b[0;32m--> 284\u001b[0m \u001b[38;5;28;01mreturn\u001b[39;00m \u001b[43mio_open\u001b[49m\u001b[43m(\u001b[49m\u001b[43mfile\u001b[49m\u001b[43m,\u001b[49m\u001b[43m \u001b[49m\u001b[38;5;241;43m*\u001b[39;49m\u001b[43margs\u001b[49m\u001b[43m,\u001b[49m\u001b[43m \u001b[49m\u001b[38;5;241;43m*\u001b[39;49m\u001b[38;5;241;43m*\u001b[39;49m\u001b[43mkwargs\u001b[49m\u001b[43m)\u001b[49m\n",
      "\u001b[0;31mFileNotFoundError\u001b[0m: [Errno 2] No such file or directory: '/Users/samanthahardin/Research/Powderday/powderday/filters/mean_throughputs_downsized/F070W_output.txt'"
     ]
    }
   ],
   "source": [
    "with open('/Users/samanthahardin/Research/Powderday/powderday/filters/mean_throughputs_downsized/F070W_output.txt', 'w') as f:\n",
    "    f.write('\\n'.join('\\t'.join('%0.8f' %x for x in y) for y in F070W_downsizedarray))"
   ]
  },
  {
   "cell_type": "code",
   "execution_count": 48,
   "id": "c6893bb0",
   "metadata": {},
   "outputs": [
    {
     "name": "stdout",
     "output_type": "stream",
     "text": [
      "[[7.55040360e-01 6.44613402e-07]\n",
      " [7.80551631e-01 2.61867299e-02]\n",
      " [8.13549988e-01 2.70776663e-01]\n",
      " [8.46549988e-01 3.01533920e-01]\n",
      " [8.79549988e-01 3.14612493e-01]\n",
      " [9.12549988e-01 3.24812341e-01]\n",
      " [9.45549988e-01 3.32612173e-01]\n",
      " [9.78549988e-01 3.38323498e-01]\n",
      " [1.01154999e+00 1.09879625e-01]\n",
      " [1.04453786e+00 3.84127138e-04]]\n",
      "[[4.71900248e-02 6.44613402e-07]\n",
      " [4.87844793e-02 2.61867299e-02]\n",
      " [5.08468767e-02 2.70776663e-01]\n",
      " [5.29093768e-02 3.01533920e-01]\n",
      " [5.49718769e-02 3.14612493e-01]\n",
      " [5.70343770e-02 3.24812341e-01]\n",
      " [5.90968771e-02 3.32612173e-01]\n",
      " [6.11593772e-02 3.38323498e-01]\n",
      " [6.32218777e-02 1.09879625e-01]\n",
      " [6.52836194e-02 3.84127138e-04]]\n"
     ]
    }
   ],
   "source": [
    "F090W = []\n",
    "\n",
    "with open('/storage/home/hcoda1/7/shardin31/p-jw254-0/Research/Powderday/powderday/filters/mean_throughputs/F090W_mean_system_throughput.txt', 'r') as f:\n",
    "    F090W = [[float(x) for x in line.split()] for line in f]\n",
    "    \n",
    "F090W_nparray = np.asarray(F090W)\n",
    "\n",
    "i = len(F090W_nparray)\n",
    "\n",
    "F090W_smoothedarray = scipy.ndimage.gaussian_filter(F090W_nparray, sigma = (10, 0))\n",
    "\n",
    "N = len(F090W_smoothedarray)/10\n",
    "\n",
    "F090W_downsizedarray = F090W_smoothedarray[::math.ceil(N)]\n",
    "\n",
    "print(F090W_downsizedarray)\n",
    "    \n",
    "F090W_downsizedarray[:,0] = F090W_downsizedarray[:,0]/filter_r\n",
    "\n",
    "print(F090W_downsizedarray)\n",
    "\n",
    "with open('/storage/home/hcoda1/7/shardin31/p-jw254-0/Research/Powderday/powderday/filters/mean_throughputs_downsized/F090W_downsized.txt', 'w') as f:\n",
    "    f.write('\\n'.join('\\t'.join('%0.8f' %x for x in y) for y in F090W_downsizedarray))"
   ]
  },
  {
   "cell_type": "code",
   "execution_count": 49,
   "id": "e272b075",
   "metadata": {},
   "outputs": [
    {
     "name": "stdout",
     "output_type": "stream",
     "text": [
      "[[9.75690384e-01 1.21277037e-04]\n",
      " [1.00720002e+00 1.20223040e-01]\n",
      " [1.04619995e+00 2.81069997e-01]\n",
      " [1.08519995e+00 2.76208530e-01]\n",
      " [1.12419995e+00 3.04091549e-01]\n",
      " [1.16319995e+00 3.53496491e-01]\n",
      " [1.20219995e+00 3.56897199e-01]\n",
      " [1.24119995e+00 3.87186606e-01]\n",
      " [1.28019995e+00 2.30934165e-01]\n",
      " [1.31919980e+00 1.77960452e-03]]\n",
      "[[6.09806520e-02 1.21277037e-04]\n",
      " [6.29500045e-02 1.20223040e-01]\n",
      " [6.53875002e-02 2.81069997e-01]\n",
      " [6.78250002e-02 2.76208530e-01]\n",
      " [7.02625004e-02 3.04091549e-01]\n",
      " [7.27000005e-02 3.53496491e-01]\n",
      " [7.51375006e-02 3.56897199e-01]\n",
      " [7.75750007e-02 3.87186606e-01]\n",
      " [8.00125008e-02 2.30934165e-01]\n",
      " [8.24499912e-02 1.77960452e-03]]\n"
     ]
    }
   ],
   "source": [
    "F115W = []\n",
    "\n",
    "with open('/storage/home/hcoda1/7/shardin31/p-jw254-0/Research/Powderday/powderday/filters/mean_throughputs/F115W_mean_system_throughput.txt', 'r') as f:\n",
    "    F115W = [[float(x) for x in line.split()] for line in f]\n",
    "    \n",
    "F115W_nparray = np.asarray(F115W)\n",
    "\n",
    "i = len(F115W_nparray)\n",
    "\n",
    "F115W_smoothedarray = scipy.ndimage.gaussian_filter(F115W_nparray, sigma = (10, 0))\n",
    "\n",
    "N = len(F115W_smoothedarray)/10\n",
    "\n",
    "F115W_downsizedarray = F115W_smoothedarray[::math.ceil(N)]\n",
    "\n",
    "print(F115W_downsizedarray)\n",
    "    \n",
    "F115W_downsizedarray[:,0] = F115W_downsizedarray[:,0]/filter_r\n",
    "\n",
    "print(F115W_downsizedarray)\n",
    "\n",
    "with open('/storage/home/hcoda1/7/shardin31/p-jw254-0/Research/Powderday/powderday/filters/mean_throughputs_downsized/F115W_downsized.txt', 'w') as f:\n",
    "    f.write('\\n'.join('\\t'.join('%0.8f' %x for x in y) for y in F115W_downsizedarray))"
   ]
  },
  {
   "cell_type": "code",
   "execution_count": 50,
   "id": "5c188459",
   "metadata": {},
   "outputs": [
    {
     "name": "stdout",
     "output_type": "stream",
     "text": [
      "[[2.99904517e+00 1.67648660e-04]\n",
      " [3.11729093e+00 1.50384144e-01]\n",
      " [3.24565792e+00 4.68344934e-01]\n",
      " [3.37402490e+00 5.05169653e-01]\n",
      " [3.50239189e+00 5.31579601e-01]\n",
      " [3.63075888e+00 5.54626902e-01]\n",
      " [3.75912586e+00 5.71665228e-01]\n",
      " [3.88749285e+00 5.67703265e-01]\n",
      " [4.01585984e+00 9.48073801e-02]\n",
      " [4.14422682e+00 6.86453394e-04]]\n",
      "[[1.87440332e-01 1.67648660e-04]\n",
      " [1.94830693e-01 1.50384144e-01]\n",
      " [2.02853630e-01 4.68344934e-01]\n",
      " [2.10876567e-01 5.05169653e-01]\n",
      " [2.18899504e-01 5.31579601e-01]\n",
      " [2.26922441e-01 5.54626902e-01]\n",
      " [2.34945378e-01 5.71665228e-01]\n",
      " [2.42968315e-01 5.67703265e-01]\n",
      " [2.50991252e-01 9.48073801e-02]\n",
      " [2.59014189e-01 6.86453394e-04]]\n"
     ]
    }
   ],
   "source": [
    "F356W = []\n",
    "\n",
    "with open('/storage/home/hcoda1/7/shardin31/p-jw254-0/Research/Powderday/powderday/filters/mean_throughputs/F356W_mean_system_throughput.txt', 'r') as f:\n",
    "    F356W = [[float(x) for x in line.split()] for line in f]\n",
    "    \n",
    "F356W_nparray = np.asarray(F356W)\n",
    "\n",
    "i = len(F356W_nparray)\n",
    "\n",
    "F356W_smoothedarray = scipy.ndimage.gaussian_filter(F356W_nparray, sigma = (10, 0))\n",
    "\n",
    "N = len(F356W_smoothedarray)/10\n",
    "\n",
    "F356W_downsizedarray = F356W_smoothedarray[::math.ceil(N)]\n",
    "\n",
    "print(F356W_downsizedarray)\n",
    "    \n",
    "F356W_downsizedarray[:,0] = F356W_downsizedarray[:,0]/filter_r\n",
    "\n",
    "print(F356W_downsizedarray)\n",
    "\n",
    "with open('/storage/home/hcoda1/7/shardin31/p-jw254-0/Research/Powderday/powderday/filters/mean_throughputs_downsized/F356W_downsized.txt', 'w') as f:\n",
    "    f.write('\\n'.join('\\t'.join('%0.8f' %x for x in y) for y in F356W_downsizedarray))"
   ]
  },
  {
   "cell_type": "code",
   "execution_count": 51,
   "id": "6de9fa38",
   "metadata": {},
   "outputs": [
    {
     "name": "stdout",
     "output_type": "stream",
     "text": [
      "[[1.25628041e+00 1.17123044e-05]\n",
      " [1.29979004e+00 7.97285855e-03]\n",
      " [1.35079004e+00 4.23958584e-01]\n",
      " [1.40179004e+00 4.45918159e-01]\n",
      " [1.45279004e+00 4.70526089e-01]\n",
      " [1.50379004e+00 4.81564173e-01]\n",
      " [1.55479004e+00 4.85729067e-01]\n",
      " [1.60579004e+00 5.02500395e-01]\n",
      " [1.65679004e+00 4.31573390e-01]\n",
      " [1.70779004e+00 2.32007955e-03]]\n",
      "[[7.85175295e-02 1.17123044e-05]\n",
      " [8.12368814e-02 7.97285855e-03]\n",
      " [8.44243815e-02 4.23958584e-01]\n",
      " [8.76118817e-02 4.45918159e-01]\n",
      " [9.07993818e-02 4.70526089e-01]\n",
      " [9.39868820e-02 4.81564173e-01]\n",
      " [9.71743822e-02 4.85729067e-01]\n",
      " [1.00361882e-01 5.02500395e-01]\n",
      " [1.03549382e-01 4.31573390e-01]\n",
      " [1.06736883e-01 2.32007955e-03]]\n"
     ]
    }
   ],
   "source": [
    "F150W = []\n",
    "\n",
    "with open('/storage/home/hcoda1/7/shardin31/p-jw254-0/Research/Powderday/powderday/filters/mean_throughputs/F150W_mean_system_throughput.txt', 'r') as f:\n",
    "    F150W = [[float(x) for x in line.split()] for line in f]\n",
    "    \n",
    "F150W_nparray = np.asarray(F150W)\n",
    "\n",
    "i = len(F150W_nparray)\n",
    "\n",
    "F150W_smoothedarray = scipy.ndimage.gaussian_filter(F150W_nparray, sigma = (10, 0))\n",
    "\n",
    "N = len(F150W_smoothedarray)/10\n",
    "\n",
    "F150W_downsizedarray = F150W_smoothedarray[::math.ceil(N)]\n",
    "\n",
    "print(F150W_downsizedarray)\n",
    "    \n",
    "F150W_downsizedarray[:,0] = F150W_downsizedarray[:,0]/filter_r\n",
    "\n",
    "print(F150W_downsizedarray)\n",
    "\n",
    "with open('/storage/home/hcoda1/7/shardin31/p-jw254-0/Research/Powderday/powderday/filters/mean_throughputs_downsized/F150W_downsized.txt', 'w') as f:\n",
    "    f.write('\\n'.join('\\t'.join('%0.8f' %x for x in y) for y in F150W_downsizedarray))"
   ]
  },
  {
   "cell_type": "code",
   "execution_count": 42,
   "id": "288075d2",
   "metadata": {
    "scrolled": false
   },
   "outputs": [],
   "source": [
    "F444W = []\n",
    "\n",
    "with open('/storage/home/hcoda1/7/shardin31/p-jw254-0/Research/Powderday/powderday/filters/mean_throughputs/F444W_mean_system_throughput.txt', 'r') as f:\n",
    "    F444W = [[float(x) for x in line.split()] for line in f]\n",
    "    \n",
    "F444W_nparray = np.asarray(F444W)\n",
    "\n",
    "#print(F444W_nparray)\n",
    "\n",
    "i = len(F444W_nparray)\n",
    "\n",
    "F444W_smoothedarray = scipy.ndimage.gaussian_filter(F444W_nparray, sigma = (10,0))\n",
    "\n",
    "#print(F444W_smoothedarray)\n",
    "    \n",
    "N = len(F444W_smoothedarray)/10\n",
    "\n",
    "F444W_downsizedarray = F444W_smoothedarray[::math.ceil(N)]\n",
    "\n",
    "#print(F444W_downsizedarray[:,0])\n",
    "    \n",
    "F444W_downsizedarray[:,0] = F444W_downsizedarray[:,0]/filter_r\n",
    "\n",
    "#print(F444W_downsizedarray)\n",
    "\n",
    "with open('/storage/home/hcoda1/7/shardin31/p-jw254-0/Research/Powderday/powderday/filters/mean_throughputs_downsized/F444W_downsized.txt', 'w') as f:\n",
    "    f.write('\\n'.join('\\t'.join('%0.8f' %x for x in y) for y in F444W_downsizedarray))"
   ]
  },
  {
   "cell_type": "code",
   "execution_count": 52,
   "id": "a8d0c97a",
   "metadata": {},
   "outputs": [
    {
     "name": "stdout",
     "output_type": "stream",
     "text": [
      "[[1.69289040e+00 1.63261591e-04]\n",
      " [1.74740002e+00 1.57648443e-01]\n",
      " [1.80940002e+00 5.15398225e-01]\n",
      " [1.87140002e+00 5.24237243e-01]\n",
      " [1.93340002e+00 5.32015021e-01]\n",
      " [1.99540002e+00 5.31977480e-01]\n",
      " [2.05739992e+00 5.32380891e-01]\n",
      " [2.11939990e+00 5.33599144e-01]\n",
      " [2.18139990e+00 5.14771841e-01]\n",
      " [2.24339990e+00 8.77209754e-02]]\n",
      "[[1.05805655e-01 1.63261591e-04]\n",
      " [1.09212507e-01 1.57648443e-01]\n",
      " [1.13087507e-01 5.15398225e-01]\n",
      " [1.16962507e-01 5.24237243e-01]\n",
      " [1.20837507e-01 5.32015021e-01]\n",
      " [1.24712508e-01 5.31977480e-01]\n",
      " [1.28587501e-01 5.32380891e-01]\n",
      " [1.32462500e-01 5.33599144e-01]\n",
      " [1.36337501e-01 5.14771841e-01]\n",
      " [1.40212501e-01 8.77209754e-02]]\n"
     ]
    }
   ],
   "source": [
    "F200W = []\n",
    "\n",
    "with open('/storage/home/hcoda1/7/shardin31/p-jw254-0/Research/Powderday/powderday/filters/mean_throughputs/F200W_mean_system_throughput.txt', 'r') as f:\n",
    "    F200W = [[float(x) for x in line.split()] for line in f]\n",
    "    \n",
    "F200W_nparray = np.asarray(F200W)\n",
    "\n",
    "i = len(F200W_nparray)\n",
    "\n",
    "F200W_smoothedarray = scipy.ndimage.gaussian_filter(F200W_nparray, sigma = (10, 0))\n",
    "    \n",
    "N = len(F200W_smoothedarray)/10\n",
    "\n",
    "F200W_downsizedarray = F200W_smoothedarray[::math.ceil(N)]\n",
    "\n",
    "print(F200W_downsizedarray)\n",
    "    \n",
    "F200W_downsizedarray[:,0] = F200W_downsizedarray[:,0]/filter_r\n",
    "\n",
    "print(F200W_downsizedarray)\n",
    "\n",
    "with open('/storage/home/hcoda1/7/shardin31/p-jw254-0/Research/Powderday/powderday/filters/mean_throughputs_downsized/F200W_downsized.txt', 'w') as f:\n",
    "    f.write('\\n'.join('\\t'.join('%0.8f' %x for x in y) for y in F200W_downsizedarray))"
   ]
  },
  {
   "cell_type": "code",
   "execution_count": 53,
   "id": "d547bb63",
   "metadata": {},
   "outputs": [
    {
     "name": "stdout",
     "output_type": "stream",
     "text": [
      "[[2.30764448e+00 4.34877561e-06]\n",
      " [2.41994635e+00 2.04143746e-01]\n",
      " [2.54124391e+00 3.91678646e-01]\n",
      " [2.66254147e+00 4.07791719e-01]\n",
      " [2.78383903e+00 4.10533314e-01]\n",
      " [2.90513659e+00 4.25262264e-01]\n",
      " [3.02643415e+00 4.35799298e-01]\n",
      " [3.14773171e+00 1.15527365e-01]\n",
      " [3.26902927e+00 6.73924317e-04]\n",
      " [3.39032683e+00 3.23511064e-05]]\n",
      "[[1.44227787e-01 4.34877561e-06]\n",
      " [1.51246654e-01 2.04143746e-01]\n",
      " [1.58827752e-01 3.91678646e-01]\n",
      " [1.66408850e-01 4.07791719e-01]\n",
      " [1.73989948e-01 4.10533314e-01]\n",
      " [1.81571046e-01 4.25262264e-01]\n",
      " [1.89152144e-01 4.35799298e-01]\n",
      " [1.96733241e-01 1.15527365e-01]\n",
      " [2.04314339e-01 6.73924317e-04]\n",
      " [2.11895437e-01 3.23511064e-05]]\n"
     ]
    }
   ],
   "source": [
    "F277W = []\n",
    "\n",
    "with open('/storage/home/hcoda1/7/shardin31/p-jw254-0/Research/Powderday/powderday/filters/mean_throughputs/F277W_mean_system_throughput.txt', 'r') as f:\n",
    "    F277W = [[float(x) for x in line.split()] for line in f]\n",
    "    \n",
    "F277W_nparray = np.asarray(F277W)\n",
    "\n",
    "i = len(F277W_nparray)\n",
    "\n",
    "F277W_smoothedarray = scipy.ndimage.gaussian_filter(F277W_nparray, sigma = (10, 0))\n",
    "\n",
    "N = len(F277W_smoothedarray)/10\n",
    "\n",
    "F277W_downsizedarray = F277W_smoothedarray[::math.ceil(N)]\n",
    "    \n",
    "print(F277W_downsizedarray)\n",
    "    \n",
    "F277W_downsizedarray[:,0] = F277W_downsizedarray[:,0]/filter_r\n",
    "\n",
    "print(F277W_downsizedarray)\n",
    "    \n",
    "with open('/storage/home/hcoda1/7/shardin31/p-jw254-0/Research/Powderday/powderday/filters/mean_throughputs_downsized/F277W_downsized.txt', 'w') as f:\n",
    "    f.write('\\n'.join('\\t'.join('%0.8f' %x for x in y) for y in F277W_downsizedarray))"
   ]
  },
  {
   "cell_type": "code",
   "execution_count": 54,
   "id": "a87c5a73",
   "metadata": {},
   "outputs": [
    {
     "name": "stdout",
     "output_type": "stream",
     "text": [
      "[[4.1487601e-01 4.8161155e-04]\n",
      " [7.0075965e-01 9.8156522e-04]\n",
      " [9.4898164e-01 5.1068015e-02]\n",
      " [1.1067986e+00 9.6948439e-01]\n",
      " [1.3448341e+00 7.9811983e-02]\n",
      " [1.6711327e+00 4.3106400e-03]\n",
      " [1.9659246e+00 4.5074052e-03]\n",
      " [2.3096020e+00 6.0502449e-03]\n",
      " [2.5790153e+00 5.1177409e-03]\n",
      " [2.8154290e+00 2.8883845e-03]]\n",
      "[[2.59297527e-02 4.81611554e-04]\n",
      " [4.37974818e-02 9.81565216e-04]\n",
      " [5.93113564e-02 5.10680154e-02]\n",
      " [6.91749230e-02 9.69484389e-01]\n",
      " [8.40521380e-02 7.98119828e-02]\n",
      " [1.04445800e-01 4.31064004e-03]\n",
      " [1.22870296e-01 4.50740522e-03]\n",
      " [1.44350141e-01 6.05024491e-03]\n",
      " [1.61188468e-01 5.11774095e-03]\n",
      " [1.75964326e-01 2.88838451e-03]]\n"
     ]
    }
   ],
   "source": [
    "F110W = []\n",
    "\n",
    "with fits.open('/storage/home/hcoda1/7/shardin31/p-jw254-0/Research/Powderday/powderday/filters/mean_throughputs/jwst_nirspec_f110w_trans.fits') as f:\n",
    "    for row in f[1].data:\n",
    "        F110W.append(list(row))\n",
    "    \n",
    "F110W_nparray = np.asarray(F110W)\n",
    "\n",
    "i = len(F110W_nparray)\n",
    "\n",
    "F110W_smoothedarray = scipy.ndimage.gaussian_filter(F110W_nparray, sigma = (10, 0))\n",
    "\n",
    "N = len(F110W_smoothedarray)/10\n",
    "\n",
    "F110W_downsizedarray = F110W_smoothedarray[::math.ceil(N)]\n",
    "\n",
    "print(F110W_downsizedarray)\n",
    "    \n",
    "F110W_downsizedarray[:,0] = F110W_downsizedarray[:,0]/filter_r\n",
    "\n",
    "print(F110W_downsizedarray)\n",
    "\n",
    "with open('/storage/home/hcoda1/7/shardin31/p-jw254-0/Research/Powderday/powderday/filters/mean_throughputs_downsized/F110W_downsized.txt', 'w') as f:\n",
    "    f.write('\\n'.join('\\t'.join('%0.8f' %x for x in y) for y in F110W_downsizedarray))"
   ]
  },
  {
   "cell_type": "code",
   "execution_count": 16,
   "id": "b98b3f03",
   "metadata": {},
   "outputs": [
    {
     "name": "stdout",
     "output_type": "stream",
     "text": [
      "20\n",
      "20\n"
     ]
    }
   ],
   "source": [
    "print(F070W_downsizedarray.size)\n",
    "\n",
    "print(F277W_downsizedarray.size)"
   ]
  },
  {
   "cell_type": "code",
   "execution_count": 17,
   "id": "0085e342",
   "metadata": {},
   "outputs": [
    {
     "data": {
      "text/plain": [
       "608"
      ]
     },
     "execution_count": 17,
     "metadata": {},
     "output_type": "execute_result"
    }
   ],
   "source": [
    "F070W_smoothedarray.size"
   ]
  },
  {
   "cell_type": "code",
   "execution_count": 18,
   "id": "5be174a5",
   "metadata": {},
   "outputs": [
    {
     "data": {
      "text/plain": [
       "608"
      ]
     },
     "execution_count": 18,
     "metadata": {},
     "output_type": "execute_result"
    }
   ],
   "source": [
    "F070W_nparray.size"
   ]
  },
  {
   "cell_type": "code",
   "execution_count": 19,
   "id": "618f9478",
   "metadata": {},
   "outputs": [
    {
     "name": "stdout",
     "output_type": "stream",
     "text": [
      "20\n",
      "20\n",
      "20\n",
      "20\n",
      "20\n",
      "20\n",
      "20\n",
      "20\n"
     ]
    }
   ],
   "source": [
    "print(F070W_downsizedarray.size)\n",
    "print(F090W_downsizedarray.size)\n",
    "print(F115W_downsizedarray.size)\n",
    "print(F356W_downsizedarray.size)\n",
    "print(F150W_downsizedarray.size)\n",
    "print(F444W_downsizedarray.size)\n",
    "print(F200W_downsizedarray.size)\n",
    "print(F277W_downsizedarray.size)"
   ]
  },
  {
   "cell_type": "code",
   "execution_count": 51,
   "id": "7d27253f",
   "metadata": {},
   "outputs": [
    {
     "name": "stdout",
     "output_type": "stream",
     "text": [
      "61.8\n",
      "62\n"
     ]
    }
   ],
   "source": [
    "N = len(F200W_smoothedarray)/10\n",
    "print(N)\n",
    "print(math.ceil(N))"
   ]
  },
  {
   "cell_type": "code",
   "execution_count": 43,
   "id": "115b74ad",
   "metadata": {},
   "outputs": [
    {
     "name": "stdout",
     "output_type": "stream",
     "text": [
      "101.0\n"
     ]
    }
   ],
   "source": [
    "N = len(F277W_smoothedarray)/10\n",
    "print(N)"
   ]
  },
  {
   "cell_type": "code",
   "execution_count": null,
   "id": "71340a72",
   "metadata": {},
   "outputs": [],
   "source": []
  }
 ],
 "metadata": {
  "kernelspec": {
   "display_name": "Python [conda env:.conda-pd_environment_3]",
   "language": "python",
   "name": "conda-env-.conda-pd_environment_3-py"
  },
  "language_info": {
   "codemirror_mode": {
    "name": "ipython",
    "version": 3
   },
   "file_extension": ".py",
   "mimetype": "text/x-python",
   "name": "python",
   "nbconvert_exporter": "python",
   "pygments_lexer": "ipython3",
   "version": "3.8.11"
  }
 },
 "nbformat": 4,
 "nbformat_minor": 5
}
