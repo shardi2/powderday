{
 "cells": [
  {
   "cell_type": "code",
   "execution_count": 4,
   "id": "f0dce923",
   "metadata": {},
   "outputs": [
    {
     "data": {
      "text/plain": [
       "['scale_factor',\n",
       " 'uid',\n",
       " 'desc_scale',\n",
       " 'desc_uid',\n",
       " 'num_prog',\n",
       " 'pid',\n",
       " 'upid',\n",
       " 'desc_pid',\n",
       " 'phantom',\n",
       " 'sam_Mvir',\n",
       " 'mass',\n",
       " 'virial_radius',\n",
       " 'scale_radius',\n",
       " 'velocity_dispersion',\n",
       " 'mmp?',\n",
       " 'scale_of_last_MM',\n",
       " 'vmax',\n",
       " 'position_x',\n",
       " 'position_y',\n",
       " 'position_z',\n",
       " 'velocity_x',\n",
       " 'velocity_y',\n",
       " 'velocity_z',\n",
       " 'angular_momentum_x',\n",
       " 'angular_momentum_y',\n",
       " 'angular_momentum_z',\n",
       " 'spin_parameter',\n",
       " 'Breadth_first_ID',\n",
       " 'Depth_first_ID',\n",
       " 'Tree_root_ID',\n",
       " 'halo_id',\n",
       " 'Snap_idx',\n",
       " 'Next_coprogenitor_depthfirst_ID',\n",
       " 'Last_progenitor_depthfirst_ID',\n",
       " 'Last_mainleaf_depthfirst_ID',\n",
       " 'Tidal_Force',\n",
       " 'Tidal_ID',\n",
       " 'Rs_Klypin',\n",
       " 'Mvir_all',\n",
       " 'M200b',\n",
       " 'M200c',\n",
       " 'M500c',\n",
       " 'M2500c',\n",
       " 'Xoff',\n",
       " 'Voff',\n",
       " 'Spin_Bullock',\n",
       " 'b_to_a',\n",
       " 'c_to_a',\n",
       " 'A[x]',\n",
       " 'A[y]',\n",
       " 'A[z]',\n",
       " 'b_to_a(500c)',\n",
       " 'c_to_a(500c)',\n",
       " 'A[x](500c)',\n",
       " 'A[y](500c)',\n",
       " 'A[z](500c)',\n",
       " 'T_|U|',\n",
       " 'M_pe_Behroozi',\n",
       " 'M_pe_Diemer',\n",
       " 'Type',\n",
       " 'SM',\n",
       " 'Gas',\n",
       " 'BH_Mass',\n",
       " 'total_stellar_angular_momentum',\n",
       " 'stellar_mass',\n",
       " 'gas_mass',\n",
       " 'total_pop3_mass',\n",
       " 'total_cold_gas_mass',\n",
       " 'total_HI_mass',\n",
       " 'total_HII_mass',\n",
       " 'stellar_mass_10Myr',\n",
       " 'stellar_mass_100Myr']"
      ]
     },
     "execution_count": 4,
     "metadata": {},
     "output_type": "execute_result"
    }
   ],
   "source": [
    "import ytree\n",
    "import yt\n",
    "import numpy as np\n",
    "a = ytree.load('/storage/home/hcoda1/7/shardin31/p-jw254-0/Research/Powderday/powderday/arbor/arbor.h5')\n",
    "a.field_list"
   ]
  },
  {
   "cell_type": "code",
   "execution_count": 5,
   "id": "179ca6c2",
   "metadata": {},
   "outputs": [],
   "source": [
    "y = 0\n",
    "medians = []\n",
    "for i in range(0, a.size, 1):\n",
    "    if a['stellar_mass'][i] != 0:\n",
    "        frac_diff = np.loadtxt(\"halo_\"+str(i)+\"_differences.txt\")\n",
    "        medians.append(np.median(frac_diff))\n",
    "        y += 1"
   ]
  },
  {
   "cell_type": "code",
   "execution_count": 6,
   "id": "98ee70ad",
   "metadata": {},
   "outputs": [
    {
     "name": "stdout",
     "output_type": "stream",
     "text": [
      "[1.5578733287956743e-08, 4.2727237806831434e-10, 2.0280162005865512e-07, 1.532795091348353e-08, 5.162425919771127e-06, 9.411524076642373e-07, 1.653507366319445e-06, 8.85520527691563e-06, 2.94838640468264e-07, 1.7700145060639953e-05, 2.1552885115806617e-06]\n"
     ]
    }
   ],
   "source": [
    "print(medians)"
   ]
  },
  {
   "cell_type": "code",
   "execution_count": null,
   "id": "954e660b",
   "metadata": {},
   "outputs": [],
   "source": []
  }
 ],
 "metadata": {
  "kernelspec": {
   "display_name": "pd_kernel",
   "language": "python",
   "name": "pd_kernel"
  },
  "language_info": {
   "codemirror_mode": {
    "name": "ipython",
    "version": 3
   },
   "file_extension": ".py",
   "mimetype": "text/x-python",
   "name": "python",
   "nbconvert_exporter": "python",
   "pygments_lexer": "ipython3",
   "version": "3.8.11"
  }
 },
 "nbformat": 4,
 "nbformat_minor": 5
}
