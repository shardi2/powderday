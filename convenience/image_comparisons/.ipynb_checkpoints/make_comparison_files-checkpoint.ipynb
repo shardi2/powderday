{
 "cells": [
  {
   "cell_type": "code",
   "execution_count": 2,
   "id": "7faaed01",
   "metadata": {},
   "outputs": [
    {
     "data": {
      "text/plain": [
       "['scale_factor',\n",
       " 'uid',\n",
       " 'desc_scale',\n",
       " 'desc_uid',\n",
       " 'num_prog',\n",
       " 'pid',\n",
       " 'upid',\n",
       " 'desc_pid',\n",
       " 'phantom',\n",
       " 'sam_Mvir',\n",
       " 'mass',\n",
       " 'virial_radius',\n",
       " 'scale_radius',\n",
       " 'velocity_dispersion',\n",
       " 'mmp?',\n",
       " 'scale_of_last_MM',\n",
       " 'vmax',\n",
       " 'position_x',\n",
       " 'position_y',\n",
       " 'position_z',\n",
       " 'velocity_x',\n",
       " 'velocity_y',\n",
       " 'velocity_z',\n",
       " 'angular_momentum_x',\n",
       " 'angular_momentum_y',\n",
       " 'angular_momentum_z',\n",
       " 'spin_parameter',\n",
       " 'Breadth_first_ID',\n",
       " 'Depth_first_ID',\n",
       " 'Tree_root_ID',\n",
       " 'halo_id',\n",
       " 'Snap_idx',\n",
       " 'Next_coprogenitor_depthfirst_ID',\n",
       " 'Last_progenitor_depthfirst_ID',\n",
       " 'Last_mainleaf_depthfirst_ID',\n",
       " 'Tidal_Force',\n",
       " 'Tidal_ID',\n",
       " 'Rs_Klypin',\n",
       " 'Mvir_all',\n",
       " 'M200b',\n",
       " 'M200c',\n",
       " 'M500c',\n",
       " 'M2500c',\n",
       " 'Xoff',\n",
       " 'Voff',\n",
       " 'Spin_Bullock',\n",
       " 'b_to_a',\n",
       " 'c_to_a',\n",
       " 'A[x]',\n",
       " 'A[y]',\n",
       " 'A[z]',\n",
       " 'b_to_a(500c)',\n",
       " 'c_to_a(500c)',\n",
       " 'A[x](500c)',\n",
       " 'A[y](500c)',\n",
       " 'A[z](500c)',\n",
       " 'T_|U|',\n",
       " 'M_pe_Behroozi',\n",
       " 'M_pe_Diemer',\n",
       " 'Type',\n",
       " 'SM',\n",
       " 'Gas',\n",
       " 'BH_Mass',\n",
       " 'total_stellar_angular_momentum',\n",
       " 'stellar_mass',\n",
       " 'gas_mass',\n",
       " 'total_pop3_mass',\n",
       " 'total_cold_gas_mass',\n",
       " 'total_HI_mass',\n",
       " 'total_HII_mass',\n",
       " 'stellar_mass_10Myr',\n",
       " 'stellar_mass_100Myr']"
      ]
     },
     "execution_count": 2,
     "metadata": {},
     "output_type": "execute_result"
    }
   ],
   "source": [
    "import ytree\n",
    "import yt\n",
    "a = ytree.load('/storage/home/hcoda1/7/shardin31/p-jw254-0/Research/Powderday/powderday/arbor/arbor.h5')\n",
    "a.field_list"
   ]
  },
  {
   "cell_type": "code",
   "execution_count": 3,
   "id": "c76c13da",
   "metadata": {},
   "outputs": [],
   "source": [
    "#automate for 10 mil vs. 1 mil photon runs for each halo"
   ]
  },
  {
   "cell_type": "code",
   "execution_count": 4,
   "id": "5839b014",
   "metadata": {},
   "outputs": [],
   "source": [
    "y = 0\n",
    "for i in range(0, a.size, 1):\n",
    "    if a['stellar_mass'][i] != 0:\n",
    "        with open('image_compare_photons_10mil.py', 'r') as ogmaster, open('/storage/home/hcoda1/7/shardin31/p-jw254-0/Research/Powderday/powderday/convenience/image_comparisons/image_compare_photons_10mil_halo_'+str(i)+'.py', 'w') as newmaster:\n",
    "            for line in ogmaster:\n",
    "                output_num = i\n",
    "                output_num = '{:02d}'.format(output_num)\n",
    "                if str(line) == \"m_1mil = ModelOutput('/storage/home/hcoda1/7/shardin31/p-jw254-0/Research/summer2023/pd_test/run_1000000/halo_0/example.0000.rtout.image')\\n\":\n",
    "                    newmaster.write(\"m_1mil = ModelOutput('/storage/home/hcoda1/7/shardin31/p-jw254-0/Research/summer2023/pd_test/run_1000000/halo_\"+str(i)+\"/example.00\"+str(output_num)+\".rtout.image')\\n\")\n",
    "                elif str(line) == \"m_10mil = ModelOutput('/storage/home/hcoda1/7/shardin31/p-jw254-0/Research/summer2023/pd_test/run_10000000_1angle/halo_0/example.0000.rtout.image')\\n\":\n",
    "                    newmaster.write(\"m_10mil = ModelOutput('/storage/home/hcoda1/7/shardin31/p-jw254-0/Research/summer2023/pd_test/run_10000000_1angle/halo_\"+str(i)+\"/example.00\"+str(output_num)+\".rtout.image')\\n\")\n",
    "                elif str(line) == \"with open('halo_0_differences.txt', 'a') as file:\\n\":\n",
    "                    newmaster.write(\"with open('halo_\"+str(i)+\"_differences.txt', 'a') as file:\\n\")\n",
    "                elif str(line) == \"fig.savefig('/storage/home/hcoda1/7/shardin31/p-jw254-0/Research/summer2023/pd_test/run_10000000_1angle/pd_image/pd_image_compare_frac_diff_6.png', bbox_inches='tight', dpi=150)\\n\":\n",
    "                    newmaster.write(\"fig.savefig('/storage/home/hcoda1/7/shardin31/p-jw254-0/Research/summer2023/pd_test/run_10000000_1angle/pd_image/pd_image_compare_diff_halo_\"+str(i)+\".png', bbox_inches='tight', dpi=150)\\n\")\n",
    "                else:\n",
    "                    newmaster.write(line)\n",
    "        y += 1"
   ]
  },
  {
   "cell_type": "code",
   "execution_count": 5,
   "id": "7e29641c",
   "metadata": {},
   "outputs": [],
   "source": [
    "#automate for 1 mil vs. 100,000 photon runs for each halo"
   ]
  },
  {
   "cell_type": "code",
   "execution_count": 8,
   "id": "532a8618",
   "metadata": {},
   "outputs": [],
   "source": [
    "y = 0\n",
    "for i in range(0, a.size, 1):\n",
    "    if a['stellar_mass'][i] != 0:\n",
    "        with open('image_compare_photons_1mil.py', 'r') as ogmaster, open('/storage/home/hcoda1/7/shardin31/p-jw254-0/Research/Powderday/powderday/convenience/image_comparisons/image_compare_photons_1mil_halo_'+str(i)+'.py', 'w') as newmaster:\n",
    "            for line in ogmaster:\n",
    "                output_num = i\n",
    "                output_num = '{:02d}'.format(output_num)\n",
    "                if str(line) == \"m_1mil = ModelOutput('/storage/home/hcoda1/7/shardin31/p-jw254-0/Research/summer2023/pd_test/run_1000000/halo_0/example.0000.rtout.image')\\n\":\n",
    "                    newmaster.write(\"m_1mil = ModelOutput('/storage/home/hcoda1/7/shardin31/p-jw254-0/Research/summer2023/pd_test/run_1000000/halo_\"+str(i)+\"/example.00\"+str(output_num)+\".rtout.image')\\n\")\n",
    "                elif str(line) == \"m_100 = ModelOutput('/storage/home/hcoda1/7/shardin31/p-jw254-0/Research/summer2023/pd_test/run_100000/halo_0/example.0000.rtout.image')\\n\":\n",
    "                    newmaster.write(\"m_100 = ModelOutput('/storage/home/hcoda1/7/shardin31/p-jw254-0/Research/summer2023/pd_test/run_100000/halo_\"+str(i)+\"/example.00\"+str(output_num)+\".rtout.image')\\n\")\n",
    "                elif str(line) == \"with open('halo_0_differences.txt', 'a') as file:\\n\":\n",
    "                    newmaster.write(\"with open('halo_\"+str(i)+\"_differences.txt', 'a') as file:\\n\")\n",
    "                elif str(line) == \"fig.savefig('/storage/home/hcoda1/7/shardin31/p-jw254-0/Research/summer2023/pd_test/run_1000000/pd_image/pd_image_compare_diff.png', bbox_inches='tight', dpi=150)\\n\":\n",
    "                    newmaster.write(\"fig.savefig('/storage/home/hcoda1/7/shardin31/p-jw254-0/Research/summer2023/pd_test/run_1000000/pd_image/pd_image_compare_diff_halo_\"+str(i)+\".png', bbox_inches='tight', dpi=150)\\n\")\n",
    "                else:\n",
    "                    newmaster.write(line)\n",
    "        y += 1"
   ]
  },
  {
   "cell_type": "code",
   "execution_count": 9,
   "id": "e3494cd9",
   "metadata": {},
   "outputs": [],
   "source": [
    "#automate for 3 mil vs. 300,000 photon runs for each halo "
   ]
  },
  {
   "cell_type": "code",
   "execution_count": 10,
   "id": "201723ef",
   "metadata": {},
   "outputs": [],
   "source": [
    "y = 0\n",
    "for i in range(0, a.size, 1):\n",
    "    if a['stellar_mass'][i] != 0:\n",
    "        with open('image_compare_photons_1mil.py', 'r') as ogmaster, open('/storage/home/hcoda1/7/shardin31/p-jw254-0/Research/Powderday/powderday/convenience/image_comparisons/image_compare_photons_3mil_halo_'+str(i)+'.py', 'w') as newmaster:\n",
    "            for line in ogmaster:\n",
    "                output_num = i\n",
    "                output_num = '{:02d}'.format(output_num)\n",
    "                if str(line) == \"m_1mil = ModelOutput('/storage/home/hcoda1/7/shardin31/p-jw254-0/Research/summer2023/pd_test/run_1000000/halo_0/example.0000.rtout.image')\\n\":\n",
    "                    newmaster.write(\"m_1mil = ModelOutput('/storage/home/hcoda1/7/shardin31/p-jw254-0/Research/summer2023/pd_test/run_3000000/halo_\"+str(i)+\"/example.00\"+str(output_num)+\".rtout.image')\\n\")\n",
    "                elif str(line) == \"m_100 = ModelOutput('/storage/home/hcoda1/7/shardin31/p-jw254-0/Research/summer2023/pd_test/run_100000/halo_0/example.0000.rtout.image')\\n\":\n",
    "                    newmaster.write(\"m_100 = ModelOutput('/storage/home/hcoda1/7/shardin31/p-jw254-0/Research/summer2023/pd_test/run_300000/halo_\"+str(i)+\"/example.00\"+str(output_num)+\".rtout.image')\\n\")\n",
    "                elif str(line) == \"with open('halo_0_differences.txt', 'a') as file:\\n\":\n",
    "                    newmaster.write(\"with open('halo_\"+str(i)+\"_differences.txt', 'a') as file:\\n\")\n",
    "                elif str(line) == \"fig.savefig('/storage/home/hcoda1/7/shardin31/p-jw254-0/Research/summer2023/pd_test/run_1000000/pd_image/pd_image_compare_diff.png', bbox_inches='tight', dpi=150)\\n\":\n",
    "                    newmaster.write(\"fig.savefig('/storage/home/hcoda1/7/shardin31/p-jw254-0/Research/summer2023/pd_test/run_3000000/pd_image/pd_image_compare_diff_halo_\"+str(i)+\".png', bbox_inches='tight', dpi=150)\\n\")\n",
    "                else:\n",
    "                    newmaster.write(line)\n",
    "        y += 1"
   ]
  },
  {
   "cell_type": "code",
   "execution_count": null,
   "id": "96d7512c",
   "metadata": {},
   "outputs": [],
   "source": []
  }
 ],
 "metadata": {
  "kernelspec": {
   "display_name": "pd_kernel",
   "language": "python",
   "name": "pd_kernel"
  },
  "language_info": {
   "codemirror_mode": {
    "name": "ipython",
    "version": 3
   },
   "file_extension": ".py",
   "mimetype": "text/x-python",
   "name": "python",
   "nbconvert_exporter": "python",
   "pygments_lexer": "ipython3",
   "version": "3.8.11"
  }
 },
 "nbformat": 4,
 "nbformat_minor": 5
}
