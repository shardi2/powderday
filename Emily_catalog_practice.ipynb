{
 "cells": [
  {
   "cell_type": "markdown",
   "id": "f0b89590",
   "metadata": {},
   "source": [
    "This is an overview of how to interact with the hdf5 file for you to practice with. This is most of the properties associated with the halos in the test simulation, but not all of the ones I've calculated. I've talked to John, and you'll ultimately be putting all of this on a website. The goal is to get familiar with everything here first. \n",
    "\n",
    "It would be helpful to me if you let me know if you think of the names of any of my attributes or datasets don't make sense because I want them to make sense to anybody reading the code, but right now, they are tailored to me. As always, let me know if anything doesn't make sense, and we can talk about all of this in our next meeting! "
   ]
  },
  {
   "cell_type": "code",
   "execution_count": 11,
   "id": "c0058032",
   "metadata": {},
   "outputs": [],
   "source": [
    "#the imports you need to work this\n",
    "import h5py\n",
    "import numpy as np"
   ]
  },
  {
   "cell_type": "code",
   "execution_count": 12,
   "id": "02795e0c",
   "metadata": {},
   "outputs": [],
   "source": [
    "#this opens the file and calls it f\n",
    "#the a allows you to append to file\n",
    "f = h5py.File(\"final_dataset_halo_catalog.hdf5\", \"a\")"
   ]
  },
  {
   "cell_type": "code",
   "execution_count": 3,
   "id": "bf04acd0",
   "metadata": {},
   "outputs": [
    {
     "data": {
      "text/plain": [
       "<KeysViewHDF5 ['halo_0', 'halo_1', 'halo_13', 'halo_2', 'halo_3', 'halo_32', 'halo_49', 'halo_57', 'halo_63', 'halo_8', 'halo_99']>"
      ]
     },
     "execution_count": 3,
     "metadata": {},
     "output_type": "execute_result"
    }
   ],
   "source": [
    "#this shows all my halo datasets in the file\n",
    "f.keys()"
   ]
  },
  {
   "cell_type": "code",
   "execution_count": 4,
   "id": "22a3bee7",
   "metadata": {},
   "outputs": [
    {
     "data": {
      "text/plain": [
       "11.181356517874"
      ]
     },
     "execution_count": 4,
     "metadata": {},
     "output_type": "execute_result"
    }
   ],
   "source": [
    "#this is how you open an attribute, which in our case is a specific value of some quality of the halo\n",
    "#for example, this one is the redshift that this output of the halo is at\n",
    "f['halo_0'].attrs['current_redshift']"
   ]
  },
  {
   "cell_type": "code",
   "execution_count": 5,
   "id": "98e5b265",
   "metadata": {},
   "outputs": [
    {
     "data": {
      "text/plain": [
       "<KeysViewHDF5 ['SFE', 'SFR_100Myr', 'SFR_10Myr', 'current_redshift', 'filename', 'gas_fraction', 'halo_ID', 'last_major_merger', 'last_major_merger_halo_mass', 'sSFR_100Myr', 'sSFR_10Myr', 'specific_stellar_angular_momentum', 'total_DM_mass', 'total_HII_mass', 'total_HI_mass', 'total_bh_particles', 'total_cold_gas_mass', 'total_gas_mass', 'total_mass', 'total_pop3', 'total_pop3_mass', 'total_star_particles', 'total_stellar_mass', 'unique_desc_halo_ID', 'unique_desc_subhalo_ID', 'unique_halo_ID', 'unique_subhalo_ID', 'virial_radius']>"
      ]
     },
     "execution_count": 5,
     "metadata": {},
     "output_type": "execute_result"
    }
   ],
   "source": [
    "#this lists all of the attributes I have saved for halo_0 in the hdf5 file\n",
    "f['halo_0'].attrs.keys()"
   ]
  },
  {
   "cell_type": "code",
   "execution_count": 6,
   "id": "c1d94d2b",
   "metadata": {},
   "outputs": [
    {
     "data": {
      "text/plain": [
       "array([6.62352608e+14, 3.33838606e+14, 3.69972745e+14, 5.70977469e+14,\n",
       "       1.85103319e+35, 3.88832345e+15, 6.77653787e+14, 4.81095204e+14,\n",
       "       8.13495141e+34, 3.57513606e+14, 8.22836639e+34, 8.13494422e+34,\n",
       "       8.22835535e+34, 1.11998571e+35, 5.27115070e+14, 1.78870711e+35,\n",
       "       4.81091817e+14, 3.88834843e+15])"
      ]
     },
     "execution_count": 6,
     "metadata": {},
     "output_type": "execute_result"
    }
   ],
   "source": [
    "#this is how you open a dataset, which in our case is a set of numbers associated with the halo\n",
    "#for example, this shows the mass of all of the Pop III (early universe, metal free) stars in the halo at this output\n",
    "f['halo_0/pop3_stellar_masses/'][:]"
   ]
  },
  {
   "cell_type": "code",
   "execution_count": 46,
   "id": "140bb1d9",
   "metadata": {},
   "outputs": [
    {
     "data": {
      "text/plain": [
       "<KeysViewHDF5 ['angular_momentum', 'bh_particle_IDs', 'gas_mass', 'metallicity_fraction', 'photons_1e4', 'photons_1e5', 'photons_1e6', 'photons_1e7', 'pop3_stellar_masses', 'position', 'star_particle_IDs', 'stellar_age', 'stellar_angular_momentum', 'stellar_masses', 'stellar_positons', 'stellar_velocities']>"
      ]
     },
     "execution_count": 46,
     "metadata": {},
     "output_type": "execute_result"
    }
   ],
   "source": [
    "#this lists all of the datasets I have saved for halo_0 in the hdf5 file\n",
    "f['halo_0'].keys()"
   ]
  },
  {
   "cell_type": "code",
   "execution_count": 10,
   "id": "1c772717",
   "metadata": {},
   "outputs": [],
   "source": [
    "#Always close a file once you're finished using it, otherwise it can cause the file to be corrupted or unopenable in the fiture\n",
    "f.close()"
   ]
  },
  {
   "cell_type": "code",
   "execution_count": 14,
   "id": "6dd9db59",
   "metadata": {},
   "outputs": [
    {
     "data": {
      "text/plain": [
       "array([738913., 739347., 739348., 739339., 739340., 739341., 739342.,\n",
       "       739343., 739345., 739346., 738872.])"
      ]
     },
     "execution_count": 14,
     "metadata": {},
     "output_type": "execute_result"
    }
   ],
   "source": [
    "f['halo_0/star_particle_IDs'][:]"
   ]
  },
  {
   "cell_type": "code",
   "execution_count": 16,
   "id": "d6c98de5",
   "metadata": {},
   "outputs": [
    {
     "data": {
      "text/plain": [
       "array([6.62352608e+14, 3.33838606e+14, 3.69972745e+14, 5.70977469e+14,\n",
       "       1.85103319e+35, 3.88832345e+15, 6.77653787e+14, 4.81095204e+14,\n",
       "       8.13495141e+34, 3.57513606e+14, 8.22836639e+34, 8.13494422e+34,\n",
       "       8.22835535e+34, 1.11998571e+35, 5.27115070e+14, 1.78870711e+35,\n",
       "       4.81091817e+14, 3.88834843e+15])"
      ]
     },
     "execution_count": 16,
     "metadata": {},
     "output_type": "execute_result"
    }
   ],
   "source": [
    "f['halo_0/pop3_stellar_masses'][:]"
   ]
  },
  {
   "cell_type": "code",
   "execution_count": 23,
   "id": "e8f7ae32",
   "metadata": {},
   "outputs": [
    {
     "data": {
      "text/plain": [
       "<HDF5 group \"/halo_0/photons_1e4\" (0 members)>"
      ]
     },
     "execution_count": 23,
     "metadata": {},
     "output_type": "execute_result"
    }
   ],
   "source": [
    "f['halo_0/photons_1e4']"
   ]
  },
  {
   "cell_type": "code",
   "execution_count": null,
   "id": "51f251ab",
   "metadata": {},
   "outputs": [],
   "source": []
  }
 ],
 "metadata": {
  "kernelspec": {
   "display_name": "pd_kernel",
   "language": "python",
   "name": "pd_kernel"
  },
  "language_info": {
   "codemirror_mode": {
    "name": "ipython",
    "version": 3
   },
   "file_extension": ".py",
   "mimetype": "text/x-python",
   "name": "python",
   "nbconvert_exporter": "python",
   "pygments_lexer": "ipython3",
   "version": "3.8.11"
  }
 },
 "nbformat": 4,
 "nbformat_minor": 5
}
