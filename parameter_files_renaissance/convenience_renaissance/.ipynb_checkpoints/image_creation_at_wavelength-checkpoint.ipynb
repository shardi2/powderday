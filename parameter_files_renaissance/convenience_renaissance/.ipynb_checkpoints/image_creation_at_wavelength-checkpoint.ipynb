{
 "cells": [
  {
   "cell_type": "code",
   "execution_count": 18,
   "id": "c005b26f",
   "metadata": {},
   "outputs": [
    {
     "name": "stderr",
     "output_type": "stream",
     "text": [
      "yt : [INFO     ] 2025-04-25 01:02:39,611 Loading plugins from /storage/home/hcoda1/7/shardin31/.config/yt/my_plugins.py\n",
      "yt : [WARNING  ] 2025-04-25 01:02:39,615 Field ('gas', 'healpix_pix_3') already exists. To override use `force_override=True`.\n",
      "yt : [WARNING  ] 2025-04-25 01:02:39,616 Field ('gas', 'metallicity3') already exists. To override use `force_override=True`.\n",
      "yt : [WARNING  ] 2025-04-25 01:02:39,616 Field ('gas', 'total_metallicity') already exists. To override use `force_override=True`.\n",
      "yt : [WARNING  ] 2025-04-25 01:02:39,617 Field ('gas', 'electron_fraction') already exists. To override use `force_override=True`.\n",
      "yt : [WARNING  ] 2025-04-25 01:02:39,619 Field ('gas', 'J21_LW') already exists. To override use `force_override=True`.\n",
      "yt : [WARNING  ] 2025-04-25 01:02:39,619 Field ('gas', 'J_LW') already exists. To override use `force_override=True`.\n",
      "yt : [WARNING  ] 2025-04-25 01:02:39,620 Field ('gas', 'J_Lyman') already exists. To override use `force_override=True`.\n",
      "yt : [WARNING  ] 2025-04-25 01:02:39,620 Field ('gas', 'column_density') already exists. To override use `force_override=True`.\n",
      "yt : [WARNING  ] 2025-04-25 01:02:39,621 Field ('gas', 'gas_fraction') already exists. To override use `force_override=True`.\n",
      "yt : [WARNING  ] 2025-04-25 01:02:39,621 Field ('gas', 'dark_matter_mass') already exists. To override use `force_override=True`.\n",
      "yt : [WARNING  ] 2025-04-25 01:02:39,622 Field ('gas', 'mass_divergence') already exists. To override use `force_override=True`.\n",
      "yt : [WARNING  ] 2025-04-25 01:02:39,622 Field ('gas', 'radial_mass_flux') already exists. To override use `force_override=True`.\n",
      "yt : [WARNING  ] 2025-04-25 01:02:39,623 Field ('gas', 'inertia_tensor_xx') already exists. To override use `force_override=True`.\n",
      "yt : [WARNING  ] 2025-04-25 01:02:39,623 Field ('gas', 'inertia_tensor_yy') already exists. To override use `force_override=True`.\n",
      "yt : [WARNING  ] 2025-04-25 01:02:39,624 Field ('gas', 'inertia_tensor_zz') already exists. To override use `force_override=True`.\n",
      "yt : [WARNING  ] 2025-04-25 01:02:39,624 Field ('gas', 'inertia_tensor_xy') already exists. To override use `force_override=True`.\n",
      "yt : [WARNING  ] 2025-04-25 01:02:39,625 Field ('gas', 'inertia_tensor_xz') already exists. To override use `force_override=True`.\n",
      "yt : [WARNING  ] 2025-04-25 01:02:39,625 Field ('gas', 'inertia_tensor_yz') already exists. To override use `force_override=True`.\n",
      "yt : [WARNING  ] 2025-04-25 01:02:39,626 Field ('gas', 'H_nuclei_density') already exists. To override use `force_override=True`.\n",
      "yt : [WARNING  ] 2025-04-25 01:02:39,626 Field ('gas', 'log_N') already exists. To override use `force_override=True`.\n",
      "yt : [WARNING  ] 2025-04-25 01:02:39,627 Field ('gas', 'log_J') already exists. To override use `force_override=True`.\n",
      "yt : [WARNING  ] 2025-04-25 01:02:39,627 Field ('gas', 'log_Z') already exists. To override use `force_override=True`.\n",
      "yt : [WARNING  ] 2025-04-25 01:02:39,628 Field ('gas', 'log_T') already exists. To override use `force_override=True`.\n",
      "yt : [WARNING  ] 2025-04-25 01:02:39,628 Field ('gas', 'log_nH') already exists. To override use `force_override=True`.\n",
      "yt : [WARNING  ] 2025-04-25 01:02:39,628 The p3_sn particle filter already exists. Overriding.\n",
      "yt : [WARNING  ] 2025-04-25 01:02:39,629 The p3_bh particle filter already exists. Overriding.\n",
      "yt : [WARNING  ] 2025-04-25 01:02:39,629 The p3_living particle filter already exists. Overriding.\n",
      "yt : [WARNING  ] 2025-04-25 01:02:39,630 The p3 particle filter already exists. Overriding.\n",
      "yt : [WARNING  ] 2025-04-25 01:02:39,630 The p2 particle filter already exists. Overriding.\n",
      "yt : [WARNING  ] 2025-04-25 01:02:39,631 The p2_young particle filter already exists. Overriding.\n",
      "yt : [WARNING  ] 2025-04-25 01:02:39,634 The p2_old particle filter already exists. Overriding.\n",
      "yt : [WARNING  ] 2025-04-25 01:02:39,634 The stars particle filter already exists. Overriding.\n",
      "yt : [WARNING  ] 2025-04-25 01:02:39,634 The dm particle filter already exists. Overriding.\n",
      "yt : [WARNING  ] 2025-04-25 01:02:39,635 The mrp particle filter already exists. Overriding.\n"
     ]
    }
   ],
   "source": [
    "import matplotlib\n",
    "matplotlib.use('Agg')\n",
    "\n",
    "import numpy as np\n",
    "import matplotlib.pyplot as plt\n",
    "from hyperion.model import ModelOutput\n",
    "from astropy.cosmology import Planck13\n",
    "from astropy import units as u\n",
    "from astropy import constants\n",
    "from hyperion.util.constants import pc\n",
    "import h5py\n",
    "import os\n",
    "import sys\n",
    "import ytree\n",
    "import yt\n",
    "np.set_printoptions(threshold=sys.maxsize)\n",
    "yt.enable_plugins()"
   ]
  },
  {
   "cell_type": "code",
   "execution_count": 19,
   "id": "b6eda791",
   "metadata": {},
   "outputs": [],
   "source": [
    "#make image single wavelength\n",
    "def make_image_single_wavelength(wav, m):\n",
    "    # Get the image from the ModelOutput object\n",
    "    image = m.get_image(units='ergs/s')\n",
    "\n",
    "    # Open figure and create axes\n",
    "    fig = plt.figure()\n",
    "    ax = fig.add_subplot(111)\n",
    "\n",
    "    # Find the closest wavelength\n",
    "    iwav = np.argmin(np.abs(wav - image.wav))\n",
    "\n",
    "    # Calculate the image width in kpc\n",
    "    w = image.x_max * u.cm\n",
    "    w = w.to(u.kpc)\n",
    "    \n",
    "    cax = ax.imshow(np.log10(image.val[0, :, :, iwav]), cmap=plt.cm.viridis,\n",
    "                origin='lower', extent=[-w.value, w.value, -w.value, w.value])\n",
    "    \n",
    "    ax.tick_params(axis='both', which='major', labelsize=10)\n",
    "    ax.set_xlabel('x (kpc)')\n",
    "    ax.set_xlabel('y (kpc)')\n",
    "\n",
    "    plt.colorbar(cax, label='log10 Luminosity (ergs/s)')\n"
   ]
  },
  {
   "cell_type": "code",
   "execution_count": 20,
   "id": "c31526fe",
   "metadata": {},
   "outputs": [
    {
     "name": "stderr",
     "output_type": "stream",
     "text": [
      "/tmp/ipykernel_4029979/2892082888.py:17: RuntimeWarning: divide by zero encountered in log10\n",
      "  cax = ax.imshow(np.log10(image.val[0, :, :, iwav]), cmap=plt.cm.viridis,\n"
     ]
    },
    {
     "data": {
      "text/plain": [
       "<matplotlib.colorbar.Colorbar at 0x1555004091f0>"
      ]
     },
     "execution_count": 20,
     "metadata": {},
     "output_type": "execute_result"
    }
   ],
   "source": [
    "m = ModelOutput('/storage/home/hcoda1/7/shardin31/p-jw254-0/Research/summer2023/pd_test/run_10000000/halo_0/example.0000.rtout.image')\n",
    "wav = 0.55816454\n",
    "\n",
    "image = m.get_image(units='ergs/s')\n",
    "\n",
    "# Open figure and create axes\n",
    "fig = plt.figure()\n",
    "ax = fig.add_subplot(111)\n",
    "\n",
    "# Find the closest wavelength\n",
    "iwav = np.argmin(np.abs(wav - image.wav))\n",
    "\n",
    "# Calculate the image width in kpc\n",
    "w = image.x_max * u.cm\n",
    "w = w.to(u.kpc)\n",
    "\n",
    "cax = ax.imshow(np.log10(image.val[0, :, :, iwav]), cmap=plt.cm.viridis,\n",
    "            origin='lower', extent=[-w.value, w.value, -w.value, w.value])\n",
    "\n",
    "ax.tick_params(axis='both', which='major', labelsize=10)\n",
    "ax.set_xlabel('x (kpc)')\n",
    "ax.set_xlabel('y (kpc)')\n",
    "\n",
    "plt.colorbar(cax, label='log10 Luminosity (ergs/s)')\n",
    "\n",
    "#make_image_single_wavelength(wav, m)"
   ]
  },
  {
   "cell_type": "code",
   "execution_count": 21,
   "id": "ebdd9140",
   "metadata": {},
   "outputs": [
    {
     "name": "stderr",
     "output_type": "stream",
     "text": [
      "/tmp/ipykernel_4029979/3682319559.py:38: RuntimeWarning: divide by zero encountered in log10\n",
      "  cax = ax.imshow(np.log10(image.val[0, :, :, iwav]), cmap=plt.cm.viridis,\n"
     ]
    },
    {
     "data": {
      "text/plain": [
       "<matplotlib.colorbar.Colorbar at 0x15550048ccd0>"
      ]
     },
     "execution_count": 21,
     "metadata": {},
     "output_type": "execute_result"
    }
   ],
   "source": [
    "import numpy as np\n",
    "import matplotlib.pyplot as plt\n",
    "from hyperion.model import ModelOutput\n",
    "import astropy.units as u\n",
    "import h5py\n",
    "import sys\n",
    "import numpy\n",
    "numpy.set_printoptions(threshold=sys.maxsize)\n",
    "\n",
    "# ------------------------\n",
    "# modifiable header\n",
    "# ------------------------\n",
    "\n",
    "m = ModelOutput('/storage/home/hcoda1/7/shardin31/p-jw254-0/Research/summer2023/pd_test/run_renaissance_1000000/halo_1/example.0001.rtout.image')\n",
    "#'/storage/home/hcoda1/7/shardin31/p-jw254-0/Research/summer2023/pd_test/run_10000/pd_image/example.0000.rtout.image')\n",
    "wav = 0.55816454  # micron\n",
    "#f = h5py.File(\"/storage/home/hcoda1/7/shardin31/p-jw254-0/Research/Powderday/powderday/parameter_files_renaissance/final_dataset_halo_catalog.hdf5\", \"a\")\n",
    "#f = h5py.File(\"final_dataset_halo_catalog.hdf5\", \"a\")\n",
    "# ------------------------\n",
    "\n",
    "# Get the image from the ModelOutput object\n",
    "image = m.get_image(units='ergs/s')\n",
    "\n",
    "# Open figure and create axes\n",
    "fig = plt.figure()\n",
    "ax = fig.add_subplot(111)\n",
    "\n",
    "# Find the closest wavelength\n",
    "iwav = np.argmin(np.abs(wav - image.wav))\n",
    "\n",
    "# Calculate the image width in kpc\n",
    "w = image.x_max * u.cm\n",
    "w = w.to(u.kpc)\n",
    "\n",
    "# plot the beast\n",
    "#cax = ax.imshow(final_image_log, cmap=plt.cm.viridis, vmin=minv, vmax=maxv,\n",
    "#                origin='lower', extent=[-w.value, w.value, -w.value, w.value])\n",
    "cax = ax.imshow(np.log10(image.val[0, :, :, iwav]), cmap=plt.cm.viridis,\n",
    "                origin='lower', extent=[-w.value/2, w.value/2, -w.value/2, w.value/2])\n",
    "#, norm=colors.LogNorm())\n",
    "\n",
    "#print(image.val[0, :, :, iwav])\n",
    "\n",
    "#print(np.log10(image.val[0, :, :, iwav]))\n",
    "\n",
    "# Finalize the plot\n",
    "ax.tick_params(axis='both', which='major', labelsize=10)\n",
    "ax.set_xlabel('x (kpc)')\n",
    "ax.set_xlabel('y (kpc)')\n",
    "ax.set_title(\"Most massive halo, no psf\")\n",
    "\n",
    "plt.colorbar(cax, label='log10 Luminosity (ergs/s)')\n"
   ]
  },
  {
   "cell_type": "code",
   "execution_count": null,
   "id": "e8a2fd60",
   "metadata": {},
   "outputs": [],
   "source": []
  }
 ],
 "metadata": {
  "kernelspec": {
   "display_name": "Python [conda env:.conda-pd_environment_3]",
   "language": "python",
   "name": "conda-env-.conda-pd_environment_3-py"
  },
  "language_info": {
   "codemirror_mode": {
    "name": "ipython",
    "version": 3
   },
   "file_extension": ".py",
   "mimetype": "text/x-python",
   "name": "python",
   "nbconvert_exporter": "python",
   "pygments_lexer": "ipython3",
   "version": "3.8.11"
  }
 },
 "nbformat": 4,
 "nbformat_minor": 5
}
