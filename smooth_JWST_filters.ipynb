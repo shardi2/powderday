{
 "cells": [
  {
   "cell_type": "code",
   "execution_count": 1,
   "id": "0c22579c",
   "metadata": {},
   "outputs": [],
   "source": [
    "import numpy as np\n",
    "#import scipy as sp\n",
    "from scipy.ndimage import gaussian_filter\n",
    "import math\n",
    "import yt\n",
    "from astropy.io import fits"
   ]
  },
  {
   "cell_type": "code",
   "execution_count": 2,
   "id": "f9c7a07f",
   "metadata": {},
   "outputs": [
    {
     "name": "stderr",
     "output_type": "stream",
     "text": [
      "yt : [INFO     ] 2024-12-11 18:09:26,443 Parameters: current_time              = 12.75658720606\n",
      "yt : [INFO     ] 2024-12-11 18:09:26,444 Parameters: domain_dimensions         = [512 512 512]\n",
      "yt : [INFO     ] 2024-12-11 18:09:26,445 Parameters: domain_left_edge          = [0. 0. 0.]\n",
      "yt : [INFO     ] 2024-12-11 18:09:26,446 Parameters: domain_right_edge         = [1. 1. 1.]\n",
      "yt : [INFO     ] 2024-12-11 18:09:26,447 Parameters: cosmological_simulation   = 1\n",
      "yt : [INFO     ] 2024-12-11 18:09:26,447 Parameters: current_redshift          = 14.999999224523\n",
      "yt : [INFO     ] 2024-12-11 18:09:26,447 Parameters: omega_lambda              = 0.734\n",
      "yt : [INFO     ] 2024-12-11 18:09:26,447 Parameters: omega_matter              = 0.266\n",
      "yt : [INFO     ] 2024-12-11 18:09:26,448 Parameters: omega_radiation           = 0.0\n",
      "yt : [INFO     ] 2024-12-11 18:09:26,448 Parameters: hubble_constant           = 0.71\n"
     ]
    }
   ],
   "source": [
    "filename = '/storage/home/hcoda1/0/jw254/data/RS-RP/RD0041/RedshiftOutput0041'\n",
    "ds = yt.load(filename)\n",
    "r = ds.current_redshift\n",
    "filter_r = (1 + r)\n",
    "arr = [10000, 100000, 1000000, 10000000]"
   ]
  },
  {
   "cell_type": "code",
   "execution_count": 27,
   "id": "57d1a720",
   "metadata": {},
   "outputs": [],
   "source": [
    "F070W = []\n",
    "\n",
    "with open('/storage/home/hcoda1/7/shardin31/p-jw254-0/Research/Powderday/powderday/filters/mean_throughputs/F070W_mean_system_throughput.txt', 'r') as f:\n",
    "    F070W = [[float(x) for x in line.split()] for line in f]\n",
    "    \n",
    "F070W_nparray = np.asarray(F070W)\n",
    "\n",
    "i = len(F070W_nparray)\n",
    "\n",
    "F070W_smoothedarray = gaussian_filter(F070W_nparray, i/10)\n",
    "    \n",
    "N = len(F070W_smoothedarray)/10\n",
    "\n",
    "F070W_downsizedarray = F070W_smoothedarray[::math.ceil(N)]\n",
    "    \n",
    "F070W_downsizedarray = F070W_downsizedarray/filter_r\n",
    "\n",
    "with open('/storage/home/hcoda1/7/shardin31/p-jw254-0/Research/Powderday/powderday/filters/mean_throughputs_downsized/F070W_downsized.txt', 'w') as f:\n",
    "    f.write('\\n'.join('\\t'.join('%0.8f' %x for x in y) for y in F070W_downsizedarray))"
   ]
  },
  {
   "cell_type": "code",
   "execution_count": 93,
   "id": "5ac7e19e",
   "metadata": {},
   "outputs": [],
   "source": [
    "F070W_nparray = np.asarray(F070W)\n",
    "\n",
    "#sigma = np.full((len(F070W_nparray), len(F070W_nparray[0])), 1e4/10)\n",
    "\n",
    "F070W_smoothedarray = sp.ndimage.gaussian_filter(F070W_nparray, 1e4/10)\n",
    "#F070W_averagearray1 = np.convolve(F070W_nparray[:, 0], 1e4//10, mode='same')\n",
    "#F070W_averagearray = pylops.Smoothing2D(F070W_nparray, [1e4/10, 1e4/10], dtype=\"float64\")\n",
    "#F070W_averagearray = sp.signal.convolve2d(F070W_nparray, sigma, mode='full')\n",
    "\n",
    "F070W_downsizedarray = sp.ndimage.zoom(F070W_smoothedarray, (0.05, 1), order=1)\n",
    "\n",
    "# avg = F070W_smoothedarray.reshape()\n",
    "# print(avg)\n",
    "\n",
    "#F070W_downsizedarray_str = np.array2string(F070W_downsizedarray)\n",
    "\n",
    "#b = '\\n'.join('\\t'.join('%f' %x for x in y) for y in F070W_downsizedarray)\n",
    "#print(F070W_smoothedarray)\n",
    "#print(F070W_downsizedarray)\n",
    "\n"
   ]
  },
  {
   "cell_type": "code",
   "execution_count": 94,
   "id": "4d11dafc",
   "metadata": {},
   "outputs": [],
   "source": [
    "with open('/Users/samanthahardin/Research/Powderday/powderday/filters/mean_throughputs_downsized/F070W_output.txt', 'w') as f:\n",
    "    f.write('\\n'.join('\\t'.join('%0.8f' %x for x in y) for y in F070W_downsizedarray))"
   ]
  },
  {
   "cell_type": "code",
   "execution_count": 28,
   "id": "c6893bb0",
   "metadata": {},
   "outputs": [],
   "source": [
    "F090W = []\n",
    "\n",
    "with open('/storage/home/hcoda1/7/shardin31/p-jw254-0/Research/Powderday/powderday/filters/mean_throughputs/F090W_mean_system_throughput.txt', 'r') as f:\n",
    "    F090W = [[float(x) for x in line.split()] for line in f]\n",
    "    \n",
    "F090W_nparray = np.asarray(F090W)\n",
    "\n",
    "i = len(F090W_nparray)\n",
    "\n",
    "F090W_smoothedarray = gaussian_filter(F090W_nparray, i/10)\n",
    "\n",
    "N = len(F090W_smoothedarray)/10\n",
    "\n",
    "F090W_downsizedarray = F090W_smoothedarray[::math.ceil(N)]\n",
    "    \n",
    "F090W_downsizedarray = F090W_downsizedarray/filter_r\n",
    "\n",
    "with open('/storage/home/hcoda1/7/shardin31/p-jw254-0/Research/Powderday/powderday/filters/mean_throughputs_downsized/F090W_downsized.txt', 'w') as f:\n",
    "    f.write('\\n'.join('\\t'.join('%0.8f' %x for x in y) for y in F090W_downsizedarray))"
   ]
  },
  {
   "cell_type": "code",
   "execution_count": 29,
   "id": "e272b075",
   "metadata": {},
   "outputs": [],
   "source": [
    "F115W = []\n",
    "\n",
    "with open('/storage/home/hcoda1/7/shardin31/p-jw254-0/Research/Powderday/powderday/filters/mean_throughputs/F115W_mean_system_throughput.txt', 'r') as f:\n",
    "    F115W = [[float(x) for x in line.split()] for line in f]\n",
    "    \n",
    "F115W_nparray = np.asarray(F115W)\n",
    "\n",
    "i = len(F115W_nparray)\n",
    "\n",
    "F115W_smoothedarray = gaussian_filter(F115W_nparray, i/10)\n",
    "\n",
    "N = len(F115W_smoothedarray)/10\n",
    "\n",
    "F115W_downsizedarray = F115W_smoothedarray[::math.ceil(N)]\n",
    "    \n",
    "F115W_downsizedarray = F115W_downsizedarray/filter_r\n",
    "\n",
    "with open('/storage/home/hcoda1/7/shardin31/p-jw254-0/Research/Powderday/powderday/filters/mean_throughputs_downsized/F115W_downsized.txt', 'w') as f:\n",
    "    f.write('\\n'.join('\\t'.join('%0.8f' %x for x in y) for y in F115W_downsizedarray))"
   ]
  },
  {
   "cell_type": "code",
   "execution_count": 30,
   "id": "5c188459",
   "metadata": {},
   "outputs": [],
   "source": [
    "F356W = []\n",
    "\n",
    "with open('/storage/home/hcoda1/7/shardin31/p-jw254-0/Research/Powderday/powderday/filters/mean_throughputs/F356W_mean_system_throughput.txt', 'r') as f:\n",
    "    F356W = [[float(x) for x in line.split()] for line in f]\n",
    "    \n",
    "F356W_nparray = np.asarray(F356W)\n",
    "\n",
    "i = len(F356W_nparray)\n",
    "\n",
    "F356W_smoothedarray = gaussian_filter(F356W_nparray, i/10)\n",
    "\n",
    "N = len(F356W_smoothedarray)/10\n",
    "\n",
    "F356W_downsizedarray = F356W_smoothedarray[::math.ceil(N)]\n",
    "    \n",
    "F356W_downsizedarray = F356W_downsizedarray/filter_r\n",
    "\n",
    "with open('/storage/home/hcoda1/7/shardin31/p-jw254-0/Research/Powderday/powderday/filters/mean_throughputs_downsized/F356W_downsized.txt', 'w') as f:\n",
    "    f.write('\\n'.join('\\t'.join('%0.8f' %x for x in y) for y in F356W_downsizedarray))"
   ]
  },
  {
   "cell_type": "code",
   "execution_count": 34,
   "id": "6de9fa38",
   "metadata": {},
   "outputs": [],
   "source": [
    "F150W = []\n",
    "\n",
    "with open('/storage/home/hcoda1/7/shardin31/p-jw254-0/Research/Powderday/powderday/filters/mean_throughputs/F150W_mean_system_throughput.txt', 'r') as f:\n",
    "    F150W = [[float(x) for x in line.split()] for line in f]\n",
    "    \n",
    "F150W_nparray = np.asarray(F150W)\n",
    "\n",
    "i = len(F150W_nparray)\n",
    "\n",
    "F150W_smoothedarray = gaussian_filter(F150W_nparray, i/10)\n",
    "\n",
    "N = len(F150W_smoothedarray)/10\n",
    "\n",
    "F150W_downsizedarray = F150W_smoothedarray[::math.ceil(N)]\n",
    "    \n",
    "F150W_downsizedarray = F150W_downsizedarray/filter_r\n",
    "\n",
    "with open('/storage/home/hcoda1/7/shardin31/p-jw254-0/Research/Powderday/powderday/filters/mean_throughputs_downsized/F150W_downsized.txt', 'w') as f:\n",
    "    f.write('\\n'.join('\\t'.join('%0.8f' %x for x in y) for y in F150W_downsizedarray))"
   ]
  },
  {
   "cell_type": "code",
   "execution_count": 35,
   "id": "288075d2",
   "metadata": {},
   "outputs": [],
   "source": [
    "F444W = []\n",
    "\n",
    "with open('/storage/home/hcoda1/7/shardin31/p-jw254-0/Research/Powderday/powderday/filters/mean_throughputs/F444W_mean_system_throughput.txt', 'r') as f:\n",
    "    F444W = [[float(x) for x in line.split()] for line in f]\n",
    "    \n",
    "F444W_nparray = np.asarray(F444W)\n",
    "\n",
    "i = len(F444W_nparray)\n",
    "\n",
    "F444W_smoothedarray = gaussian_filter(F444W_nparray, i/10)\n",
    "    \n",
    "N = len(F444W_smoothedarray)/10\n",
    "\n",
    "F444W_downsizedarray = F444W_smoothedarray[::math.ceil(N)]\n",
    "    \n",
    "F444W_downsizedarray = F444W_downsizedarray/filter_r\n",
    "\n",
    "with open('/storage/home/hcoda1/7/shardin31/p-jw254-0/Research/Powderday/powderday/filters/mean_throughputs_downsized/F444W_downsized.txt', 'w') as f:\n",
    "    f.write('\\n'.join('\\t'.join('%0.8f' %x for x in y) for y in F444W_downsizedarray))"
   ]
  },
  {
   "cell_type": "code",
   "execution_count": 36,
   "id": "a8d0c97a",
   "metadata": {},
   "outputs": [],
   "source": [
    "F200W = []\n",
    "\n",
    "with open('/storage/home/hcoda1/7/shardin31/p-jw254-0/Research/Powderday/powderday/filters/mean_throughputs/F200W_mean_system_throughput.txt', 'r') as f:\n",
    "    F200W = [[float(x) for x in line.split()] for line in f]\n",
    "    \n",
    "F200W_nparray = np.asarray(F200W)\n",
    "\n",
    "i = len(F200W_nparray)\n",
    "\n",
    "F200W_smoothedarray = gaussian_filter(F200W_nparray, i/10)\n",
    "    \n",
    "N = len(F200W_smoothedarray)/10\n",
    "\n",
    "F200W_downsizedarray = F200W_smoothedarray[::math.ceil(N)]\n",
    "    \n",
    "F200W_downsizedarray = F200W_downsizedarray/filter_r\n",
    "\n",
    "with open('/storage/home/hcoda1/7/shardin31/p-jw254-0/Research/Powderday/powderday/filters/mean_throughputs_downsized/F200W_downsized.txt', 'w') as f:\n",
    "    f.write('\\n'.join('\\t'.join('%0.8f' %x for x in y) for y in F200W_downsizedarray))"
   ]
  },
  {
   "cell_type": "code",
   "execution_count": 31,
   "id": "d547bb63",
   "metadata": {},
   "outputs": [],
   "source": [
    "F277W = []\n",
    "\n",
    "with open('/storage/home/hcoda1/7/shardin31/p-jw254-0/Research/Powderday/powderday/filters/mean_throughputs/F277W_mean_system_throughput.txt', 'r') as f:\n",
    "    F277W = [[float(x) for x in line.split()] for line in f]\n",
    "    \n",
    "F277W_nparray = np.asarray(F277W)\n",
    "\n",
    "i = len(F277W_nparray)\n",
    "\n",
    "F277W_smoothedarray = gaussian_filter(F277W_nparray, i/10)\n",
    "\n",
    "N = len(F277W_smoothedarray)/10\n",
    "\n",
    "F277W_downsizedarray = F277W_smoothedarray[::math.ceil(N)]\n",
    "    \n",
    "F277W_downsizedarray = F277W_downsizedarray/filter_r\n",
    "\n",
    "    \n",
    "with open('/storage/home/hcoda1/7/shardin31/p-jw254-0/Research/Powderday/powderday/filters/mean_throughputs_downsized/F277W_downsized.txt', 'w') as f:\n",
    "    f.write('\\n'.join('\\t'.join('%0.8f' %x for x in y) for y in F277W_downsizedarray))"
   ]
  },
  {
   "cell_type": "code",
   "execution_count": 27,
   "id": "a87c5a73",
   "metadata": {},
   "outputs": [
    {
     "name": "stdout",
     "output_type": "stream",
     "text": [
      "ColDefs(\n",
      "    name = 'WAVELENGTH'; format = 'E'; unit = 'MICRONS'\n",
      "    name = 'THROUGHPUT'; format = 'E'; unit = 'UNITLESS'\n",
      ")\n",
      "[0.350328 0.      ]\n"
     ]
    }
   ],
   "source": [
    "F110W = []\n",
    "\n",
    "with fits.open('/storage/home/hcoda1/7/shardin31/p-jw254-0/Research/Powderday/powderday/filters/mean_throughputs/jwst_nirspec_f110w_trans.fits') as f:\n",
    "    print(f[1].columns)\n",
    "    for row in f[1].data:\n",
    "        F110W.append(list(row))\n",
    "    \n",
    "F110W_nparray = np.asarray(F110W)\n",
    "\n",
    "print(F110W_nparray[0])\n",
    "\n",
    "i = len(F110W_nparray)\n",
    "\n",
    "F110W_smoothedarray = gaussian_filter(F110W_nparray, i/10)\n",
    "\n",
    "N = len(F110W_smoothedarray)/10\n",
    "\n",
    "F110W_downsizedarray = F110W_smoothedarray[::math.ceil(N)]\n",
    "    \n",
    "F110W_downsizedarray = F110W_downsizedarray/filter_r\n",
    "\n",
    "with open('/storage/home/hcoda1/7/shardin31/p-jw254-0/Research/Powderday/powderday/filters/mean_throughputs_downsized/F110W_downsized.txt', 'w') as f:\n",
    "    f.write('\\n'.join('\\t'.join('%0.8f' %x for x in y) for y in F110W_downsizedarray))"
   ]
  },
  {
   "cell_type": "code",
   "execution_count": 16,
   "id": "b98b3f03",
   "metadata": {},
   "outputs": [
    {
     "name": "stdout",
     "output_type": "stream",
     "text": [
      "20\n",
      "20\n"
     ]
    }
   ],
   "source": [
    "print(F070W_downsizedarray.size)\n",
    "\n",
    "print(F277W_downsizedarray.size)"
   ]
  },
  {
   "cell_type": "code",
   "execution_count": 17,
   "id": "0085e342",
   "metadata": {},
   "outputs": [
    {
     "data": {
      "text/plain": [
       "608"
      ]
     },
     "execution_count": 17,
     "metadata": {},
     "output_type": "execute_result"
    }
   ],
   "source": [
    "F070W_smoothedarray.size"
   ]
  },
  {
   "cell_type": "code",
   "execution_count": 18,
   "id": "5be174a5",
   "metadata": {},
   "outputs": [
    {
     "data": {
      "text/plain": [
       "608"
      ]
     },
     "execution_count": 18,
     "metadata": {},
     "output_type": "execute_result"
    }
   ],
   "source": [
    "F070W_nparray.size"
   ]
  },
  {
   "cell_type": "code",
   "execution_count": 19,
   "id": "618f9478",
   "metadata": {},
   "outputs": [
    {
     "name": "stdout",
     "output_type": "stream",
     "text": [
      "20\n",
      "20\n",
      "20\n",
      "20\n",
      "20\n",
      "20\n",
      "20\n",
      "20\n"
     ]
    }
   ],
   "source": [
    "print(F070W_downsizedarray.size)\n",
    "print(F090W_downsizedarray.size)\n",
    "print(F115W_downsizedarray.size)\n",
    "print(F356W_downsizedarray.size)\n",
    "print(F150W_downsizedarray.size)\n",
    "print(F444W_downsizedarray.size)\n",
    "print(F200W_downsizedarray.size)\n",
    "print(F277W_downsizedarray.size)"
   ]
  },
  {
   "cell_type": "code",
   "execution_count": 51,
   "id": "7d27253f",
   "metadata": {},
   "outputs": [
    {
     "name": "stdout",
     "output_type": "stream",
     "text": [
      "61.8\n",
      "62\n"
     ]
    }
   ],
   "source": [
    "N = len(F200W_smoothedarray)/10\n",
    "print(N)\n",
    "print(math.ceil(N))"
   ]
  },
  {
   "cell_type": "code",
   "execution_count": 43,
   "id": "115b74ad",
   "metadata": {},
   "outputs": [
    {
     "name": "stdout",
     "output_type": "stream",
     "text": [
      "101.0\n"
     ]
    }
   ],
   "source": [
    "N = len(F277W_smoothedarray)/10\n",
    "print(N)"
   ]
  },
  {
   "cell_type": "code",
   "execution_count": null,
   "id": "71340a72",
   "metadata": {},
   "outputs": [],
   "source": []
  }
 ],
 "metadata": {
  "kernelspec": {
   "display_name": "Python 3 (ipykernel)",
   "language": "python",
   "name": "python3"
  },
  "language_info": {
   "codemirror_mode": {
    "name": "ipython",
    "version": 3
   },
   "file_extension": ".py",
   "mimetype": "text/x-python",
   "name": "python",
   "nbconvert_exporter": "python",
   "pygments_lexer": "ipython3",
   "version": "3.9.12"
  }
 },
 "nbformat": 4,
 "nbformat_minor": 5
}
