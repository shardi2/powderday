{
 "cells": [
  {
   "cell_type": "code",
   "execution_count": 1,
   "id": "e9f6ec8a",
   "metadata": {},
   "outputs": [],
   "source": [
    "import h5py\n",
    "import numpy as np\n",
    "import ytree\n",
    "import yt\n",
    "import unyt"
   ]
  },
  {
   "cell_type": "code",
   "execution_count": 2,
   "id": "40ac35aa",
   "metadata": {},
   "outputs": [
    {
     "data": {
      "text/plain": [
       "['scale_factor',\n",
       " 'uid',\n",
       " 'desc_scale',\n",
       " 'desc_uid',\n",
       " 'num_prog',\n",
       " 'pid',\n",
       " 'upid',\n",
       " 'desc_pid',\n",
       " 'phantom',\n",
       " 'sam_Mvir',\n",
       " 'mass',\n",
       " 'virial_radius',\n",
       " 'scale_radius',\n",
       " 'velocity_dispersion',\n",
       " 'mmp?',\n",
       " 'scale_of_last_MM',\n",
       " 'vmax',\n",
       " 'position_x',\n",
       " 'position_y',\n",
       " 'position_z',\n",
       " 'velocity_x',\n",
       " 'velocity_y',\n",
       " 'velocity_z',\n",
       " 'angular_momentum_x',\n",
       " 'angular_momentum_y',\n",
       " 'angular_momentum_z',\n",
       " 'spin_parameter',\n",
       " 'Breadth_first_ID',\n",
       " 'Depth_first_ID',\n",
       " 'Tree_root_ID',\n",
       " 'halo_id',\n",
       " 'Snap_idx',\n",
       " 'Next_coprogenitor_depthfirst_ID',\n",
       " 'Last_progenitor_depthfirst_ID',\n",
       " 'Last_mainleaf_depthfirst_ID',\n",
       " 'Tidal_Force',\n",
       " 'Tidal_ID',\n",
       " 'Rs_Klypin',\n",
       " 'Mvir_all',\n",
       " 'M200b',\n",
       " 'M200c',\n",
       " 'M500c',\n",
       " 'M2500c',\n",
       " 'Xoff',\n",
       " 'Voff',\n",
       " 'Spin_Bullock',\n",
       " 'b_to_a',\n",
       " 'c_to_a',\n",
       " 'A[x]',\n",
       " 'A[y]',\n",
       " 'A[z]',\n",
       " 'b_to_a(500c)',\n",
       " 'c_to_a(500c)',\n",
       " 'A[x](500c)',\n",
       " 'A[y](500c)',\n",
       " 'A[z](500c)',\n",
       " 'T_|U|',\n",
       " 'M_pe_Behroozi',\n",
       " 'M_pe_Diemer',\n",
       " 'Type',\n",
       " 'SM',\n",
       " 'Gas',\n",
       " 'BH_Mass',\n",
       " 'total_stellar_angular_momentum',\n",
       " 'stellar_mass',\n",
       " 'gas_mass',\n",
       " 'total_pop3_mass',\n",
       " 'total_cold_gas_mass',\n",
       " 'total_HI_mass',\n",
       " 'total_HII_mass',\n",
       " 'stellar_mass_10Myr',\n",
       " 'stellar_mass_100Myr']"
      ]
     },
     "execution_count": 2,
     "metadata": {},
     "output_type": "execute_result"
    }
   ],
   "source": [
    "f = h5py.File(\"final_dataset_halo_catalog.hdf5\", \"a\")\n",
    "a = ytree.load('/storage/home/hcoda1/7/shardin31/p-jw254-0/Research/Powderday/powderday/arbor/arbor.h5')\n",
    "a.field_list"
   ]
  },
  {
   "cell_type": "code",
   "execution_count": 3,
   "id": "ef8fab73",
   "metadata": {},
   "outputs": [
    {
     "name": "stderr",
     "output_type": "stream",
     "text": [
      "yt : [INFO     ] 2024-06-12 15:01:26,499 Parameters: current_time              = 75.89987395114\n",
      "yt : [INFO     ] 2024-06-12 15:01:26,502 Parameters: domain_dimensions         = [64 64 64]\n",
      "yt : [INFO     ] 2024-06-12 15:01:26,505 Parameters: domain_left_edge          = [0. 0. 0.]\n",
      "yt : [INFO     ] 2024-06-12 15:01:26,507 Parameters: domain_right_edge         = [1. 1. 1.]\n",
      "yt : [INFO     ] 2024-06-12 15:01:26,509 Parameters: cosmological_simulation   = 1\n",
      "yt : [INFO     ] 2024-06-12 15:01:26,510 Parameters: current_redshift          = 11.181356517874\n",
      "yt : [INFO     ] 2024-06-12 15:01:26,512 Parameters: omega_lambda              = 0.6889\n",
      "yt : [INFO     ] 2024-06-12 15:01:26,514 Parameters: omega_matter              = 0.3111\n",
      "yt : [INFO     ] 2024-06-12 15:01:26,515 Parameters: omega_radiation           = 0\n",
      "yt : [INFO     ] 2024-06-12 15:01:26,517 Parameters: hubble_constant           = 0.6766\n",
      "Parsing Hierarchy : 100%|██████████| 777/777 [00:00<00:00, 14791.94it/s]\n",
      "yt : [INFO     ] 2024-06-12 15:01:26,603 Gathering a field list (this may take a moment.)\n"
     ]
    },
    {
     "data": {
      "text/plain": [
       "[('all', 'creation_time'),\n",
       " ('all', 'dynamical_time'),\n",
       " ('all', 'metallicity_fraction'),\n",
       " ('all', 'particle_index'),\n",
       " ('all', 'particle_mass'),\n",
       " ('all', 'particle_position_x'),\n",
       " ('all', 'particle_position_y'),\n",
       " ('all', 'particle_position_z'),\n",
       " ('all', 'particle_type'),\n",
       " ('all', 'particle_velocity_x'),\n",
       " ('all', 'particle_velocity_y'),\n",
       " ('all', 'particle_velocity_z'),\n",
       " ('enzo', 'DII_Density'),\n",
       " ('enzo', 'DI_Density'),\n",
       " ('enzo', 'Dark_Matter_Density'),\n",
       " ('enzo', 'Density'),\n",
       " ('enzo', 'Electron_Density'),\n",
       " ('enzo', 'GasEnergy'),\n",
       " ('enzo', 'H2II_Density'),\n",
       " ('enzo', 'H2II_kdiss'),\n",
       " ('enzo', 'H2I_Density'),\n",
       " ('enzo', 'H2I_kdiss'),\n",
       " ('enzo', 'HDI_Density'),\n",
       " ('enzo', 'HII_Density'),\n",
       " ('enzo', 'HI_Density'),\n",
       " ('enzo', 'HI_kph'),\n",
       " ('enzo', 'HM_Density'),\n",
       " ('enzo', 'HM_kph'),\n",
       " ('enzo', 'HeIII_Density'),\n",
       " ('enzo', 'HeII_Density'),\n",
       " ('enzo', 'HeII_kph'),\n",
       " ('enzo', 'HeI_Density'),\n",
       " ('enzo', 'HeI_kph'),\n",
       " ('enzo', 'Metal_Density'),\n",
       " ('enzo', 'PhotoGamma'),\n",
       " ('enzo', 'RadAccel1'),\n",
       " ('enzo', 'RadAccel2'),\n",
       " ('enzo', 'RadAccel3'),\n",
       " ('enzo', 'SN_Colour'),\n",
       " ('enzo', 'Temperature'),\n",
       " ('enzo', 'TotalEnergy'),\n",
       " ('enzo', 'x-velocity'),\n",
       " ('enzo', 'y-velocity'),\n",
       " ('enzo', 'z-velocity'),\n",
       " ('io', 'creation_time'),\n",
       " ('io', 'dynamical_time'),\n",
       " ('io', 'metallicity_fraction'),\n",
       " ('io', 'particle_index'),\n",
       " ('io', 'particle_mass'),\n",
       " ('io', 'particle_position_x'),\n",
       " ('io', 'particle_position_y'),\n",
       " ('io', 'particle_position_z'),\n",
       " ('io', 'particle_type'),\n",
       " ('io', 'particle_velocity_x'),\n",
       " ('io', 'particle_velocity_y'),\n",
       " ('io', 'particle_velocity_z'),\n",
       " ('nbody', 'creation_time'),\n",
       " ('nbody', 'dynamical_time'),\n",
       " ('nbody', 'metallicity_fraction'),\n",
       " ('nbody', 'particle_index'),\n",
       " ('nbody', 'particle_mass'),\n",
       " ('nbody', 'particle_position_x'),\n",
       " ('nbody', 'particle_position_y'),\n",
       " ('nbody', 'particle_position_z'),\n",
       " ('nbody', 'particle_type'),\n",
       " ('nbody', 'particle_velocity_x'),\n",
       " ('nbody', 'particle_velocity_y'),\n",
       " ('nbody', 'particle_velocity_z')]"
      ]
     },
     "execution_count": 3,
     "metadata": {},
     "output_type": "execute_result"
    }
   ],
   "source": [
    "filename = '/storage/home/hcoda1/0/jw254/data/SG64-2020/DD0125/output_0125'\n",
    "ds = yt.load(filename)\n",
    "\n",
    "def p2(pfilter, data):\n",
    "    return (data[('nbody', 'particle_type')] == 7)\n",
    "yt.add_particle_filter(function=p2, name='p2', requires=['particle_mass', 'particle_type'])\n",
    "\n",
    "ds.add_particle_filter(\"p2\")\n",
    "\n",
    "def p3(pfilter, data):\n",
    "    return ((data[('nbody', 'particle_type')] == 5) & (data[('nbody', 'particle_mass')].in_units('Msun') < 1e-10)) \\\n",
    "        |  ((data[('nbody', 'particle_type')] == 1) & (data[('nbody', 'creation_time')] > 0) & \\\n",
    "            (data[('nbody', 'particle_mass')].in_units('Msun') > 1)) \\\n",
    "        |  ((data[('nbody', 'particle_type')] == 5) & (data[('nbody', 'particle_mass')].in_units('Msun') > 1e-3))\n",
    "yt.add_particle_filter(function=p3, name='p3',\n",
    "                requires=['particle_mass', 'particle_type', 'creation_time'])\n",
    "\n",
    "ds.add_particle_filter(\"p3\")\n",
    "\n",
    "def p3_bh(pfilter, data):\n",
    "    return (data[('nbody', 'particle_type')] == 1) & (data[('nbody', 'creation_time')] > 0) & \\\n",
    "        (data[('nbody', 'particle_mass')].in_units('Msun') > 1e-3)\n",
    "yt.add_particle_filter(function=p3_bh, name='p3_bh', requires=['creation_time', 'particle_mass', 'particle_type'])\n",
    "\n",
    "ds.add_particle_filter(\"p3_bh\")\n",
    "\n",
    "ds.field_list"
   ]
  },
  {
   "cell_type": "code",
   "execution_count": 4,
   "id": "280079bd",
   "metadata": {},
   "outputs": [],
   "source": [
    "def halo_exists(halo_name, file):\n",
    "    if halo_name in file:\n",
    "        del file[halo_name]\n",
    "        dset = f.create_group(halo_name)\n",
    "        return dset\n",
    "    else:\n",
    "        dset = f.create_group(halo_name)\n",
    "        return dset"
   ]
  },
  {
   "cell_type": "code",
   "execution_count": 10,
   "id": "daa67848",
   "metadata": {},
   "outputs": [
    {
     "name": "stdout",
     "output_type": "stream",
     "text": [
      "64\n",
      "70\n",
      "93\n",
      "96\n",
      "57\n",
      "64\n",
      "40\n",
      "7\n",
      "15\n",
      "21\n",
      "11\n"
     ]
    }
   ],
   "source": [
    "for i in range(0, a.size, 1):\n",
    "    if a['stellar_mass'][i] != 0:\n",
    "        radius = ds.quan(a['virial_radius'][i], 'kpccm')\n",
    "        radius = radius.to('kpc')\n",
    "        center = a['position'][i]\n",
    "        ad = ds.sphere(center, radius)\n",
    "        \n",
    "        #dset = f.create_group(\"halo_\"+str(i))\n",
    "        dset = halo_exists(\"halo_\"+str(i), f)\n",
    "        \n",
    "        dset.attrs['total_stellar_mass'] = a['stellar_mass'][i]\n",
    "        dset.attrs['virial_radius'] = a['virial_radius'][i]\n",
    "        dset.attrs['total_DM_mass'] = a['mass'][i]\n",
    "        dset.attrs['SFE'] = a['stellar_mass'][i] / a['mass'][i]\n",
    "        dset.attrs['total_gas_mass'] = a['gas_mass'][i]\n",
    "        total_mass = a['mass'][i]+a['gas_mass'][i]+a['stellar_mass'][i]\n",
    "        dset.attrs['total_mass'] = total_mass\n",
    "        dset.attrs['gas_fraction'] = a['gas_mass'][i]/total_mass\n",
    "        dset.attrs['current_redshift'] = ds.current_redshift\n",
    "        dset.attrs['total_pop3'] = ad['p3', 'particle_ones'].sum()\n",
    "        dset.attrs['total_pop3_mass'] = a['total_pop3_mass'][i]\n",
    "        dset.attrs['total_cold_gas_mass'] = a['total_cold_gas_mass'][i]\n",
    "        dset.attrs['total_HI_mass'] = a['total_HI_mass'][i]\n",
    "        dset.attrs['total_HII_mass'] = a['total_HII_mass'][i]\n",
    "        dset.attrs['halo_ID'] = a['halo_id'][i]\n",
    "        dset.attrs['unique_halo_ID'] = a['uid'][i]\n",
    "        dset.attrs['unique_subhalo_ID'] = a['pid'][i]\n",
    "        dset.attrs['unique_desc_halo_ID'] = a['desc_uid'][i]\n",
    "        dset.attrs['unique_desc_subhalo_ID'] = a['desc_pid'][i]\n",
    "        dset.attrs['total_star_particles'] = ad['p2', 'particle_ones'].sum()\n",
    "        dset.attrs['total_bh_particles'] = ad['p3_bh', 'particle_ones'].sum()\n",
    "        dset.attrs['filename'] = filename\n",
    "        SFR_10 = a[\"stellar_mass_10Myr\"][i] / (10 * unyt.Myr)\n",
    "        SFR_100 = a[\"stellar_mass_100Myr\"][i] / (100 * unyt.Myr)\n",
    "        dset.attrs['SFR_10Myr'] = SFR_10\n",
    "        dset.attrs['SFR_100Myr'] = SFR_100\n",
    "        dset.attrs['sSFR_10Myr'] = SFR_10 / a['stellar_mass'][i]\n",
    "        dset.attrs['sSFR_100Myr'] = SFR_100 / a['stellar_mass'][i]\n",
    "        dset.attrs['specific_stellar_angular_momentum'] = a['total_stellar_angular_momentum'][i].to('Msun*pc*km/s') / a['stellar_mass'][i]\n",
    "        dset.attrs['last_major_merger'] = a['scale_of_last_MM'][i]\n",
    "        for x in range(0, a[i]['prog', 'scale_factor'].size, 1):\n",
    "            if a['scale_of_last_MM'][i] == a[i]['prog', 'scale_factor'][x]:\n",
    "                dset.attrs['last_major_merger_halo_mass'] = a['mass'][x]\n",
    "                print(x)\n",
    "        \n",
    "        \n",
    "        dset.create_dataset('position', data=a['position'][i])\n",
    "        dset.create_dataset('angular_momentum', data=a['angular_momentum'][i])\n",
    "        dset.create_dataset('stellar_age', data=ad[\"p2\", \"age\"])\n",
    "        dset.create_dataset('metallicity_fraction', data=ad[\"p2\", \"metallicity_fraction\"])\n",
    "        dset.create_dataset('stellar_masses', data=ad[\"p2\", \"particle_mass\"])\n",
    "        dset.create_dataset('pop3_stellar_masses', data=ad[\"p3\", \"particle_mass\"])\n",
    "        dset.create_dataset('gas_mass', data=ad['gas', 'mass'])\n",
    "        dset.create_dataset('star_particle_IDs', data=ad['p2', 'particle_index'])\n",
    "        dset.create_dataset('bh_particle_IDs', data=ad['p3_bh', 'particle_index'])\n",
    "        dset.create_dataset('stellar_positons', data=ad[\"p2\", \"particle_position\"])\n",
    "        dset.create_dataset('stellar_velocities', data=ad[\"p2\", \"particle_velocity\"])\n",
    "        dset.create_dataset('stellar_angular_momentum', data=ad[\"p2\", \"particle_angular_momentum\"])\n",
    "        \n",
    "        \n",
    "        dset2 = dset.create_group(\"photons_1e4\")\n",
    "        dset2 = dset.create_group('photons_1e5')\n",
    "        dset2 = dset.create_group('photons_1e6')\n",
    "        dset2 = dset.create_group('photons_1e7')\n",
    "#         grp1 = dset2.create_dataset(\"SED\", (10, 10), maxshape=(None, None))\n",
    "#         grp2 = dset2.create_dataset('image', (10, 10), maxshape=(None, None))"
   ]
  },
  {
   "cell_type": "code",
   "execution_count": 14,
   "id": "0e50e8f9",
   "metadata": {},
   "outputs": [
    {
     "data": {
      "text/plain": [
       "<KeysViewHDF5 ['halo_0', 'halo_1', 'halo_13', 'halo_2', 'halo_3', 'halo_32', 'halo_49', 'halo_57', 'halo_63', 'halo_8', 'halo_99']>"
      ]
     },
     "execution_count": 14,
     "metadata": {},
     "output_type": "execute_result"
    }
   ],
   "source": [
    "f.keys()"
   ]
  },
  {
   "cell_type": "code",
   "execution_count": 6,
   "id": "12779542",
   "metadata": {},
   "outputs": [],
   "source": [
    "f.close()"
   ]
  },
  {
   "cell_type": "code",
   "execution_count": 39,
   "id": "06e175a0",
   "metadata": {},
   "outputs": [
    {
     "ename": "ValueError",
     "evalue": "Invalid location identifier (invalid location identifier)",
     "output_type": "error",
     "traceback": [
      "\u001b[0;31m---------------------------------------------------------------------------\u001b[0m",
      "\u001b[0;31mValueError\u001b[0m                                Traceback (most recent call last)",
      "Cell \u001b[0;32mIn[39], line 1\u001b[0m\n\u001b[0;32m----> 1\u001b[0m \u001b[38;5;28;01mdel\u001b[39;00m f[\u001b[38;5;124m'\u001b[39m\u001b[38;5;124mhalo_49\u001b[39m\u001b[38;5;124m'\u001b[39m]\n\u001b[1;32m      2\u001b[0m dset2\u001b[38;5;241m.\u001b[39mname\n",
      "File \u001b[0;32mh5py/_objects.pyx:54\u001b[0m, in \u001b[0;36mh5py._objects.with_phil.wrapper\u001b[0;34m()\u001b[0m\n",
      "File \u001b[0;32mh5py/_objects.pyx:55\u001b[0m, in \u001b[0;36mh5py._objects.with_phil.wrapper\u001b[0;34m()\u001b[0m\n",
      "File \u001b[0;32m~/.conda/envs/pd_environment_3/lib/python3.8/site-packages/h5py/_hl/group.py:489\u001b[0m, in \u001b[0;36mGroup.__delitem__\u001b[0;34m(self, name)\u001b[0m\n\u001b[1;32m    486\u001b[0m \u001b[38;5;129m@with_phil\u001b[39m\n\u001b[1;32m    487\u001b[0m \u001b[38;5;28;01mdef\u001b[39;00m \u001b[38;5;21m__delitem__\u001b[39m(\u001b[38;5;28mself\u001b[39m, name):\n\u001b[1;32m    488\u001b[0m \u001b[38;5;250m    \u001b[39m\u001b[38;5;124;03m\"\"\" Delete (unlink) an item from this group. \"\"\"\u001b[39;00m\n\u001b[0;32m--> 489\u001b[0m     \u001b[38;5;28;43mself\u001b[39;49m\u001b[38;5;241;43m.\u001b[39;49m\u001b[43mid\u001b[49m\u001b[38;5;241;43m.\u001b[39;49m\u001b[43munlink\u001b[49m\u001b[43m(\u001b[49m\u001b[38;5;28;43mself\u001b[39;49m\u001b[38;5;241;43m.\u001b[39;49m\u001b[43m_e\u001b[49m\u001b[43m(\u001b[49m\u001b[43mname\u001b[49m\u001b[43m)\u001b[49m\u001b[43m)\u001b[49m\n",
      "File \u001b[0;32mh5py/_objects.pyx:54\u001b[0m, in \u001b[0;36mh5py._objects.with_phil.wrapper\u001b[0;34m()\u001b[0m\n",
      "File \u001b[0;32mh5py/_objects.pyx:55\u001b[0m, in \u001b[0;36mh5py._objects.with_phil.wrapper\u001b[0;34m()\u001b[0m\n",
      "File \u001b[0;32mh5py/h5g.pyx:309\u001b[0m, in \u001b[0;36mh5py.h5g.GroupID.unlink\u001b[0;34m()\u001b[0m\n",
      "\u001b[0;31mValueError\u001b[0m: Invalid location identifier (invalid location identifier)"
     ]
    }
   ],
   "source": [
    "del f['halo_49']\n",
    "dset2.name"
   ]
  },
  {
   "cell_type": "code",
   "execution_count": 4,
   "id": "fd870aaf",
   "metadata": {},
   "outputs": [
    {
     "data": {
      "text/plain": [
       "unyt_array([10498.53222656,  3535.85205078,  2097.26025391,\n",
       "             1714.16357422,     0.     ,     0.     ,     0.     ,\n",
       "                0.     ,  3232.9921875,     0.     ,     0.     ,\n",
       "                0.     ,     0.     ,  2320.53027344,     0.     ,\n",
       "                0.     ,     0.     ,     0.     ,     0.     ,\n",
       "                0.     ,     0.     ,     0.     ,     0.     ,\n",
       "                0.     ,     0.     ,     0.     ,     0.     ,\n",
       "                0.     ,     0.     ,     0.     ,     0.     ,\n",
       "                0.     ,  1410.24609375,     0.     ,     0.     ,\n",
       "                0.     ,     0.     ,     0.     ,     0.     ,\n",
       "                0.     ,     0.     ,     0.     ,     0.     ,\n",
       "                0.     ,     0.     ,     0.     ,     0.     ,\n",
       "                0.     ,     0.     ,  7978.07763672,     0.     ,\n",
       "                0.     ,     0.     ,     0.     ,     0.     ,\n",
       "                0.     ,     0.     ,   687.01416016,     0.     ,\n",
       "                0.     ,     0.     ,     0.     ,     0.     ,\n",
       "              922.20910645,     0.     ,     0.     ,     0.     ,\n",
       "                0.     ,     0.     ,     0.     ,     0.     ,\n",
       "                0.     ,     0.     ,     0.     ,     0.     ,\n",
       "                0.     ,     0.     ,     0.     ,     0.     ,\n",
       "                0.     ,     0.     ,     0.     ,     0.     ,\n",
       "                0.     ,     0.     ,     0.     ,     0.     ,\n",
       "                0.     ,     0.     ,     0.     ,     0.     ,\n",
       "                0.     ,     0.     ,     0.     ,     0.     ,\n",
       "                0.     ,     0.     ,     0.     ,     0.     ,\n",
       "             1908.19458008,     0.     ,     0.     ,     0.     ,\n",
       "                0.     ,     0.     ,     0.     ,     0.     ,\n",
       "                0.     ,     0.     ,     0.     ,     0.     ,\n",
       "                0.     ,     0.     ,     0.     ,     0.     ,\n",
       "                0.     ,     0.     ,     0.     ,     0.     ,\n",
       "                0.     ,     0.     ,     0.     ,     0.     ,\n",
       "                0.     ,     0.     ,     0.     ,     0.     ,\n",
       "                0.     ,     0.     ,     0.     ,     0.     ,\n",
       "                0.     ,     0.     ,     0.     ,     0.     ,\n",
       "                0.     ,     0.     ,     0.     ,     0.     ,\n",
       "                0.     ,     0.     ,     0.     ,     0.     ,\n",
       "                0.     ,     0.     ,     0.     ,     0.     ,\n",
       "                0.     ,     0.     ,     0.     ,     0.     ,\n",
       "                0.     ,     0.     ,     0.     ,     0.     ,\n",
       "                0.     ,     0.     ,     0.     ,     0.     ,\n",
       "                0.     ,     0.     ,     0.     ,     0.     ,\n",
       "                0.     ,     0.     ,     0.     ,     0.     ,\n",
       "                0.     ,     0.     ,     0.     ,     0.     ,\n",
       "                0.     ,     0.     ,     0.     ,     0.     ,\n",
       "                0.     ,     0.     ,     0.     ,     0.     ,\n",
       "                0.     ,     0.     ,     0.     ,     0.     ,\n",
       "                0.     ,     0.     ,     0.     ,     0.     ,\n",
       "                0.     ,     0.     ,     0.     ,     0.     ,\n",
       "                0.     ,     0.     ,     0.     ,     0.     ,\n",
       "                0.     ,     0.     ,     0.     ,     0.     ,\n",
       "                0.     ,     0.     ,     0.     ,     0.     ],\n",
       "           dtype=float32, units='Msun')"
      ]
     },
     "execution_count": 4,
     "metadata": {},
     "output_type": "execute_result"
    }
   ],
   "source": [
    "a[\"stellar_mass\"]"
   ]
  },
  {
   "cell_type": "code",
   "execution_count": 8,
   "id": "185673a5",
   "metadata": {},
   "outputs": [
    {
     "data": {
      "text/plain": [
       "<HDF5 group \"/halo_0\" (9 members)>"
      ]
     },
     "execution_count": 8,
     "metadata": {},
     "output_type": "execute_result"
    }
   ],
   "source": [
    "f['halo_0/']"
   ]
  },
  {
   "cell_type": "code",
   "execution_count": 22,
   "id": "bda3be21",
   "metadata": {},
   "outputs": [
    {
     "data": {
      "text/plain": [
       "11.181356517874"
      ]
     },
     "execution_count": 22,
     "metadata": {},
     "output_type": "execute_result"
    }
   ],
   "source": [
    "f['halo_0'].attrs['current_redshift']"
   ]
  },
  {
   "cell_type": "code",
   "execution_count": 39,
   "id": "9818fb28",
   "metadata": {},
   "outputs": [
    {
     "data": {
      "text/plain": [
       "420780.38"
      ]
     },
     "execution_count": 39,
     "metadata": {},
     "output_type": "execute_result"
    }
   ],
   "source": [
    "f['halo_1'].attrs['last_major_merger_halo_mass']"
   ]
  },
  {
   "cell_type": "code",
   "execution_count": 11,
   "id": "3cb5293e",
   "metadata": {},
   "outputs": [
    {
     "ename": "KeyError",
     "evalue": "'Unable to open object (message type not found)'",
     "output_type": "error",
     "traceback": [
      "\u001b[0;31m---------------------------------------------------------------------------\u001b[0m",
      "\u001b[0;31mKeyError\u001b[0m                                  Traceback (most recent call last)",
      "Cell \u001b[0;32mIn[11], line 1\u001b[0m\n\u001b[0;32m----> 1\u001b[0m \u001b[38;5;28mprint\u001b[39m(\u001b[43mf\u001b[49m\u001b[43m[\u001b[49m\u001b[38;5;124;43m'\u001b[39;49m\u001b[38;5;124;43mhalo_0/10000\u001b[39;49m\u001b[38;5;124;43m'\u001b[39;49m\u001b[43m]\u001b[49m)\n",
      "File \u001b[0;32mh5py/_objects.pyx:54\u001b[0m, in \u001b[0;36mh5py._objects.with_phil.wrapper\u001b[0;34m()\u001b[0m\n",
      "File \u001b[0;32mh5py/_objects.pyx:55\u001b[0m, in \u001b[0;36mh5py._objects.with_phil.wrapper\u001b[0;34m()\u001b[0m\n",
      "File \u001b[0;32m~/.conda/envs/pd_environment_3/lib/python3.8/site-packages/h5py/_hl/group.py:264\u001b[0m, in \u001b[0;36mGroup.__getitem__\u001b[0;34m(self, name)\u001b[0m\n\u001b[1;32m    262\u001b[0m         \u001b[38;5;28;01mraise\u001b[39;00m \u001b[38;5;167;01mValueError\u001b[39;00m(\u001b[38;5;124m\"\u001b[39m\u001b[38;5;124mInvalid HDF5 object reference\u001b[39m\u001b[38;5;124m\"\u001b[39m)\n\u001b[1;32m    263\u001b[0m \u001b[38;5;28;01melse\u001b[39;00m:\n\u001b[0;32m--> 264\u001b[0m     oid \u001b[38;5;241m=\u001b[39m \u001b[43mh5o\u001b[49m\u001b[38;5;241;43m.\u001b[39;49m\u001b[43mopen\u001b[49m\u001b[43m(\u001b[49m\u001b[38;5;28;43mself\u001b[39;49m\u001b[38;5;241;43m.\u001b[39;49m\u001b[43mid\u001b[49m\u001b[43m,\u001b[49m\u001b[43m \u001b[49m\u001b[38;5;28;43mself\u001b[39;49m\u001b[38;5;241;43m.\u001b[39;49m\u001b[43m_e\u001b[49m\u001b[43m(\u001b[49m\u001b[43mname\u001b[49m\u001b[43m)\u001b[49m\u001b[43m,\u001b[49m\u001b[43m \u001b[49m\u001b[43mlapl\u001b[49m\u001b[38;5;241;43m=\u001b[39;49m\u001b[38;5;28;43mself\u001b[39;49m\u001b[38;5;241;43m.\u001b[39;49m\u001b[43m_lapl\u001b[49m\u001b[43m)\u001b[49m\n\u001b[1;32m    266\u001b[0m otype \u001b[38;5;241m=\u001b[39m h5i\u001b[38;5;241m.\u001b[39mget_type(oid)\n\u001b[1;32m    267\u001b[0m \u001b[38;5;28;01mif\u001b[39;00m otype \u001b[38;5;241m==\u001b[39m h5i\u001b[38;5;241m.\u001b[39mGROUP:\n",
      "File \u001b[0;32mh5py/_objects.pyx:54\u001b[0m, in \u001b[0;36mh5py._objects.with_phil.wrapper\u001b[0;34m()\u001b[0m\n",
      "File \u001b[0;32mh5py/_objects.pyx:55\u001b[0m, in \u001b[0;36mh5py._objects.with_phil.wrapper\u001b[0;34m()\u001b[0m\n",
      "File \u001b[0;32mh5py/h5o.pyx:190\u001b[0m, in \u001b[0;36mh5py.h5o.open\u001b[0;34m()\u001b[0m\n",
      "\u001b[0;31mKeyError\u001b[0m: 'Unable to open object (message type not found)'"
     ]
    }
   ],
   "source": [
    "print(f['halo_0/10000'])"
   ]
  },
  {
   "cell_type": "code",
   "execution_count": 7,
   "id": "29824397",
   "metadata": {},
   "outputs": [
    {
     "data": {
      "text/plain": [
       "unyt_quantity(1.45784584e+63, 'cm**2*g/s')"
      ]
     },
     "execution_count": 7,
     "metadata": {},
     "output_type": "execute_result"
    }
   ],
   "source": [
    "a['total_stellar_angular_momentum'][0]"
   ]
  },
  {
   "cell_type": "code",
   "execution_count": 27,
   "id": "2b599c0f",
   "metadata": {},
   "outputs": [
    {
     "data": {
      "text/plain": [
       "unyt_quantity(5.35592024e+11, 'yr')"
      ]
     },
     "execution_count": 27,
     "metadata": {},
     "output_type": "execute_result"
    }
   ],
   "source": [
    "ds.all_data()[\"age\"][34]"
   ]
  },
  {
   "cell_type": "code",
   "execution_count": 17,
   "id": "dd9b2744",
   "metadata": {},
   "outputs": [
    {
     "data": {
      "text/plain": [
       "<HDF5 group \"/halo_0/photons_1e4\" (0 members)>"
      ]
     },
     "execution_count": 17,
     "metadata": {},
     "output_type": "execute_result"
    }
   ],
   "source": [
    "f['halo_0/photons_1e4']"
   ]
  },
  {
   "cell_type": "code",
   "execution_count": 17,
   "id": "68ba3f1f",
   "metadata": {},
   "outputs": [
    {
     "name": "stdout",
     "output_type": "stream",
     "text": [
      "203\n"
     ]
    }
   ],
   "source": [
    "mass = np.empty(a.size)\n",
    "time = np.empty(a.size)\n",
    "\n",
    "for i in range(0, a.size):\n",
    "    mass[i] = a[i][\"mass\"]\n",
    "    time[i] = a[i][\"time\"]"
   ]
  },
  {
   "cell_type": "code",
   "execution_count": 29,
   "id": "709ca5b4",
   "metadata": {},
   "outputs": [
    {
     "data": {
      "text/plain": [
       "array([0.49441326, 0.51073015, 0.49368903], dtype=float32)"
      ]
     },
     "execution_count": 29,
     "metadata": {},
     "output_type": "execute_result"
    }
   ],
   "source": [
    "f['halo_0/position/'][:]"
   ]
  },
  {
   "cell_type": "code",
   "execution_count": 8,
   "id": "6e79acea",
   "metadata": {},
   "outputs": [
    {
     "data": {
      "text/plain": [
       "203"
      ]
     },
     "execution_count": 8,
     "metadata": {},
     "output_type": "execute_result"
    }
   ],
   "source": [
    "a[\"virial_radius\"].size"
   ]
  },
  {
   "cell_type": "code",
   "execution_count": 9,
   "id": "a6660cfc",
   "metadata": {},
   "outputs": [
    {
     "data": {
      "text/plain": [
       "unyt_array([7.94708800e+07, 4.64824120e+07, 3.14070340e+07,\n",
       "            5.77446050e+06, 3.39787175e+06, 3.28111150e+06,\n",
       "            3.19391075e+06, 2.81998225e+06, 2.20957725e+06,\n",
       "            2.19479750e+06, 2.14898025e+06, 2.03517588e+06,\n",
       "            2.03074188e+06, 1.95536500e+06, 1.91545962e+06,\n",
       "            1.85929650e+06, 1.84747262e+06, 1.75288200e+06,\n",
       "            1.54596512e+06, 1.54596512e+06, 1.53414125e+06,\n",
       "            1.52379538e+06, 1.51049362e+06, 1.43910725e+06,\n",
       "            1.39136862e+06, 1.35973988e+06, 1.34791600e+06,\n",
       "            1.30416788e+06, 1.25051725e+06, 1.20085725e+06,\n",
       "            1.18504288e+06, 1.14528525e+06, 1.13080100e+06,\n",
       "            1.10567538e+06, 1.03414131e+06, 1.01433638e+06,\n",
       "            9.80490688e+05, 9.30978438e+05, 9.13094875e+05,\n",
       "            8.81318375e+05, 8.59444250e+05, 8.47620438e+05,\n",
       "            8.45551250e+05, 8.33727438e+05, 8.29736938e+05,\n",
       "            7.80076875e+05, 7.26426250e+05, 7.18592938e+05,\n",
       "            7.02630812e+05, 6.94649688e+05, 6.60951812e+05,\n",
       "            6.25184750e+05, 6.21342000e+05, 6.19272812e+05,\n",
       "            5.53798375e+05, 5.35914875e+05, 5.31924312e+05,\n",
       "            5.08867875e+05, 5.08128875e+05, 5.08128875e+05,\n",
       "            4.98226406e+05, 4.72361812e+05, 4.68519062e+05,\n",
       "            4.66449906e+05, 4.66449906e+05, 4.64528531e+05,\n",
       "            4.62607156e+05, 4.44575812e+05, 4.44575812e+05,\n",
       "            4.30682812e+05, 4.20780375e+05, 4.04966000e+05,\n",
       "            3.95063562e+05, 3.92994375e+05, 3.91073000e+05,\n",
       "            3.77180000e+05, 3.77180000e+05, 3.67277562e+05,\n",
       "            3.55305938e+05, 3.39343781e+05, 3.31510500e+05,\n",
       "            3.31510500e+05, 3.21608031e+05, 2.89831500e+05,\n",
       "            2.69878812e+05, 2.59976344e+05, 2.55985812e+05,\n",
       "            2.50073891e+05, 2.50073891e+05, 2.50073891e+05,\n",
       "            2.38250078e+05, 2.36180906e+05, 2.32190359e+05,\n",
       "            2.24357078e+05, 2.18297359e+05, 2.14306828e+05,\n",
       "            2.06473547e+05, 2.00413828e+05, 2.00413828e+05,\n",
       "            1.99527047e+05, 1.98492453e+05, 1.98492453e+05,\n",
       "            1.94501922e+05, 1.88590000e+05, 1.86520844e+05,\n",
       "            1.82678094e+05, 1.82678094e+05, 1.82678094e+05,\n",
       "            1.82678094e+05, 1.72627844e+05, 1.68785094e+05,\n",
       "            1.66715938e+05, 1.60804016e+05, 1.58734844e+05,\n",
       "            1.54892109e+05, 1.52822938e+05, 1.50901562e+05,\n",
       "            1.48832391e+05, 1.46881469e+05, 1.44900969e+05,\n",
       "            1.44900969e+05, 1.42920484e+05, 1.34968969e+05,\n",
       "            1.32988469e+05, 1.32988469e+05, 1.29027492e+05,\n",
       "            1.29027492e+05, 1.21075969e+05, 1.21075969e+05,\n",
       "            1.19095477e+05, 1.13139227e+05, 1.13139227e+05,\n",
       "            1.13139227e+05, 1.11158734e+05, 1.11158734e+05,\n",
       "            1.09163461e+05, 1.07182969e+05, 1.03221992e+05,\n",
       "            1.03221992e+05, 1.01226719e+05, 9.92462266e+04,\n",
       "            9.72657422e+04, 9.52704688e+04, 8.93290000e+04,\n",
       "            8.53532344e+04, 8.33727422e+04, 8.33727422e+04,\n",
       "            8.33727422e+04, 7.74164922e+04, 7.34407344e+04,\n",
       "            7.14602422e+04, 7.14602422e+04, 6.94649688e+04,\n",
       "            6.74844844e+04, 6.55039883e+04, 6.35235000e+04,\n",
       "            6.15282305e+04, 5.95477383e+04, 5.95477383e+04,\n",
       "            5.75672461e+04, 5.75672461e+04, 5.75672461e+04,\n",
       "            5.75672461e+04, 5.75672461e+04, 5.35914844e+04,\n",
       "            5.35914844e+04, 5.16109961e+04, 5.16109961e+04,\n",
       "            5.16109961e+04, 5.16109961e+04, 4.96305039e+04,\n",
       "            4.56547422e+04, 4.56547422e+04, 4.56547422e+04,\n",
       "            4.56547422e+04, 4.16789844e+04, 4.16789844e+04,\n",
       "            3.96984922e+04, 3.77180000e+04, 3.57227305e+04,\n",
       "            3.57227305e+04, 3.37422422e+04, 3.17617500e+04,\n",
       "            3.17617500e+04, 3.17617500e+04, 2.97664785e+04,\n",
       "            2.77859883e+04, 2.77859883e+04, 2.77859883e+04,\n",
       "            2.58054980e+04, 2.58054980e+04, 2.38250078e+04,\n",
       "            2.18297363e+04, 1.78687559e+04, 1.58734854e+04,\n",
       "            1.38944727e+04, 1.19095479e+04, 7.93969824e+03,\n",
       "            5.95477393e+03, 5.95477393e+03, 3.96984912e+03,\n",
       "            3.96984912e+03, 3.96984912e+03], dtype=float32, units='Msun')"
      ]
     },
     "execution_count": 9,
     "metadata": {},
     "output_type": "execute_result"
    }
   ],
   "source": [
    "a['mass']"
   ]
  },
  {
   "cell_type": "code",
   "execution_count": 26,
   "id": "d3d03195",
   "metadata": {},
   "outputs": [
    {
     "ename": "KeyError",
     "evalue": "\"Unable to open object (object 'gas_mass' doesn't exist)\"",
     "output_type": "error",
     "traceback": [
      "\u001b[0;31m---------------------------------------------------------------------------\u001b[0m",
      "\u001b[0;31mKeyError\u001b[0m                                  Traceback (most recent call last)",
      "Cell \u001b[0;32mIn[26], line 1\u001b[0m\n\u001b[0;32m----> 1\u001b[0m \u001b[43mf\u001b[49m\u001b[43m[\u001b[49m\u001b[38;5;124;43m'\u001b[39;49m\u001b[38;5;124;43mhalo_0/gas_mass/\u001b[39;49m\u001b[38;5;124;43m'\u001b[39;49m\u001b[43m]\u001b[49m\n",
      "File \u001b[0;32mh5py/_objects.pyx:54\u001b[0m, in \u001b[0;36mh5py._objects.with_phil.wrapper\u001b[0;34m()\u001b[0m\n",
      "File \u001b[0;32mh5py/_objects.pyx:55\u001b[0m, in \u001b[0;36mh5py._objects.with_phil.wrapper\u001b[0;34m()\u001b[0m\n",
      "File \u001b[0;32m~/.conda/envs/pd_environment_3/lib/python3.8/site-packages/h5py/_hl/group.py:357\u001b[0m, in \u001b[0;36mGroup.__getitem__\u001b[0;34m(self, name)\u001b[0m\n\u001b[1;32m    355\u001b[0m         \u001b[38;5;28;01mraise\u001b[39;00m \u001b[38;5;167;01mValueError\u001b[39;00m(\u001b[38;5;124m\"\u001b[39m\u001b[38;5;124mInvalid HDF5 object reference\u001b[39m\u001b[38;5;124m\"\u001b[39m)\n\u001b[1;32m    356\u001b[0m \u001b[38;5;28;01melif\u001b[39;00m \u001b[38;5;28misinstance\u001b[39m(name, (\u001b[38;5;28mbytes\u001b[39m, \u001b[38;5;28mstr\u001b[39m)):\n\u001b[0;32m--> 357\u001b[0m     oid \u001b[38;5;241m=\u001b[39m \u001b[43mh5o\u001b[49m\u001b[38;5;241;43m.\u001b[39;49m\u001b[43mopen\u001b[49m\u001b[43m(\u001b[49m\u001b[38;5;28;43mself\u001b[39;49m\u001b[38;5;241;43m.\u001b[39;49m\u001b[43mid\u001b[49m\u001b[43m,\u001b[49m\u001b[43m \u001b[49m\u001b[38;5;28;43mself\u001b[39;49m\u001b[38;5;241;43m.\u001b[39;49m\u001b[43m_e\u001b[49m\u001b[43m(\u001b[49m\u001b[43mname\u001b[49m\u001b[43m)\u001b[49m\u001b[43m,\u001b[49m\u001b[43m \u001b[49m\u001b[43mlapl\u001b[49m\u001b[38;5;241;43m=\u001b[39;49m\u001b[38;5;28;43mself\u001b[39;49m\u001b[38;5;241;43m.\u001b[39;49m\u001b[43m_lapl\u001b[49m\u001b[43m)\u001b[49m\n\u001b[1;32m    358\u001b[0m \u001b[38;5;28;01melse\u001b[39;00m:\n\u001b[1;32m    359\u001b[0m     \u001b[38;5;28;01mraise\u001b[39;00m \u001b[38;5;167;01mTypeError\u001b[39;00m(\u001b[38;5;124m\"\u001b[39m\u001b[38;5;124mAccessing a group is done with bytes or str, \u001b[39m\u001b[38;5;124m\"\u001b[39m\n\u001b[1;32m    360\u001b[0m                     \u001b[38;5;124m\"\u001b[39m\u001b[38;5;124mnot \u001b[39m\u001b[38;5;132;01m{}\u001b[39;00m\u001b[38;5;124m\"\u001b[39m\u001b[38;5;241m.\u001b[39mformat(\u001b[38;5;28mtype\u001b[39m(name)))\n",
      "File \u001b[0;32mh5py/_objects.pyx:54\u001b[0m, in \u001b[0;36mh5py._objects.with_phil.wrapper\u001b[0;34m()\u001b[0m\n",
      "File \u001b[0;32mh5py/_objects.pyx:55\u001b[0m, in \u001b[0;36mh5py._objects.with_phil.wrapper\u001b[0;34m()\u001b[0m\n",
      "File \u001b[0;32mh5py/h5o.pyx:190\u001b[0m, in \u001b[0;36mh5py.h5o.open\u001b[0;34m()\u001b[0m\n",
      "\u001b[0;31mKeyError\u001b[0m: \"Unable to open object (object 'gas_mass' doesn't exist)\""
     ]
    }
   ],
   "source": [
    "f['halo_0/stellar_age/'][:]"
   ]
  },
  {
   "cell_type": "code",
   "execution_count": 16,
   "id": "0fab3801",
   "metadata": {},
   "outputs": [
    {
     "data": {
      "text/plain": [
       "0.0"
      ]
     },
     "execution_count": 16,
     "metadata": {},
     "output_type": "execute_result"
    }
   ],
   "source": [
    "f['halo_13'].attrs['SFR_10Myr']"
   ]
  },
  {
   "cell_type": "code",
   "execution_count": 21,
   "id": "5aaf8806",
   "metadata": {},
   "outputs": [
    {
     "data": {
      "text/plain": [
       "array([6.62352608e+14, 3.33838606e+14, 3.69972745e+14, 5.70977469e+14,\n",
       "       1.85103319e+35, 3.88832345e+15, 6.77653787e+14, 4.81095204e+14,\n",
       "       8.13495141e+34, 3.57513606e+14, 8.22836639e+34, 8.13494422e+34,\n",
       "       8.22835535e+34, 1.11998571e+35, 5.27115070e+14, 1.78870711e+35,\n",
       "       4.81091817e+14, 3.88834843e+15])"
      ]
     },
     "execution_count": 21,
     "metadata": {},
     "output_type": "execute_result"
    }
   ],
   "source": [
    "f['halo_0/pop3_stellar_masses/'][:]"
   ]
  },
  {
   "cell_type": "code",
   "execution_count": 9,
   "id": "1babbbb1",
   "metadata": {},
   "outputs": [
    {
     "data": {
      "text/plain": [
       "unyt_quantity(403.95914687, 'Msun')"
      ]
     },
     "execution_count": 9,
     "metadata": {},
     "output_type": "execute_result"
    }
   ],
   "source": [
    "a['total_pop3_mass'][0]"
   ]
  },
  {
   "cell_type": "code",
   "execution_count": 11,
   "id": "854b96ee",
   "metadata": {},
   "outputs": [
    {
     "data": {
      "text/plain": [
       "unyt_quantity(10498.53222656, 'Msun')"
      ]
     },
     "execution_count": 11,
     "metadata": {},
     "output_type": "execute_result"
    }
   ],
   "source": [
    "a['stellar_mass'][0]"
   ]
  },
  {
   "cell_type": "code",
   "execution_count": 8,
   "id": "1013c97d",
   "metadata": {},
   "outputs": [
    {
     "data": {
      "text/plain": [
       "6.983542790349967e+25"
      ]
     },
     "execution_count": 8,
     "metadata": {},
     "output_type": "execute_result"
    }
   ],
   "source": [
    "f['halo_0'].attrs['specific_stellar_angular_momentum']"
   ]
  },
  {
   "cell_type": "code",
   "execution_count": 30,
   "id": "4d177c1c",
   "metadata": {},
   "outputs": [
    {
     "ename": "KeyError",
     "evalue": "\"Can't open attribute (can't locate attribute: 'halo_0/SFE')\"",
     "output_type": "error",
     "traceback": [
      "\u001b[0;31m---------------------------------------------------------------------------\u001b[0m",
      "\u001b[0;31mKeyError\u001b[0m                                  Traceback (most recent call last)",
      "Cell \u001b[0;32mIn[30], line 1\u001b[0m\n\u001b[0;32m----> 1\u001b[0m \u001b[43mf\u001b[49m\u001b[38;5;241;43m.\u001b[39;49m\u001b[43mattrs\u001b[49m\u001b[43m[\u001b[49m\u001b[38;5;124;43m'\u001b[39;49m\u001b[38;5;124;43mhalo_0/SFE\u001b[39;49m\u001b[38;5;124;43m'\u001b[39;49m\u001b[43m]\u001b[49m\n",
      "File \u001b[0;32mh5py/_objects.pyx:54\u001b[0m, in \u001b[0;36mh5py._objects.with_phil.wrapper\u001b[0;34m()\u001b[0m\n",
      "File \u001b[0;32mh5py/_objects.pyx:55\u001b[0m, in \u001b[0;36mh5py._objects.with_phil.wrapper\u001b[0;34m()\u001b[0m\n",
      "File \u001b[0;32m~/.conda/envs/pd_environment_3/lib/python3.8/site-packages/h5py/_hl/attrs.py:56\u001b[0m, in \u001b[0;36mAttributeManager.__getitem__\u001b[0;34m(self, name)\u001b[0m\n\u001b[1;32m     52\u001b[0m \u001b[38;5;129m@with_phil\u001b[39m\n\u001b[1;32m     53\u001b[0m \u001b[38;5;28;01mdef\u001b[39;00m \u001b[38;5;21m__getitem__\u001b[39m(\u001b[38;5;28mself\u001b[39m, name):\n\u001b[1;32m     54\u001b[0m \u001b[38;5;250m    \u001b[39m\u001b[38;5;124;03m\"\"\" Read the value of an attribute.\u001b[39;00m\n\u001b[1;32m     55\u001b[0m \u001b[38;5;124;03m    \"\"\"\u001b[39;00m\n\u001b[0;32m---> 56\u001b[0m     attr \u001b[38;5;241m=\u001b[39m \u001b[43mh5a\u001b[49m\u001b[38;5;241;43m.\u001b[39;49m\u001b[43mopen\u001b[49m\u001b[43m(\u001b[49m\u001b[38;5;28;43mself\u001b[39;49m\u001b[38;5;241;43m.\u001b[39;49m\u001b[43m_id\u001b[49m\u001b[43m,\u001b[49m\u001b[43m \u001b[49m\u001b[38;5;28;43mself\u001b[39;49m\u001b[38;5;241;43m.\u001b[39;49m\u001b[43m_e\u001b[49m\u001b[43m(\u001b[49m\u001b[43mname\u001b[49m\u001b[43m)\u001b[49m\u001b[43m)\u001b[49m\n\u001b[1;32m     57\u001b[0m     shape \u001b[38;5;241m=\u001b[39m attr\u001b[38;5;241m.\u001b[39mshape\n\u001b[1;32m     59\u001b[0m     \u001b[38;5;66;03m# shape is None for empty dataspaces\u001b[39;00m\n",
      "File \u001b[0;32mh5py/_objects.pyx:54\u001b[0m, in \u001b[0;36mh5py._objects.with_phil.wrapper\u001b[0;34m()\u001b[0m\n",
      "File \u001b[0;32mh5py/_objects.pyx:55\u001b[0m, in \u001b[0;36mh5py._objects.with_phil.wrapper\u001b[0;34m()\u001b[0m\n",
      "File \u001b[0;32mh5py/h5a.pyx:80\u001b[0m, in \u001b[0;36mh5py.h5a.open\u001b[0;34m()\u001b[0m\n",
      "\u001b[0;31mKeyError\u001b[0m: \"Can't open attribute (can't locate attribute: 'halo_0/SFE')\""
     ]
    }
   ],
   "source": [
    "f.attrs['halo_0/SFR']"
   ]
  },
  {
   "cell_type": "code",
   "execution_count": 14,
   "id": "07a11b85",
   "metadata": {},
   "outputs": [
    {
     "data": {
      "text/plain": [
       "array([-1, -1, -1, -1, -1, -1, -1, -1, -1, -1, -1, -1, -1, -1, -1, -1, -1,\n",
       "       -1, -1, -1, -1, -1, -1, -1, -1, -1, -1, -1, -1, -1, -1, -1, -1, -1,\n",
       "       -1, -1, -1, -1, -1, -1, -1, -1, -1, -1, -1, -1, -1, -1, -1, -1, -1,\n",
       "       -1, -1, -1, -1, -1, -1, -1, -1, -1, -1, -1, -1, -1, -1, -1, -1, -1,\n",
       "       -1, -1, -1, -1, -1, -1, -1, -1, -1, -1, -1, -1, -1, -1, -1, -1, -1,\n",
       "       -1, -1, -1, -1, -1, -1, -1, -1, -1, -1, -1, -1, -1, -1, -1, -1, -1,\n",
       "       -1, -1, -1, -1, -1, -1, -1, -1, -1, -1, -1, -1, -1, -1, -1, -1, -1,\n",
       "       -1, -1, -1, -1, -1, -1, -1, -1, -1, -1, -1, -1, -1, -1, -1, -1, -1,\n",
       "       -1, -1, -1, -1, -1, -1, -1, -1, -1, -1, -1, -1, -1, -1, -1, -1, -1,\n",
       "       -1, -1, -1, -1, -1, -1, -1, -1, -1, -1, -1, -1, -1, -1, -1, -1, -1,\n",
       "       -1, -1, -1, -1, -1, -1, -1, -1, -1, -1, -1, -1, -1, -1, -1, -1, -1,\n",
       "       -1, -1, -1, -1, -1, -1, -1, -1, -1, -1, -1, -1, -1, -1, -1, -1])"
      ]
     },
     "execution_count": 14,
     "metadata": {},
     "output_type": "execute_result"
    }
   ],
   "source": [
    "a[\"desc_uid\"]"
   ]
  },
  {
   "cell_type": "code",
   "execution_count": 10,
   "id": "68fce36b",
   "metadata": {},
   "outputs": [
    {
     "data": {
      "text/plain": [
       "unyt_array([ 99.23255809,  39.94049007,  35.30474612,  48.20399029,\n",
       "             47.51374019,  47.00589892,  45.79622204,  45.13948389,\n",
       "             43.54732764,  42.52933858, 213.22005466], 'Myr')"
      ]
     },
     "execution_count": 10,
     "metadata": {},
     "output_type": "execute_result"
    }
   ],
   "source": [
    "radius = ds.quan(a['virial_radius'][0], 'kpccm')\n",
    "radius = radius.to('kpc')\n",
    "center = a['position'][0]\n",
    "ad = ds.sphere(center, radius)\n",
    "\n",
    "ad['p2', 'age'].to('Myr')"
   ]
  },
  {
   "cell_type": "code",
   "execution_count": 41,
   "id": "935317f7",
   "metadata": {},
   "outputs": [
    {
     "data": {
      "text/plain": [
       "array([738913., 739347., 739348., 739339., 739340., 739341., 739342.,\n",
       "       739343., 739345., 739346., 738872.])"
      ]
     },
     "execution_count": 41,
     "metadata": {},
     "output_type": "execute_result"
    }
   ],
   "source": [
    "f['halo_0/star_particle_IDs'][:]"
   ]
  },
  {
   "cell_type": "code",
   "execution_count": 13,
   "id": "66dffd95",
   "metadata": {},
   "outputs": [
    {
     "data": {
      "text/plain": [
       "26720"
      ]
     },
     "execution_count": 13,
     "metadata": {},
     "output_type": "execute_result"
    }
   ],
   "source": [
    "f['halo_0'].attrs['unique_halo_ID']"
   ]
  },
  {
   "cell_type": "code",
   "execution_count": 31,
   "id": "e314e7f4",
   "metadata": {},
   "outputs": [
    {
     "data": {
      "text/plain": [
       "unyt_quantity(0., dtype=float32, units='Msun')"
      ]
     },
     "execution_count": 31,
     "metadata": {},
     "output_type": "execute_result"
    }
   ],
   "source": [
    "a[\"stellar_mass_10Myr\"][99]"
   ]
  },
  {
   "cell_type": "code",
   "execution_count": 37,
   "id": "1ec7237f",
   "metadata": {},
   "outputs": [
    {
     "data": {
      "text/plain": [
       "array([0.08209, 0.08197, 0.08184, 0.08171, 0.08159, 0.08146, 0.08133,\n",
       "       0.0812 , 0.08108, 0.08095, 0.08082, 0.0807 , 0.08057, 0.08044,\n",
       "       0.08031, 0.08018, 0.08005, 0.07993, 0.0798 , 0.07967, 0.07954,\n",
       "       0.07941, 0.07929, 0.07916, 0.07903, 0.0789 , 0.07877, 0.07864,\n",
       "       0.07851, 0.07838, 0.07825, 0.07812, 0.07799, 0.07786, 0.07773,\n",
       "       0.0776 , 0.07747, 0.07734, 0.07721, 0.07708, 0.07695, 0.07682,\n",
       "       0.07669, 0.07656, 0.07643, 0.0763 , 0.07616, 0.07603, 0.0759 ,\n",
       "       0.07524, 0.07458, 0.07391, 0.07324, 0.07257, 0.0719 , 0.07122,\n",
       "       0.07054, 0.06986, 0.06917, 0.06848, 0.06779, 0.06709, 0.06639,\n",
       "       0.06568, 0.06497, 0.06426, 0.06354, 0.06282, 0.0621 , 0.06137,\n",
       "       0.06063, 0.05989, 0.05915, 0.0584 , 0.05765, 0.05689, 0.05613,\n",
       "       0.05536, 0.05459, 0.05381, 0.05303, 0.05224, 0.05144, 0.05064,\n",
       "       0.04983, 0.04902, 0.0482 , 0.04784, 0.04737, 0.04653, 0.04569,\n",
       "       0.04484], dtype=float32)"
      ]
     },
     "execution_count": 37,
     "metadata": {},
     "output_type": "execute_result"
    }
   ],
   "source": [
    "for x in a[0]['prog', 'scale_factor']:\n",
    "    if x = a['scale']"
   ]
  },
  {
   "cell_type": "code",
   "execution_count": 11,
   "id": "aa11f609",
   "metadata": {},
   "outputs": [
    {
     "name": "stdout",
     "output_type": "stream",
     "text": [
      "0.06063\n",
      "0.06063\n"
     ]
    }
   ],
   "source": [
    "print(a['scale_of_last_MM'][1])\n",
    "print(a[1]['prog', 'scale_factor'][70])"
   ]
  },
  {
   "cell_type": "code",
   "execution_count": null,
   "id": "8d81b3b1",
   "metadata": {},
   "outputs": [],
   "source": []
  }
 ],
 "metadata": {
  "kernelspec": {
   "display_name": "pd_kernel",
   "language": "python",
   "name": "pd_kernel"
  },
  "language_info": {
   "codemirror_mode": {
    "name": "ipython",
    "version": 3
   },
   "file_extension": ".py",
   "mimetype": "text/x-python",
   "name": "python",
   "nbconvert_exporter": "python",
   "pygments_lexer": "ipython3",
   "version": "3.8.11"
  }
 },
 "nbformat": 4,
 "nbformat_minor": 5
}
