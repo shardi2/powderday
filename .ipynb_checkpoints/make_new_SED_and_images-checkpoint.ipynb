{
 "cells": [
  {
   "cell_type": "code",
   "execution_count": 1,
   "id": "fd94b2f3",
   "metadata": {},
   "outputs": [
    {
     "data": {
      "text/plain": [
       "['scale_factor',\n",
       " 'uid',\n",
       " 'desc_scale',\n",
       " 'desc_uid',\n",
       " 'num_prog',\n",
       " 'pid',\n",
       " 'upid',\n",
       " 'desc_pid',\n",
       " 'phantom',\n",
       " 'sam_Mvir',\n",
       " 'mass',\n",
       " 'virial_radius',\n",
       " 'scale_radius',\n",
       " 'velocity_dispersion',\n",
       " 'mmp?',\n",
       " 'scale_of_last_MM',\n",
       " 'vmax',\n",
       " 'position_x',\n",
       " 'position_y',\n",
       " 'position_z',\n",
       " 'velocity_x',\n",
       " 'velocity_y',\n",
       " 'velocity_z',\n",
       " 'angular_momentum_x',\n",
       " 'angular_momentum_y',\n",
       " 'angular_momentum_z',\n",
       " 'spin_parameter',\n",
       " 'Breadth_first_ID',\n",
       " 'Depth_first_ID',\n",
       " 'Tree_root_ID',\n",
       " 'halo_id',\n",
       " 'Snap_idx',\n",
       " 'Next_coprogenitor_depthfirst_ID',\n",
       " 'Last_progenitor_depthfirst_ID',\n",
       " 'Last_mainleaf_depthfirst_ID',\n",
       " 'Tidal_Force',\n",
       " 'Tidal_ID',\n",
       " 'Rs_Klypin',\n",
       " 'Mvir_all',\n",
       " 'M200b',\n",
       " 'M200c',\n",
       " 'M500c',\n",
       " 'M2500c',\n",
       " 'Xoff',\n",
       " 'Voff',\n",
       " 'Spin_Bullock',\n",
       " 'b_to_a',\n",
       " 'c_to_a',\n",
       " 'A[x]',\n",
       " 'A[y]',\n",
       " 'A[z]',\n",
       " 'b_to_a(500c)',\n",
       " 'c_to_a(500c)',\n",
       " 'A[x](500c)',\n",
       " 'A[y](500c)',\n",
       " 'A[z](500c)',\n",
       " 'T_|U|',\n",
       " 'M_pe_Behroozi',\n",
       " 'M_pe_Diemer',\n",
       " 'Type',\n",
       " 'SM',\n",
       " 'Gas',\n",
       " 'BH_Mass',\n",
       " 'stellar_mass']"
      ]
     },
     "execution_count": 1,
     "metadata": {},
     "output_type": "execute_result"
    }
   ],
   "source": [
    "import ytree\n",
    "import os\n",
    "a = ytree.load('/storage/home/hcoda1/7/shardin31/p-jw254-0/Research/Powderday/powderday/arbor/arbor.h5')\n",
    "a.field_list"
   ]
  },
  {
   "cell_type": "code",
   "execution_count": 8,
   "id": "f8efe348",
   "metadata": {},
   "outputs": [],
   "source": [
    "particle_num = 10000000"
   ]
  },
  {
   "cell_type": "code",
   "execution_count": 9,
   "id": "97cb1d23",
   "metadata": {},
   "outputs": [],
   "source": [
    "x = 0\n",
    "for i in range(0, 203, 1):\n",
    "    if a['stellar_mass'][i] != 0:\n",
    "        with open('convenience/sed_plot.py', 'r') as ogfile, open('/storage/home/hcoda1/7/shardin31/p-jw254-0/Research/Powderday/powderday/convenience/sed_plot_'+str(x)+'_'+str(particle_num)+'.py', 'w') as newfile:\n",
    "            for line in ogfile:\n",
    "                if line == \"run = '/storage/home/hcoda1/7/shardin31/p-jw254-0/Research/summer2023/pd_test/run_10000/pd_sed/example.0000.rtout.sed'\\n\":\n",
    "                    output_num = i\n",
    "                    output_num = '{:04d}'.format(output_num)\n",
    "                    newfile.write(\"run = '/storage/home/hcoda1/7/shardin31/p-jw254-0/Research/summer2023/pd_test/run_\"+str(particle_num)+\"/example.\"+str(output_num)+\".rtout.sed'\\n\")\n",
    "                elif line == \"fig.savefig('/storage/home/hcoda1/7/shardin31/p-jw254-0/Research/summer2023/pd_test/run_1000/pd_sed/sed_0000.png')\\n\":\n",
    "                    newfile.write(\"fig.savefig('/storage/home/hcoda1/7/shardin31/p-jw254-0/Research/summer2023/pd_test/run_1000/pd_sed/sed_\"+str(output_num)+\".png')\")\n",
    "                elif line == \"f.create_dataset('halo_0/10000/SED/', data=wav,flux)\":\n",
    "                    newfile.write(\"f.create_dataset('halo_\"+str(i)+\"/\"+str(particle_num)+\"/SED', data=wav,flux)\")\n",
    "                elif line == \"f.create_dataset('halo_0/10000/UV_absolute_mag/', data=absolute_magnitude_UV)\":\n",
    "                    newfile.write(\"f.create_dataset('halo_\"+str(i)+\"/\"+str(particle_num)+\"/UV_absolute_mag/', data=absolute_magnitude_UV)\")\n",
    "                elif line == \"f.create_dataset('halo_0/10000/apparent_magnitude/', data=apparent_magnitude)\":\n",
    "                    newfile.write(\"f.create_dataset('halo_\"+str(i)+\"/\"+str(particle_num)+\"apparent_magnitude/', data=apparent_magnitude)\")\n",
    "                else:\n",
    "                    newfile.write(line)\n",
    "            x += 1"
   ]
  },
  {
   "cell_type": "code",
   "execution_count": 34,
   "id": "78ef9248",
   "metadata": {},
   "outputs": [],
   "source": [
    "x = 0\n",
    "for i in range(0, 203, 1):\n",
    "    if a['stellar_mass'][i] != 0:\n",
    "        with open('convenience/make_image_single_wavelength.py', 'r') as ogfile, open('/storage/home/hcoda1/7/shardin31/p-jw254-0/Research/Powderday/powderday/convenience/make_image_single_wavelength_'+str(x)+'_'+str(particle_num)+'.py', 'w') as newfile:\n",
    "            for line in ogfile:\n",
    "                if line == \"m = ModelOutput('/storage/home/hcoda1/7/shardin31/p-jw254-0/Research/summer2023/pd_test/run_10000/pd_image/example.0000.rtout.image')\\n\":\n",
    "                    output_num = i\n",
    "                    output_num = '{:04d}'.format(output_num)\n",
    "                    newfile.write(\"m = ModelOutput('/storage/home/hcoda1/7/shardin31/p-jw254-0/Research/summer2023/pd_test/run_\"+str(particle_num)+\"/example.\"+str(output_num)+\".rtout.image')\\n\")\n",
    "                elif line == \"fig.savefig('pd_image.png', bbox_inches='tight', dpi=150)\\n\":\n",
    "                    newfile.write(\"fig.savefig('/storage/home/hcoda1/7/shardin31/p-jw254-0/Research/summer2023/pd_test/run_1000/pd_image/pd_image_\"+str(output_num)+\".png', bbox_inches='tight', dpi=150)\")\n",
    "                else:\n",
    "                    newfile.write(line)\n",
    "            newfile.write(\"\\n\\nf.create_dataset('halo_\"+str(i)+\"/\"+str(particle_num)+\"/image', data=final_image_log)\")\n",
    "            x += 1"
   ]
  },
  {
   "cell_type": "code",
   "execution_count": 9,
   "id": "9d81108a",
   "metadata": {},
   "outputs": [],
   "source": [
    "import np\n",
    "filter_directory = '/storage/home/hcoda1/7/shardin31/p-jw254-0/Research/Powderday/powderday/filters/mean_throughputs_downsized/'\n",
    "zero_point = 3.63078e-20\n",
    "micron  = []\n",
    "throughput = []\n",
    "for filters in os.listdir(filter_directory):\n",
    "    f = open(filter_directory + filters, \"r\")\n",
    "    for line in f:\n",
    "        row = line.split()\n",
    "        micron.append(row[:-1])\n",
    "        throughput.append(row[-1])\n",
    "    min_lam = max(wavs.min(), micron.min())\n",
    "    max_lam = min(wavs.max(), micron.max())\n",
    "    min_idx = np.searchsorted(wavs, min_lam, side=\"left\")\n",
    "    max_idx = np.searchsorted(wavs, max_lam, side=\"left\")\n",
    "    lam_clip = wavs[min_idx : max_idx]\n",
    "    throughput_interp = np.interp(lam_clip, micron, throughput)\n",
    "    flux *= throughput_interp\n",
    "    zero_point *= throughput_interp\n",
    "    micron.clear()\n",
    "    throughput.clear()\n",
    "    \n",
    "apparent_magnitude = -2.4 * np.log10(flux / zero_point)"
   ]
  },
  {
   "cell_type": "code",
   "execution_count": null,
   "id": "646d04f1",
   "metadata": {},
   "outputs": [],
   "source": []
  }
 ],
 "metadata": {
  "kernelspec": {
   "display_name": "pd_kernel",
   "language": "python",
   "name": "pd_kernel"
  },
  "language_info": {
   "codemirror_mode": {
    "name": "ipython",
    "version": 3
   },
   "file_extension": ".py",
   "mimetype": "text/x-python",
   "name": "python",
   "nbconvert_exporter": "python",
   "pygments_lexer": "ipython3",
   "version": "3.8.16"
  }
 },
 "nbformat": 4,
 "nbformat_minor": 5
}
