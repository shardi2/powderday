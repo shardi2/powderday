{
 "cells": [
  {
   "cell_type": "code",
   "execution_count": 8,
   "id": "4c1a61cf",
   "metadata": {},
   "outputs": [],
   "source": [
    "x = 20\n",
    "y = 0\n",
    "for i in range(0, 10, 1):\n",
    "    with open('run_all_parameters.sh', 'r') as ogfile, open('run_all_parameters_'+str(i)+'.sh', 'w') as newfile:\n",
    "        for line in ogfile:\n",
    "            if line == 'for i in {0..202..1}\\n' and x != 200:\n",
    "                newfile.write('for i in {'+str(y)+'..'+str(x)+'..1}\\n')\n",
    "                x += 20\n",
    "                y = x - 20\n",
    "            elif line == 'for i in {0..202..1}\\n' and x == 200:\n",
    "                newfile.write('for i in {180..202..1}\\n')\n",
    "            else:\n",
    "                newfile.write(line)"
   ]
  },
  {
   "cell_type": "code",
   "execution_count": 2,
   "id": "10c12b13",
   "metadata": {},
   "outputs": [],
   "source": [
    "particle_num = [10000, 100000, 1000000, 10000000]\n",
    "for i in particle_num:\n",
    "    with open('run_all_parameters.sh', 'r') as ogfile, open('run_all_parameters_'+str(i)+'.sh', 'w') as newfile:\n",
    "        for line in ogfile:\n",
    "            if line == '\\tpython pd_front_end.py /storage/home/hcoda1/7/shardin31/p-jw254-0/Research/Powderday/powderday/ parameters_master_$i parameters_model_$i\\n':\n",
    "                newfile.write('\\tpython pd_front_end.py /storage/home/hcoda1/7/shardin31/p-jw254-0/Research/Powderday/powderday/ parameters_master_${i}_'+str(i)+' parameters_model_${i}_'+str(i)+'\\n')\n",
    "            else:\n",
    "                newfile.write(line)"
   ]
  },
  {
   "cell_type": "code",
   "execution_count": null,
   "id": "27885a3f",
   "metadata": {},
   "outputs": [],
   "source": []
  }
 ],
 "metadata": {
  "kernelspec": {
   "display_name": "Python 3",
   "language": "python",
   "name": "python3"
  },
  "language_info": {
   "codemirror_mode": {
    "name": "ipython",
    "version": 3
   },
   "file_extension": ".py",
   "mimetype": "text/x-python",
   "name": "python",
   "nbconvert_exporter": "python",
   "pygments_lexer": "ipython3",
   "version": "3.8.8"
  }
 },
 "nbformat": 4,
 "nbformat_minor": 5
}
